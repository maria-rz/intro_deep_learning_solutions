{
  "cells": [
    {
      "cell_type": "markdown",
      "metadata": {
        "id": "ItZpaEIFDiRs"
      },
      "source": [
        "It is highly recommended to use a powerful **GPU**, you can use it for free uploading this notebook to [Google Colab](https://colab.research.google.com/notebooks/intro.ipynb).\n",
        "<table align=\"center\">\n",
        " <td align=\"center\"><a target=\"_blank\" href=\"https://colab.research.google.com/github/ezponda/intro_deep_learning_solutions/blob/main/class/Fundamentals/Prevent_Overfitting.ipynb\">\n",
        "        <img src=\"https://i.ibb.co/2P3SLwK/colab.png\"  style=\"padding-bottom:5px;\" />Run in Google Colab</a></td>\n",
        "  <td align=\"center\"><a target=\"_blank\" href=\"https://github.com/ezponda/intro_deep_learning_solutions/blob/main/class/Fundamentals/Prevent_Overfitting.ipynb\">\n",
        "        <img src=\"https://i.ibb.co/xfJbPmL/github.png\"  height=\"70px\" style=\"padding-bottom:5px;\"  />View Source on GitHub</a></td>\n",
        "</table>"
      ]
    },
    {
      "cell_type": "markdown",
      "metadata": {
        "id": "ZYS6IrI1DiRt"
      },
      "source": [
        "# Prevent Overfitting: Regularization\n"
      ]
    },
    {
      "cell_type": "code",
      "execution_count": 1,
      "metadata": {
        "id": "5ePrU4pmDiRu"
      },
      "outputs": [],
      "source": [
        "import tensorflow as tf\n",
        "import matplotlib.pyplot as plt\n",
        "import pandas as pd\n",
        "from tensorflow import keras\n",
        "from tensorflow.keras import layers"
      ]
    },
    {
      "cell_type": "markdown",
      "metadata": {
        "id": "EO1eedB9DiRu"
      },
      "source": [
        "We will use the [MNIST dataset](https://en.wikipedia.org/wiki/MNIST_database), consisting of a collection of 28x28 pixel images corresponding in digits from 0 to 9 manuscripts. The purpose of this data set is to train models that recognize handwritten numbers.\n",
        "\n",
        "We will train, therefore, an [OCR (Optical Character Recognition)](https://en.wikipedia.org/wiki/Optical_character_recognition) model for multiclass classification (numbers from 0 to 9)."
      ]
    },
    {
      "cell_type": "code",
      "execution_count": 2,
      "metadata": {
        "colab": {
          "base_uri": "https://localhost:8080/"
        },
        "id": "ZDQOXXlKDiRv",
        "outputId": "63c98cfa-67cd-4aa2-c6e8-053ec2768648"
      },
      "outputs": [
        {
          "output_type": "stream",
          "name": "stdout",
          "text": [
            "Downloading data from https://storage.googleapis.com/tensorflow/tf-keras-datasets/mnist.npz\n",
            "\u001b[1m11490434/11490434\u001b[0m \u001b[32m━━━━━━━━━━━━━━━━━━━━\u001b[0m\u001b[37m\u001b[0m \u001b[1m1s\u001b[0m 0us/step\n"
          ]
        }
      ],
      "source": [
        "mnist = tf.keras.datasets.mnist\n",
        "(x_train, y_train),(x_test, y_test) = mnist.load_data()"
      ]
    },
    {
      "cell_type": "code",
      "execution_count": null,
      "metadata": {
        "id": "INhKNR5iDiRv",
        "outputId": "daf84196-24ce-4f32-eed3-3801f9de391f"
      },
      "outputs": [
        {
          "data": {
            "text/plain": [
              "(28, 28)"
            ]
          },
          "execution_count": 3,
          "metadata": {},
          "output_type": "execute_result"
        }
      ],
      "source": [
        "x_train[0].shape"
      ]
    },
    {
      "cell_type": "markdown",
      "metadata": {
        "id": "AsVEOWniDiRv"
      },
      "source": [
        "As they are 8-bit images, the colors (in this case only one channel, the gray channel) of each pixel are encoded with a value between 0 and 255, with 0 being black and 255 being white. It is usual to normalize the values to work with a range between 0.0 and 1.0."
      ]
    },
    {
      "cell_type": "code",
      "execution_count": 3,
      "metadata": {
        "id": "7XkzQGRLDiRv"
      },
      "outputs": [],
      "source": [
        "x_train, x_test = x_train / 255.0, x_test / 255.0"
      ]
    },
    {
      "cell_type": "markdown",
      "metadata": {
        "id": "BlMuXLCUDiRw"
      },
      "source": [
        "We visualize a random image of the training set."
      ]
    },
    {
      "cell_type": "code",
      "execution_count": 9,
      "metadata": {
        "colab": {
          "base_uri": "https://localhost:8080/",
          "height": 430
        },
        "id": "2M1iuHYoDiRw",
        "outputId": "c7981bb5-b4e0-4e8b-dda6-f81297e2632f"
      },
      "outputs": [
        {
          "output_type": "display_data",
          "data": {
            "text/plain": [
              "<Figure size 640x480 with 1 Axes>"
            ],
            "image/png": "[encoded data removed]"
          },
          "metadata": {}
        }
      ],
      "source": [
        "import numpy as np\n",
        "\n",
        "i = np.random.randint(0, len(x_train))\n",
        "plt.imshow(x_train[i], cmap='gray')\n",
        "plt.show()"
      ]
    },
    {
      "cell_type": "markdown",
      "metadata": {
        "id": "1HrzyLz2DiRw"
      },
      "source": [
        "We reduce the dataset for  inducing more overfitting"
      ]
    },
    {
      "cell_type": "code",
      "execution_count": 10,
      "metadata": {
        "scrolled": true,
        "colab": {
          "base_uri": "https://localhost:8080/"
        },
        "id": "5ESmxvSjDiRw",
        "outputId": "6fef7dc4-511f-4546-b180-20c93e135a26"
      },
      "outputs": [
        {
          "output_type": "execute_result",
          "data": {
            "text/plain": [
              "((1200, 28, 28),\n",
              " (1200,),\n",
              " Counter({np.uint8(2): 119,\n",
              "          np.uint8(8): 117,\n",
              "          np.uint8(6): 118,\n",
              "          np.uint8(9): 119,\n",
              "          np.uint8(3): 123,\n",
              "          np.uint8(4): 117,\n",
              "          np.uint8(0): 119,\n",
              "          np.uint8(7): 125,\n",
              "          np.uint8(5): 108,\n",
              "          np.uint8(1): 135}))"
            ]
          },
          "metadata": {},
          "execution_count": 10
        }
      ],
      "source": [
        "from sklearn.model_selection import train_test_split\n",
        "# split into train test sets\n",
        "_, x, _, y = train_test_split(\n",
        "    x_train, y_train, test_size=0.02, random_state=1, stratify=y_train)\n",
        "\n",
        "num_classes = 10\n",
        "from collections import Counter\n",
        "x.shape, y.shape, Counter(y)"
      ]
    },
    {
      "cell_type": "markdown",
      "metadata": {
        "id": "89Y2oJFHDiRw"
      },
      "source": [
        "#### Why do we need to use regularization?\n",
        "\n",
        "We are going to assign the classes randomly to each image with random shuffle."
      ]
    },
    {
      "cell_type": "code",
      "execution_count": 11,
      "metadata": {
        "colab": {
          "base_uri": "https://localhost:8080/"
        },
        "id": "rQDFE4eCDiRx",
        "outputId": "1c4f58b8-726d-447c-e6e8-9364c13e93f0"
      },
      "outputs": [
        {
          "output_type": "execute_result",
          "data": {
            "text/plain": [
              "(array([2, 8, 6, 9, 3], dtype=uint8), array([1, 9, 0, 7, 2], dtype=uint8))"
            ]
          },
          "metadata": {},
          "execution_count": 11
        }
      ],
      "source": [
        "y_shuffle = np.copy(y)\n",
        "np.random.shuffle(y_shuffle)\n",
        "y[:5], y_shuffle[:5]"
      ]
    },
    {
      "cell_type": "code",
      "execution_count": null,
      "metadata": {
        "id": "UtFwkDFeDiRx",
        "outputId": "ea2fd467-e185-4452-a404-7d9e08e7d80e"
      },
      "outputs": [
        {
          "data": {
            "image/png": "[encoded data removed]",
            "text/plain": [
              "<Figure size 648x648 with 9 Axes>"
            ]
          },
          "metadata": {
            "needs_background": "light"
          },
          "output_type": "display_data"
        }
      ],
      "source": [
        "fig, axes = plt.subplots(3, 3, figsize=(9, 9))\n",
        "axes = axes.ravel()\n",
        "\n",
        "for i in np.arange(0, 9):\n",
        "    ind = np.random.randint(len(y_shuffle))\n",
        "    axes[i].imshow(x[ind].reshape(28, 28))\n",
        "    axes[i].set_title(\n",
        "        f\"Digit = {y_shuffle[ind]}\")\n",
        "    axes[i].axis('off')\n",
        "\n",
        "plt.subplots_adjust(wspace=0.3)"
      ]
    },
    {
      "cell_type": "markdown",
      "metadata": {
        "id": "HAQGzrKNDiRx"
      },
      "source": [
        "Lets build a model for learning the new random classes"
      ]
    },
    {
      "cell_type": "code",
      "execution_count": null,
      "metadata": {
        "id": "fx7oFjN1DiRx"
      },
      "outputs": [],
      "source": [
        "# Input\n",
        "inputs = tf.keras.Input(shape=(28, 28))\n",
        "# Convert the 2D image to a vector\n",
        "flat = layers.Flatten()(inputs)\n",
        "\n",
        "# hidden layer 1\n",
        "l_1 = layers.Dense(64, activation='relu')(flat)\n",
        "# hidden layer 2\n",
        "l_2 = layers.Dense(64, activation='relu')(l_1)\n",
        "# hidden layer 3\n",
        "l_3 = layers.Dense(64, activation='relu')(l_2)\n",
        "\n",
        "# Outputs\n",
        "outputs = layers.Dense(10, activation='softmax')(l_3)\n",
        "\n",
        "# Model definition\n",
        "model = keras.Model(inputs=inputs, outputs=outputs)"
      ]
    },
    {
      "cell_type": "code",
      "execution_count": null,
      "metadata": {
        "id": "b42btFsDDiRx",
        "outputId": "c6ed1a36-7df2-4b6b-bcc5-76f37aed1e85"
      },
      "outputs": [
        {
          "name": "stdout",
          "output_type": "stream",
          "text": [
            "Epoch 1/100\n",
            "19/19 [==============================] - 1s 2ms/step - loss: 2.3128 - accuracy: 0.0886\n",
            "Epoch 2/100\n",
            "19/19 [==============================] - 0s 2ms/step - loss: 2.2684 - accuracy: 0.1760\n",
            "Epoch 3/100\n",
            "19/19 [==============================] - 0s 1ms/step - loss: 2.2393 - accuracy: 0.1954\n",
            "Epoch 4/100\n",
            "19/19 [==============================] - 0s 1ms/step - loss: 2.1949 - accuracy: 0.2535\n",
            "Epoch 5/100\n",
            "19/19 [==============================] - 0s 1ms/step - loss: 2.1381 - accuracy: 0.2746\n",
            "Epoch 6/100\n",
            "19/19 [==============================] - 0s 1ms/step - loss: 2.1021 - accuracy: 0.2779\n",
            "Epoch 7/100\n",
            "19/19 [==============================] - 0s 1ms/step - loss: 2.0034 - accuracy: 0.3316\n",
            "Epoch 8/100\n",
            "19/19 [==============================] - 0s 1ms/step - loss: 1.9496 - accuracy: 0.3486\n",
            "Epoch 9/100\n",
            "19/19 [==============================] - 0s 1ms/step - loss: 1.8615 - accuracy: 0.3569\n",
            "Epoch 10/100\n",
            "19/19 [==============================] - 0s 3ms/step - loss: 1.7434 - accuracy: 0.4351\n",
            "Epoch 11/100\n",
            "19/19 [==============================] - 0s 2ms/step - loss: 1.6573 - accuracy: 0.4530\n",
            "Epoch 12/100\n",
            "19/19 [==============================] - 0s 5ms/step - loss: 1.5611 - accuracy: 0.4802\n",
            "Epoch 13/100\n",
            "19/19 [==============================] - 0s 3ms/step - loss: 1.4897 - accuracy: 0.5218\n",
            "Epoch 14/100\n",
            "19/19 [==============================] - 0s 2ms/step - loss: 1.3414 - accuracy: 0.5881\n",
            "Epoch 15/100\n",
            "19/19 [==============================] - 0s 1ms/step - loss: 1.2678 - accuracy: 0.6190\n",
            "Epoch 16/100\n",
            "19/19 [==============================] - 0s 2ms/step - loss: 1.1612 - accuracy: 0.6573\n",
            "Epoch 17/100\n",
            "19/19 [==============================] - 0s 2ms/step - loss: 1.0696 - accuracy: 0.6937\n",
            "Epoch 18/100\n",
            "19/19 [==============================] - 0s 2ms/step - loss: 0.9396 - accuracy: 0.7505\n",
            "Epoch 19/100\n",
            "19/19 [==============================] - 0s 2ms/step - loss: 0.8836 - accuracy: 0.7754\n",
            "Epoch 20/100\n",
            "19/19 [==============================] - 0s 3ms/step - loss: 0.8126 - accuracy: 0.7782\n",
            "Epoch 21/100\n",
            "19/19 [==============================] - 0s 2ms/step - loss: 0.7369 - accuracy: 0.8052\n",
            "Epoch 22/100\n",
            "19/19 [==============================] - 0s 2ms/step - loss: 0.6616 - accuracy: 0.8298\n",
            "Epoch 23/100\n",
            "19/19 [==============================] - 0s 1ms/step - loss: 0.6071 - accuracy: 0.8405\n",
            "Epoch 24/100\n",
            "19/19 [==============================] - 0s 2ms/step - loss: 0.5339 - accuracy: 0.8720\n",
            "Epoch 25/100\n",
            "19/19 [==============================] - 0s 1ms/step - loss: 0.4765 - accuracy: 0.9057\n",
            "Epoch 26/100\n",
            "19/19 [==============================] - 0s 1ms/step - loss: 0.4401 - accuracy: 0.9088\n",
            "Epoch 27/100\n",
            "19/19 [==============================] - 0s 1ms/step - loss: 0.3822 - accuracy: 0.9307\n",
            "Epoch 28/100\n",
            "19/19 [==============================] - 0s 1ms/step - loss: 0.3779 - accuracy: 0.9197\n",
            "Epoch 29/100\n",
            "19/19 [==============================] - 0s 1ms/step - loss: 0.3201 - accuracy: 0.9315\n",
            "Epoch 30/100\n",
            "19/19 [==============================] - 0s 1ms/step - loss: 0.2929 - accuracy: 0.9380\n",
            "Epoch 31/100\n",
            "19/19 [==============================] - 0s 2ms/step - loss: 0.2520 - accuracy: 0.9551\n",
            "Epoch 32/100\n",
            "19/19 [==============================] - 0s 2ms/step - loss: 0.2240 - accuracy: 0.9681\n",
            "Epoch 33/100\n",
            "19/19 [==============================] - 0s 1ms/step - loss: 0.1986 - accuracy: 0.9690\n",
            "Epoch 34/100\n",
            "19/19 [==============================] - 0s 1ms/step - loss: 0.2002 - accuracy: 0.9666\n",
            "Epoch 35/100\n",
            "19/19 [==============================] - 0s 1ms/step - loss: 0.1684 - accuracy: 0.9747\n",
            "Epoch 36/100\n",
            "19/19 [==============================] - 0s 1ms/step - loss: 0.1591 - accuracy: 0.9778\n",
            "Epoch 37/100\n",
            "19/19 [==============================] - 0s 2ms/step - loss: 0.1223 - accuracy: 0.9892\n",
            "Epoch 38/100\n",
            "19/19 [==============================] - 0s 2ms/step - loss: 0.1348 - accuracy: 0.9722\n",
            "Epoch 39/100\n",
            "19/19 [==============================] - 0s 1ms/step - loss: 0.1184 - accuracy: 0.9863\n",
            "Epoch 40/100\n",
            "19/19 [==============================] - 0s 1ms/step - loss: 0.1039 - accuracy: 0.9847\n",
            "Epoch 41/100\n",
            "19/19 [==============================] - 0s 1ms/step - loss: 0.1007 - accuracy: 0.9910\n",
            "Epoch 42/100\n",
            "19/19 [==============================] - 0s 1ms/step - loss: 0.0887 - accuracy: 0.9892\n",
            "Epoch 43/100\n",
            "19/19 [==============================] - 0s 1ms/step - loss: 0.0773 - accuracy: 0.9936\n",
            "Epoch 44/100\n",
            "19/19 [==============================] - 0s 2ms/step - loss: 0.0681 - accuracy: 0.9962\n",
            "Epoch 45/100\n",
            "19/19 [==============================] - 0s 2ms/step - loss: 0.0583 - accuracy: 0.9984\n",
            "Epoch 46/100\n",
            "19/19 [==============================] - 0s 1ms/step - loss: 0.0633 - accuracy: 0.9989\n",
            "Epoch 47/100\n",
            "19/19 [==============================] - 0s 1ms/step - loss: 0.0600 - accuracy: 0.9949\n",
            "Epoch 48/100\n",
            "19/19 [==============================] - 0s 1ms/step - loss: 0.0472 - accuracy: 0.9987\n",
            "Epoch 49/100\n",
            "19/19 [==============================] - 0s 2ms/step - loss: 0.0490 - accuracy: 0.9965\n",
            "Epoch 50/100\n",
            "19/19 [==============================] - 0s 1ms/step - loss: 0.0501 - accuracy: 0.9990\n",
            "Epoch 51/100\n",
            "19/19 [==============================] - 0s 1ms/step - loss: 0.0458 - accuracy: 0.9993\n",
            "Epoch 52/100\n",
            "19/19 [==============================] - 0s 1ms/step - loss: 0.0363 - accuracy: 0.9998\n",
            "Epoch 53/100\n",
            "19/19 [==============================] - 0s 1ms/step - loss: 0.0358 - accuracy: 1.0000\n",
            "Epoch 54/100\n",
            "19/19 [==============================] - 0s 1ms/step - loss: 0.0301 - accuracy: 1.0000\n",
            "Epoch 55/100\n",
            "19/19 [==============================] - 0s 1ms/step - loss: 0.0261 - accuracy: 0.9998\n",
            "Epoch 56/100\n",
            "19/19 [==============================] - 0s 1ms/step - loss: 0.0297 - accuracy: 0.9977\n",
            "Epoch 57/100\n",
            "19/19 [==============================] - 0s 1ms/step - loss: 0.0228 - accuracy: 1.0000\n",
            "Epoch 58/100\n",
            "19/19 [==============================] - 0s 1ms/step - loss: 0.0223 - accuracy: 1.0000\n",
            "Epoch 59/100\n",
            "19/19 [==============================] - 0s 1ms/step - loss: 0.0246 - accuracy: 1.0000\n",
            "Epoch 60/100\n",
            "19/19 [==============================] - 0s 1ms/step - loss: 0.0190 - accuracy: 1.0000\n",
            "Epoch 61/100\n",
            "19/19 [==============================] - 0s 1ms/step - loss: 0.0174 - accuracy: 1.0000\n",
            "Epoch 62/100\n",
            "19/19 [==============================] - 0s 1ms/step - loss: 0.0177 - accuracy: 1.0000\n",
            "Epoch 63/100\n",
            "19/19 [==============================] - 0s 2ms/step - loss: 0.0167 - accuracy: 1.0000\n",
            "Epoch 64/100\n",
            "19/19 [==============================] - 0s 1ms/step - loss: 0.0149 - accuracy: 1.0000\n",
            "Epoch 65/100\n",
            "19/19 [==============================] - 0s 1ms/step - loss: 0.0157 - accuracy: 1.0000\n",
            "Epoch 66/100\n",
            "19/19 [==============================] - 0s 1ms/step - loss: 0.0151 - accuracy: 1.0000\n",
            "Epoch 67/100\n",
            "19/19 [==============================] - 0s 1ms/step - loss: 0.0127 - accuracy: 1.0000\n",
            "Epoch 68/100\n",
            "19/19 [==============================] - 0s 1ms/step - loss: 0.0118 - accuracy: 1.0000\n",
            "Epoch 69/100\n",
            "19/19 [==============================] - 0s 2ms/step - loss: 0.0126 - accuracy: 1.0000\n",
            "Epoch 70/100\n",
            "19/19 [==============================] - 0s 1ms/step - loss: 0.0105 - accuracy: 1.0000\n",
            "Epoch 71/100\n",
            "19/19 [==============================] - 0s 1ms/step - loss: 0.0104 - accuracy: 1.0000\n",
            "Epoch 72/100\n",
            "19/19 [==============================] - 0s 1ms/step - loss: 0.0100 - accuracy: 1.0000\n",
            "Epoch 73/100\n",
            "19/19 [==============================] - 0s 1ms/step - loss: 0.0091 - accuracy: 1.0000\n",
            "Epoch 74/100\n",
            "19/19 [==============================] - 0s 1ms/step - loss: 0.0086 - accuracy: 1.0000\n",
            "Epoch 75/100\n",
            "19/19 [==============================] - 0s 1ms/step - loss: 0.0082 - accuracy: 1.0000\n",
            "Epoch 76/100\n",
            "19/19 [==============================] - 0s 1ms/step - loss: 0.0081 - accuracy: 1.0000\n",
            "Epoch 77/100\n",
            "19/19 [==============================] - 0s 1ms/step - loss: 0.0078 - accuracy: 1.0000\n",
            "Epoch 78/100\n",
            "19/19 [==============================] - 0s 1ms/step - loss: 0.0067 - accuracy: 1.0000\n",
            "Epoch 79/100\n",
            "19/19 [==============================] - 0s 1ms/step - loss: 0.0066 - accuracy: 1.0000\n",
            "Epoch 80/100\n",
            "19/19 [==============================] - 0s 1ms/step - loss: 0.0066 - accuracy: 1.0000\n",
            "Epoch 81/100\n",
            "19/19 [==============================] - 0s 1ms/step - loss: 0.0070 - accuracy: 1.0000\n",
            "Epoch 82/100\n",
            "19/19 [==============================] - 0s 1ms/step - loss: 0.0063 - accuracy: 1.0000\n",
            "Epoch 83/100\n"
          ]
        },
        {
          "name": "stdout",
          "output_type": "stream",
          "text": [
            "19/19 [==============================] - 0s 1ms/step - loss: 0.0065 - accuracy: 1.0000\n",
            "Epoch 84/100\n",
            "19/19 [==============================] - 0s 1ms/step - loss: 0.0066 - accuracy: 1.0000\n",
            "Epoch 85/100\n",
            "19/19 [==============================] - 0s 1ms/step - loss: 0.0062 - accuracy: 1.0000\n",
            "Epoch 86/100\n",
            "19/19 [==============================] - 0s 1ms/step - loss: 0.0055 - accuracy: 1.0000\n",
            "Epoch 87/100\n",
            "19/19 [==============================] - 0s 1ms/step - loss: 0.0055 - accuracy: 1.0000\n",
            "Epoch 88/100\n",
            "19/19 [==============================] - 0s 1ms/step - loss: 0.0053 - accuracy: 1.0000\n",
            "Epoch 89/100\n",
            "19/19 [==============================] - 0s 1ms/step - loss: 0.0047 - accuracy: 1.0000\n",
            "Epoch 90/100\n",
            "19/19 [==============================] - 0s 1ms/step - loss: 0.0045 - accuracy: 1.0000\n",
            "Epoch 91/100\n",
            "19/19 [==============================] - 0s 1ms/step - loss: 0.0052 - accuracy: 1.0000\n",
            "Epoch 92/100\n",
            "19/19 [==============================] - 0s 1ms/step - loss: 0.0043 - accuracy: 1.0000\n",
            "Epoch 93/100\n",
            "19/19 [==============================] - 0s 1ms/step - loss: 0.0041 - accuracy: 1.0000\n",
            "Epoch 94/100\n",
            "19/19 [==============================] - 0s 1ms/step - loss: 0.0038 - accuracy: 1.0000\n",
            "Epoch 95/100\n",
            "19/19 [==============================] - 0s 1ms/step - loss: 0.0042 - accuracy: 1.0000\n",
            "Epoch 96/100\n",
            "19/19 [==============================] - 0s 1ms/step - loss: 0.0042 - accuracy: 1.0000\n",
            "Epoch 97/100\n",
            "19/19 [==============================] - 0s 1ms/step - loss: 0.0035 - accuracy: 1.0000\n",
            "Epoch 98/100\n",
            "19/19 [==============================] - 0s 1ms/step - loss: 0.0038 - accuracy: 1.0000\n",
            "Epoch 99/100\n",
            "19/19 [==============================] - 0s 1ms/step - loss: 0.0032 - accuracy: 1.0000\n",
            "Epoch 100/100\n",
            "19/19 [==============================] - 0s 1ms/step - loss: 0.0034 - accuracy: 1.0000\n"
          ]
        }
      ],
      "source": [
        "model.compile(optimizer='adam',\n",
        "              loss='sparse_categorical_crossentropy',\n",
        "              metrics=['accuracy'])\n",
        "history = model.fit(\n",
        "    x,\n",
        "    y_shuffle,\n",
        "    batch_size=64,\n",
        "    epochs=100,\n",
        "    shuffle=True\n",
        ")"
      ]
    },
    {
      "cell_type": "code",
      "execution_count": null,
      "metadata": {
        "id": "tl9jZPjEDiRx",
        "outputId": "8b4d4600-7c5e-46fd-fb32-bed0d3638ab1"
      },
      "outputs": [
        {
          "name": "stdout",
          "output_type": "stream",
          "text": [
            "Train Accuracy: 1.0\n"
          ]
        }
      ],
      "source": [
        "results = model.evaluate(x, y_shuffle, verbose=0)\n",
        "print('Train Accuracy: {}'.format(results[1]))"
      ]
    },
    {
      "cell_type": "code",
      "execution_count": null,
      "metadata": {
        "id": "ig0oOtcbDiRx",
        "outputId": "336c5367-0295-440d-c2aa-b7f461cdc794"
      },
      "outputs": [
        {
          "data": {
            "image/png": "[encoded data removed]",
            "text/plain": [
              "<Figure size 648x648 with 9 Axes>"
            ]
          },
          "metadata": {
            "needs_background": "light"
          },
          "output_type": "display_data"
        }
      ],
      "source": [
        "fig, axes = plt.subplots(3, 3, figsize=(9, 9))\n",
        "axes = axes.ravel()\n",
        "\n",
        "for i in np.arange(0, 9):\n",
        "    ind = np.random.randint(len(y_shuffle))\n",
        "    pred_pobs = model.predict(np.expand_dims(x[ind], 0)).flatten()\n",
        "    pred_class = np.argmax(pred_pobs)\n",
        "    prob = np.max(pred_pobs)\n",
        "    axes[i].imshow(x[ind].reshape(28, 28))\n",
        "    axes[i].set_title(\n",
        "        f\"Digit = {y_shuffle[ind]} \\n Prediction={pred_class} , Prob={prob:.4f}\")\n",
        "    axes[i].axis('off')\n",
        "\n",
        "plt.subplots_adjust(wspace=0.5)"
      ]
    },
    {
      "cell_type": "markdown",
      "metadata": {
        "id": "_mefHsKPDiRx"
      },
      "source": [
        "We can see that the model has fully fitted the training set. It practically does not matter what data you introduce into the neural network, it will almost always fit. The objective is not to fit the training set, it is to **GENERALIZE**."
      ]
    },
    {
      "cell_type": "markdown",
      "metadata": {
        "id": "4ybCrKGqDiRy"
      },
      "source": [
        "#### Regularization for preventing overfitting\n",
        "\n",
        "To get the model to **generalize**, we can use one of the numerous regularization techniques"
      ]
    },
    {
      "cell_type": "markdown",
      "metadata": {
        "id": "3lDFMKRVDiRy"
      },
      "source": [
        "We build a model consisting of:\n",
        "\n",
        "- Input with dimension (28,28)\n",
        "- Flatten layer\n",
        "- Dense hidden  layer with 256 neurons and ReLU as activation function\n",
        "- Second dense hidden layer with 128 neurons and ReLU as activation function\n",
        "- Third dense  hidden layer with 128 neurons and ReLU as activation function\n",
        "- Output layer with a single neuron that implements the sigmoid function."
      ]
    },
    {
      "cell_type": "code",
      "execution_count": null,
      "metadata": {
        "id": "EeuhXe7nDiRy"
      },
      "outputs": [],
      "source": [
        "# Input\n",
        "inputs = tf.keras.Input(shape=(28,28), name='input_layer')\n",
        "# Convert the 2D image to a vector\n",
        "flat = layers.Flatten()(inputs)\n",
        "\n",
        "# hidden layer 1\n",
        "l_1 = layers.Dense(256, activation='relu', name='layer_1')(flat)\n",
        "# hidden layer 2\n",
        "l_2 = layers.Dense(128, activation='relu', name='layer_2')(l_1)\n",
        "# hidden layer 3\n",
        "l_3 = layers.Dense(128, activation='relu', name='layer_3')(l_2)\n",
        "\n",
        "# Outputs\n",
        "outputs = layers.Dense(num_classes, activation='softmax', name='output_layer')(l_3)\n",
        "\n",
        "# Model definition\n",
        "model = keras.Model(inputs=inputs, outputs=outputs, name='dont_overfit_model')"
      ]
    },
    {
      "cell_type": "code",
      "execution_count": null,
      "metadata": {
        "id": "XkKWScP-DiRy",
        "outputId": "17f45ef1-4c0c-4397-cc5c-b453185d1fce"
      },
      "outputs": [
        {
          "name": "stdout",
          "output_type": "stream",
          "text": [
            "Model: \"dont_overfit_model\"\n",
            "_________________________________________________________________\n",
            "Layer (type)                 Output Shape              Param #   \n",
            "=================================================================\n",
            "input_layer (InputLayer)     [(None, 28, 28)]          0         \n",
            "_________________________________________________________________\n",
            "flatten_1 (Flatten)          (None, 784)               0         \n",
            "_________________________________________________________________\n",
            "layer_1 (Dense)              (None, 256)               200960    \n",
            "_________________________________________________________________\n",
            "layer_2 (Dense)              (None, 128)               32896     \n",
            "_________________________________________________________________\n",
            "layer_3 (Dense)              (None, 128)               16512     \n",
            "_________________________________________________________________\n",
            "output_layer (Dense)         (None, 10)                1290      \n",
            "=================================================================\n",
            "Total params: 251,658\n",
            "Trainable params: 251,658\n",
            "Non-trainable params: 0\n",
            "_________________________________________________________________\n"
          ]
        }
      ],
      "source": [
        "model.summary()"
      ]
    },
    {
      "cell_type": "markdown",
      "metadata": {
        "id": "9mlUVRndDiRy"
      },
      "source": [
        "We define the following configuration for training:\n",
        "- **optimizer**: adam\n",
        "- **loss function**: binary crossentropy\n",
        "- **metrics**: accuracy"
      ]
    },
    {
      "cell_type": "code",
      "execution_count": null,
      "metadata": {
        "id": "QN_cluXBDiRy"
      },
      "outputs": [],
      "source": [
        "model.compile(optimizer='adam',\n",
        "              loss='sparse_categorical_crossentropy',\n",
        "              metrics=['accuracy'])"
      ]
    },
    {
      "cell_type": "code",
      "execution_count": null,
      "metadata": {
        "id": "C6Gvp7RhDiRy",
        "outputId": "5f42e546-4f54-4d58-809a-b8bd1ea167c3"
      },
      "outputs": [
        {
          "name": "stdout",
          "output_type": "stream",
          "text": [
            "Epoch 1/100\n",
            "15/15 [==============================] - 1s 48ms/step - loss: 2.0489 - accuracy: 0.3437 - val_loss: 1.0391 - val_accuracy: 0.7958\n",
            "Epoch 2/100\n",
            "15/15 [==============================] - 0s 5ms/step - loss: 0.8199 - accuracy: 0.8265 - val_loss: 0.4769 - val_accuracy: 0.8417\n",
            "Epoch 3/100\n",
            "15/15 [==============================] - 0s 4ms/step - loss: 0.3612 - accuracy: 0.8867 - val_loss: 0.3558 - val_accuracy: 0.8792\n",
            "Epoch 4/100\n",
            "15/15 [==============================] - 0s 4ms/step - loss: 0.2224 - accuracy: 0.9406 - val_loss: 0.3313 - val_accuracy: 0.8875\n",
            "Epoch 5/100\n",
            "15/15 [==============================] - 0s 4ms/step - loss: 0.1519 - accuracy: 0.9673 - val_loss: 0.3232 - val_accuracy: 0.9083\n",
            "Epoch 6/100\n",
            "15/15 [==============================] - 0s 4ms/step - loss: 0.1045 - accuracy: 0.9773 - val_loss: 0.3293 - val_accuracy: 0.9000\n",
            "Epoch 7/100\n",
            "15/15 [==============================] - 0s 4ms/step - loss: 0.0862 - accuracy: 0.9806 - val_loss: 0.3155 - val_accuracy: 0.8958\n",
            "Epoch 8/100\n",
            "15/15 [==============================] - 0s 4ms/step - loss: 0.0542 - accuracy: 0.9948 - val_loss: 0.3474 - val_accuracy: 0.9042\n",
            "Epoch 9/100\n",
            "15/15 [==============================] - 0s 4ms/step - loss: 0.0285 - accuracy: 0.9987 - val_loss: 0.3608 - val_accuracy: 0.9000\n",
            "Epoch 10/100\n",
            "15/15 [==============================] - 0s 4ms/step - loss: 0.0207 - accuracy: 1.0000 - val_loss: 0.3995 - val_accuracy: 0.9000\n",
            "Epoch 11/100\n",
            "15/15 [==============================] - 0s 5ms/step - loss: 0.0140 - accuracy: 1.0000 - val_loss: 0.3590 - val_accuracy: 0.8917\n",
            "Epoch 12/100\n",
            "15/15 [==============================] - 0s 4ms/step - loss: 0.0092 - accuracy: 1.0000 - val_loss: 0.3915 - val_accuracy: 0.8917\n",
            "Epoch 13/100\n",
            "15/15 [==============================] - 0s 4ms/step - loss: 0.0085 - accuracy: 1.0000 - val_loss: 0.3696 - val_accuracy: 0.9042\n",
            "Epoch 14/100\n",
            "15/15 [==============================] - 0s 4ms/step - loss: 0.0060 - accuracy: 1.0000 - val_loss: 0.4022 - val_accuracy: 0.9000\n",
            "Epoch 15/100\n",
            "15/15 [==============================] - 0s 4ms/step - loss: 0.0053 - accuracy: 1.0000 - val_loss: 0.3838 - val_accuracy: 0.9000\n",
            "Epoch 16/100\n",
            "15/15 [==============================] - 0s 4ms/step - loss: 0.0043 - accuracy: 1.0000 - val_loss: 0.3993 - val_accuracy: 0.9000\n",
            "Epoch 17/100\n",
            "15/15 [==============================] - 0s 4ms/step - loss: 0.0037 - accuracy: 1.0000 - val_loss: 0.3942 - val_accuracy: 0.8958\n",
            "Epoch 18/100\n",
            "15/15 [==============================] - 0s 4ms/step - loss: 0.0037 - accuracy: 1.0000 - val_loss: 0.4015 - val_accuracy: 0.9000\n",
            "Epoch 19/100\n",
            "15/15 [==============================] - 0s 4ms/step - loss: 0.0033 - accuracy: 1.0000 - val_loss: 0.4044 - val_accuracy: 0.8958\n",
            "Epoch 20/100\n",
            "15/15 [==============================] - 0s 4ms/step - loss: 0.0027 - accuracy: 1.0000 - val_loss: 0.4074 - val_accuracy: 0.9000\n",
            "Epoch 21/100\n",
            "15/15 [==============================] - 0s 4ms/step - loss: 0.0024 - accuracy: 1.0000 - val_loss: 0.4128 - val_accuracy: 0.8958\n",
            "Epoch 22/100\n",
            "15/15 [==============================] - 0s 5ms/step - loss: 0.0022 - accuracy: 1.0000 - val_loss: 0.4102 - val_accuracy: 0.9000\n",
            "Epoch 23/100\n",
            "15/15 [==============================] - 0s 5ms/step - loss: 0.0020 - accuracy: 1.0000 - val_loss: 0.4129 - val_accuracy: 0.8958\n",
            "Epoch 24/100\n",
            "15/15 [==============================] - 0s 5ms/step - loss: 0.0018 - accuracy: 1.0000 - val_loss: 0.4169 - val_accuracy: 0.9000\n",
            "Epoch 25/100\n",
            "15/15 [==============================] - 0s 5ms/step - loss: 0.0017 - accuracy: 1.0000 - val_loss: 0.4167 - val_accuracy: 0.9000\n",
            "Epoch 26/100\n",
            "15/15 [==============================] - 0s 4ms/step - loss: 0.0015 - accuracy: 1.0000 - val_loss: 0.4232 - val_accuracy: 0.9042\n",
            "Epoch 27/100\n",
            "15/15 [==============================] - 0s 5ms/step - loss: 0.0013 - accuracy: 1.0000 - val_loss: 0.4233 - val_accuracy: 0.8958\n",
            "Epoch 28/100\n",
            "15/15 [==============================] - 0s 5ms/step - loss: 0.0013 - accuracy: 1.0000 - val_loss: 0.4252 - val_accuracy: 0.8958\n",
            "Epoch 29/100\n",
            "15/15 [==============================] - 0s 4ms/step - loss: 0.0012 - accuracy: 1.0000 - val_loss: 0.4271 - val_accuracy: 0.9042\n",
            "Epoch 30/100\n",
            "15/15 [==============================] - 0s 7ms/step - loss: 0.0011 - accuracy: 1.0000 - val_loss: 0.4295 - val_accuracy: 0.9042\n",
            "Epoch 31/100\n",
            "15/15 [==============================] - 0s 11ms/step - loss: 9.8400e-04 - accuracy: 1.0000 - val_loss: 0.4307 - val_accuracy: 0.9042\n",
            "Epoch 32/100\n",
            "15/15 [==============================] - 0s 6ms/step - loss: 9.8932e-04 - accuracy: 1.0000 - val_loss: 0.4363 - val_accuracy: 0.9000\n",
            "Epoch 33/100\n",
            "15/15 [==============================] - 0s 5ms/step - loss: 9.4254e-04 - accuracy: 1.0000 - val_loss: 0.4342 - val_accuracy: 0.9042\n",
            "Epoch 34/100\n",
            "15/15 [==============================] - 0s 9ms/step - loss: 8.5200e-04 - accuracy: 1.0000 - val_loss: 0.4363 - val_accuracy: 0.9042\n",
            "Epoch 35/100\n",
            "15/15 [==============================] - 0s 12ms/step - loss: 8.0366e-04 - accuracy: 1.0000 - val_loss: 0.4384 - val_accuracy: 0.9042\n",
            "Epoch 36/100\n",
            "15/15 [==============================] - 0s 5ms/step - loss: 7.6632e-04 - accuracy: 1.0000 - val_loss: 0.4404 - val_accuracy: 0.9042\n",
            "Epoch 37/100\n",
            "15/15 [==============================] - 0s 6ms/step - loss: 7.4034e-04 - accuracy: 1.0000 - val_loss: 0.4428 - val_accuracy: 0.9042\n",
            "Epoch 38/100\n",
            "15/15 [==============================] - 0s 5ms/step - loss: 6.9877e-04 - accuracy: 1.0000 - val_loss: 0.4427 - val_accuracy: 0.9000\n",
            "Epoch 39/100\n",
            "15/15 [==============================] - 0s 5ms/step - loss: 5.9897e-04 - accuracy: 1.0000 - val_loss: 0.4470 - val_accuracy: 0.9042\n",
            "Epoch 40/100\n",
            "15/15 [==============================] - 0s 5ms/step - loss: 6.3219e-04 - accuracy: 1.0000 - val_loss: 0.4464 - val_accuracy: 0.9042\n",
            "Epoch 41/100\n",
            "15/15 [==============================] - 0s 5ms/step - loss: 5.9579e-04 - accuracy: 1.0000 - val_loss: 0.4488 - val_accuracy: 0.9083\n",
            "Epoch 42/100\n",
            "15/15 [==============================] - 0s 6ms/step - loss: 5.3121e-04 - accuracy: 1.0000 - val_loss: 0.4482 - val_accuracy: 0.9042\n",
            "Epoch 43/100\n",
            "15/15 [==============================] - 0s 5ms/step - loss: 5.4003e-04 - accuracy: 1.0000 - val_loss: 0.4516 - val_accuracy: 0.9042\n",
            "Epoch 44/100\n",
            "15/15 [==============================] - 0s 5ms/step - loss: 5.1356e-04 - accuracy: 1.0000 - val_loss: 0.4524 - val_accuracy: 0.9042\n",
            "Epoch 45/100\n",
            "15/15 [==============================] - 0s 8ms/step - loss: 4.8720e-04 - accuracy: 1.0000 - val_loss: 0.4537 - val_accuracy: 0.9000\n",
            "Epoch 46/100\n",
            "15/15 [==============================] - 0s 7ms/step - loss: 4.4570e-04 - accuracy: 1.0000 - val_loss: 0.4571 - val_accuracy: 0.9000\n",
            "Epoch 47/100\n",
            "15/15 [==============================] - 0s 7ms/step - loss: 4.4064e-04 - accuracy: 1.0000 - val_loss: 0.4572 - val_accuracy: 0.9083\n",
            "Epoch 48/100\n",
            "15/15 [==============================] - 0s 7ms/step - loss: 4.2253e-04 - accuracy: 1.0000 - val_loss: 0.4574 - val_accuracy: 0.9000\n",
            "Epoch 49/100\n",
            "15/15 [==============================] - 0s 5ms/step - loss: 4.0588e-04 - accuracy: 1.0000 - val_loss: 0.4589 - val_accuracy: 0.9083\n",
            "Epoch 50/100\n",
            "15/15 [==============================] - 0s 5ms/step - loss: 3.5387e-04 - accuracy: 1.0000 - val_loss: 0.4598 - val_accuracy: 0.9083\n",
            "Epoch 51/100\n",
            "15/15 [==============================] - 0s 4ms/step - loss: 3.8206e-04 - accuracy: 1.0000 - val_loss: 0.4609 - val_accuracy: 0.9042\n",
            "Epoch 52/100\n",
            "15/15 [==============================] - 0s 5ms/step - loss: 3.6940e-04 - accuracy: 1.0000 - val_loss: 0.4651 - val_accuracy: 0.9000\n",
            "Epoch 53/100\n",
            "15/15 [==============================] - 0s 5ms/step - loss: 3.4375e-04 - accuracy: 1.0000 - val_loss: 0.4633 - val_accuracy: 0.9000\n",
            "Epoch 54/100\n",
            "15/15 [==============================] - 0s 5ms/step - loss: 3.4667e-04 - accuracy: 1.0000 - val_loss: 0.4627 - val_accuracy: 0.9083\n",
            "Epoch 55/100\n",
            "15/15 [==============================] - 0s 5ms/step - loss: 2.9521e-04 - accuracy: 1.0000 - val_loss: 0.4676 - val_accuracy: 0.9042\n",
            "Epoch 56/100\n",
            "15/15 [==============================] - 0s 5ms/step - loss: 2.9185e-04 - accuracy: 1.0000 - val_loss: 0.4686 - val_accuracy: 0.9042\n",
            "Epoch 57/100\n",
            "15/15 [==============================] - 0s 4ms/step - loss: 3.0025e-04 - accuracy: 1.0000 - val_loss: 0.4667 - val_accuracy: 0.9042\n"
          ]
        },
        {
          "name": "stdout",
          "output_type": "stream",
          "text": [
            "Epoch 58/100\n",
            "15/15 [==============================] - 0s 5ms/step - loss: 2.5613e-04 - accuracy: 1.0000 - val_loss: 0.4683 - val_accuracy: 0.9042\n",
            "Epoch 59/100\n",
            "15/15 [==============================] - 0s 5ms/step - loss: 2.7530e-04 - accuracy: 1.0000 - val_loss: 0.4711 - val_accuracy: 0.9042\n",
            "Epoch 60/100\n",
            "15/15 [==============================] - 0s 5ms/step - loss: 2.6124e-04 - accuracy: 1.0000 - val_loss: 0.4708 - val_accuracy: 0.9000\n",
            "Epoch 61/100\n",
            "15/15 [==============================] - 0s 5ms/step - loss: 2.2406e-04 - accuracy: 1.0000 - val_loss: 0.4724 - val_accuracy: 0.9042\n",
            "Epoch 62/100\n",
            "15/15 [==============================] - 0s 5ms/step - loss: 2.2677e-04 - accuracy: 1.0000 - val_loss: 0.4739 - val_accuracy: 0.9083\n",
            "Epoch 63/100\n",
            "15/15 [==============================] - 0s 5ms/step - loss: 2.1438e-04 - accuracy: 1.0000 - val_loss: 0.4748 - val_accuracy: 0.9042\n",
            "Epoch 64/100\n",
            "15/15 [==============================] - 0s 5ms/step - loss: 2.1491e-04 - accuracy: 1.0000 - val_loss: 0.4740 - val_accuracy: 0.9042\n",
            "Epoch 65/100\n",
            "15/15 [==============================] - 0s 6ms/step - loss: 2.2138e-04 - accuracy: 1.0000 - val_loss: 0.4766 - val_accuracy: 0.9042\n",
            "Epoch 66/100\n",
            "15/15 [==============================] - 0s 6ms/step - loss: 1.8655e-04 - accuracy: 1.0000 - val_loss: 0.4771 - val_accuracy: 0.9083\n",
            "Epoch 67/100\n",
            "15/15 [==============================] - 0s 5ms/step - loss: 1.9420e-04 - accuracy: 1.0000 - val_loss: 0.4780 - val_accuracy: 0.9083\n",
            "Epoch 68/100\n",
            "15/15 [==============================] - 0s 5ms/step - loss: 2.0774e-04 - accuracy: 1.0000 - val_loss: 0.4774 - val_accuracy: 0.9042\n",
            "Epoch 69/100\n",
            "15/15 [==============================] - 0s 5ms/step - loss: 1.9595e-04 - accuracy: 1.0000 - val_loss: 0.4790 - val_accuracy: 0.9042\n",
            "Epoch 70/100\n",
            "15/15 [==============================] - 0s 5ms/step - loss: 1.8837e-04 - accuracy: 1.0000 - val_loss: 0.4827 - val_accuracy: 0.9083\n",
            "Epoch 71/100\n",
            "15/15 [==============================] - 0s 5ms/step - loss: 1.7458e-04 - accuracy: 1.0000 - val_loss: 0.4806 - val_accuracy: 0.9083\n",
            "Epoch 72/100\n",
            "15/15 [==============================] - 0s 5ms/step - loss: 1.7380e-04 - accuracy: 1.0000 - val_loss: 0.4813 - val_accuracy: 0.9083\n",
            "Epoch 73/100\n",
            "15/15 [==============================] - 0s 5ms/step - loss: 1.7744e-04 - accuracy: 1.0000 - val_loss: 0.4846 - val_accuracy: 0.9042\n",
            "Epoch 74/100\n",
            "15/15 [==============================] - 0s 6ms/step - loss: 1.4948e-04 - accuracy: 1.0000 - val_loss: 0.4820 - val_accuracy: 0.9042\n",
            "Epoch 75/100\n",
            "15/15 [==============================] - 0s 5ms/step - loss: 1.4986e-04 - accuracy: 1.0000 - val_loss: 0.4852 - val_accuracy: 0.9042\n",
            "Epoch 76/100\n",
            "15/15 [==============================] - 0s 5ms/step - loss: 1.4533e-04 - accuracy: 1.0000 - val_loss: 0.4852 - val_accuracy: 0.9083\n",
            "Epoch 77/100\n",
            "15/15 [==============================] - 0s 6ms/step - loss: 1.5464e-04 - accuracy: 1.0000 - val_loss: 0.4862 - val_accuracy: 0.9042\n",
            "Epoch 78/100\n",
            "15/15 [==============================] - 0s 5ms/step - loss: 1.5072e-04 - accuracy: 1.0000 - val_loss: 0.4870 - val_accuracy: 0.9083\n",
            "Epoch 79/100\n",
            "15/15 [==============================] - 0s 6ms/step - loss: 1.4171e-04 - accuracy: 1.0000 - val_loss: 0.4871 - val_accuracy: 0.9042\n",
            "Epoch 80/100\n",
            "15/15 [==============================] - 0s 5ms/step - loss: 1.3633e-04 - accuracy: 1.0000 - val_loss: 0.4881 - val_accuracy: 0.9042\n",
            "Epoch 81/100\n",
            "15/15 [==============================] - 0s 5ms/step - loss: 1.1978e-04 - accuracy: 1.0000 - val_loss: 0.4891 - val_accuracy: 0.9083\n",
            "Epoch 82/100\n",
            "15/15 [==============================] - 0s 5ms/step - loss: 1.3234e-04 - accuracy: 1.0000 - val_loss: 0.4894 - val_accuracy: 0.9083\n",
            "Epoch 83/100\n",
            "15/15 [==============================] - 0s 5ms/step - loss: 1.2132e-04 - accuracy: 1.0000 - val_loss: 0.4913 - val_accuracy: 0.9083\n",
            "Epoch 84/100\n",
            "15/15 [==============================] - 0s 5ms/step - loss: 1.2573e-04 - accuracy: 1.0000 - val_loss: 0.4909 - val_accuracy: 0.9083\n",
            "Epoch 85/100\n",
            "15/15 [==============================] - 0s 5ms/step - loss: 1.2033e-04 - accuracy: 1.0000 - val_loss: 0.4925 - val_accuracy: 0.9083\n",
            "Epoch 86/100\n",
            "15/15 [==============================] - 0s 5ms/step - loss: 1.1197e-04 - accuracy: 1.0000 - val_loss: 0.4928 - val_accuracy: 0.9042\n",
            "Epoch 87/100\n",
            "15/15 [==============================] - 0s 5ms/step - loss: 1.0741e-04 - accuracy: 1.0000 - val_loss: 0.4933 - val_accuracy: 0.9083\n",
            "Epoch 88/100\n",
            "15/15 [==============================] - 0s 5ms/step - loss: 1.1111e-04 - accuracy: 1.0000 - val_loss: 0.4936 - val_accuracy: 0.9083\n",
            "Epoch 89/100\n",
            "15/15 [==============================] - 0s 5ms/step - loss: 1.0637e-04 - accuracy: 1.0000 - val_loss: 0.4950 - val_accuracy: 0.9042\n",
            "Epoch 90/100\n",
            "15/15 [==============================] - 0s 6ms/step - loss: 9.8960e-05 - accuracy: 1.0000 - val_loss: 0.4958 - val_accuracy: 0.9083\n",
            "Epoch 91/100\n",
            "15/15 [==============================] - 0s 5ms/step - loss: 9.8106e-05 - accuracy: 1.0000 - val_loss: 0.4958 - val_accuracy: 0.9042\n",
            "Epoch 92/100\n",
            "15/15 [==============================] - 0s 4ms/step - loss: 9.8398e-05 - accuracy: 1.0000 - val_loss: 0.4958 - val_accuracy: 0.9083\n",
            "Epoch 93/100\n",
            "15/15 [==============================] - 0s 5ms/step - loss: 9.8235e-05 - accuracy: 1.0000 - val_loss: 0.4975 - val_accuracy: 0.9083\n",
            "Epoch 94/100\n",
            "15/15 [==============================] - 0s 5ms/step - loss: 9.5190e-05 - accuracy: 1.0000 - val_loss: 0.4984 - val_accuracy: 0.9042\n",
            "Epoch 95/100\n",
            "15/15 [==============================] - 0s 4ms/step - loss: 9.1455e-05 - accuracy: 1.0000 - val_loss: 0.4992 - val_accuracy: 0.9042\n",
            "Epoch 96/100\n",
            "15/15 [==============================] - 0s 5ms/step - loss: 8.8350e-05 - accuracy: 1.0000 - val_loss: 0.4996 - val_accuracy: 0.9083\n",
            "Epoch 97/100\n",
            "15/15 [==============================] - 0s 5ms/step - loss: 8.1344e-05 - accuracy: 1.0000 - val_loss: 0.5001 - val_accuracy: 0.9083\n",
            "Epoch 98/100\n",
            "15/15 [==============================] - 0s 4ms/step - loss: 8.8437e-05 - accuracy: 1.0000 - val_loss: 0.5003 - val_accuracy: 0.9042\n",
            "Epoch 99/100\n",
            "15/15 [==============================] - 0s 4ms/step - loss: 7.3973e-05 - accuracy: 1.0000 - val_loss: 0.5005 - val_accuracy: 0.9042\n",
            "Epoch 100/100\n",
            "15/15 [==============================] - 0s 5ms/step - loss: 7.9665e-05 - accuracy: 1.0000 - val_loss: 0.5016 - val_accuracy: 0.9042\n"
          ]
        }
      ],
      "source": [
        "history = model.fit(\n",
        "    x,\n",
        "    y,\n",
        "    batch_size=64,\n",
        "    epochs=100,\n",
        "    validation_split=0.2,\n",
        "    shuffle=True\n",
        ")"
      ]
    },
    {
      "cell_type": "code",
      "execution_count": null,
      "metadata": {
        "id": "4HJnOHEPDiRy",
        "outputId": "ead74951-d1db-4467-d8d9-1349fa021857"
      },
      "outputs": [
        {
          "name": "stdout",
          "output_type": "stream",
          "text": [
            "Test Loss: 0.5674472451210022\n",
            "Test Accuracy: 0.904699981212616\n"
          ]
        }
      ],
      "source": [
        "results = model.evaluate(x_test, y_test, verbose=0)\n",
        "print('Test Loss: {}'.format(results[0]))\n",
        "print('Test Accuracy: {}'.format(results[1]))"
      ]
    },
    {
      "cell_type": "markdown",
      "metadata": {
        "id": "DJwIzSCIDiRy"
      },
      "source": [
        "We visualize the evolution of the values in each epoch of the loss function and accuracy."
      ]
    },
    {
      "cell_type": "code",
      "execution_count": null,
      "metadata": {
        "id": "KJeA0UchDiRy"
      },
      "outputs": [],
      "source": [
        "hist = pd.DataFrame(history.history)\n",
        "hist['epoch'] = history.epoch"
      ]
    },
    {
      "cell_type": "code",
      "execution_count": null,
      "metadata": {
        "id": "qZVEBnjwDiRy",
        "outputId": "8c4eae92-6cd1-49ce-d73f-67c9f5fe96c2"
      },
      "outputs": [
        {
          "data": {
            "text/html": [
              "<div>\n",
              "<style scoped>\n",
              "    .dataframe tbody tr th:only-of-type {\n",
              "        vertical-align: middle;\n",
              "    }\n",
              "\n",
              "    .dataframe tbody tr th {\n",
              "        vertical-align: top;\n",
              "    }\n",
              "\n",
              "    .dataframe thead th {\n",
              "        text-align: right;\n",
              "    }\n",
              "</style>\n",
              "<table border=\"1\" class=\"dataframe\">\n",
              "  <thead>\n",
              "    <tr style=\"text-align: right;\">\n",
              "      <th></th>\n",
              "      <th>loss</th>\n",
              "      <th>accuracy</th>\n",
              "      <th>val_loss</th>\n",
              "      <th>val_accuracy</th>\n",
              "      <th>epoch</th>\n",
              "    </tr>\n",
              "  </thead>\n",
              "  <tbody>\n",
              "    <tr>\n",
              "      <th>0</th>\n",
              "      <td>1.795957</td>\n",
              "      <td>0.482292</td>\n",
              "      <td>1.039056</td>\n",
              "      <td>0.795833</td>\n",
              "      <td>0</td>\n",
              "    </tr>\n",
              "    <tr>\n",
              "      <th>1</th>\n",
              "      <td>0.705549</td>\n",
              "      <td>0.823958</td>\n",
              "      <td>0.476901</td>\n",
              "      <td>0.841667</td>\n",
              "      <td>1</td>\n",
              "    </tr>\n",
              "    <tr>\n",
              "      <th>2</th>\n",
              "      <td>0.375348</td>\n",
              "      <td>0.883333</td>\n",
              "      <td>0.355843</td>\n",
              "      <td>0.879167</td>\n",
              "      <td>2</td>\n",
              "    </tr>\n",
              "    <tr>\n",
              "      <th>3</th>\n",
              "      <td>0.218947</td>\n",
              "      <td>0.938542</td>\n",
              "      <td>0.331342</td>\n",
              "      <td>0.887500</td>\n",
              "      <td>3</td>\n",
              "    </tr>\n",
              "    <tr>\n",
              "      <th>4</th>\n",
              "      <td>0.141410</td>\n",
              "      <td>0.968750</td>\n",
              "      <td>0.323241</td>\n",
              "      <td>0.908333</td>\n",
              "      <td>4</td>\n",
              "    </tr>\n",
              "  </tbody>\n",
              "</table>\n",
              "</div>"
            ],
            "text/plain": [
              "       loss  accuracy  val_loss  val_accuracy  epoch\n",
              "0  1.795957  0.482292  1.039056      0.795833      0\n",
              "1  0.705549  0.823958  0.476901      0.841667      1\n",
              "2  0.375348  0.883333  0.355843      0.879167      2\n",
              "3  0.218947  0.938542  0.331342      0.887500      3\n",
              "4  0.141410  0.968750  0.323241      0.908333      4"
            ]
          },
          "execution_count": 19,
          "metadata": {},
          "output_type": "execute_result"
        }
      ],
      "source": [
        "hist.head()"
      ]
    },
    {
      "cell_type": "markdown",
      "metadata": {
        "id": "DUYsGps7DiRz"
      },
      "source": [
        "<a id='overfitting_results'></a>\n",
        "When interpreting both graphs, it is evident that the model over-fits the training values and is not able to generalize well for the validation values. **It is a clear example of overfitting**.\n",
        "\n",
        "The following function will be useful throughout the different practical examples."
      ]
    },
    {
      "cell_type": "code",
      "execution_count": null,
      "metadata": {
        "id": "JRJ_8AYgDiRz"
      },
      "outputs": [],
      "source": [
        "import matplotlib.pyplot as plt\n",
        "\n",
        "def show_loss_accuracy_evolution(history):\n",
        "\n",
        "    hist = pd.DataFrame(history.history)\n",
        "    hist['epoch'] = history.epoch\n",
        "\n",
        "    fig, (ax1, ax2) = plt.subplots(1, 2, figsize=(16, 6))\n",
        "\n",
        "    ax1.set_xlabel('Epoch')\n",
        "    ax1.set_ylabel('Categorical Crossentropy')\n",
        "    ax1.plot(hist['epoch'], hist['loss'], label='Train Error')\n",
        "    ax1.plot(hist['epoch'], hist['val_loss'], label = 'Val Error')\n",
        "    ax1.grid()\n",
        "    ax1.legend()\n",
        "\n",
        "    ax2.set_xlabel('Epoch')\n",
        "    ax2.set_ylabel('Accuracy')\n",
        "    ax2.plot(hist['epoch'], hist['accuracy'], label='Train Accuracy')\n",
        "    ax2.plot(hist['epoch'], hist['val_accuracy'], label = 'Val Accuracy')\n",
        "    ax2.grid()\n",
        "    ax2.legend()\n",
        "\n",
        "    plt.show()\n",
        "\n",
        "def show_samples(x_test, y_test, model):\n",
        "    predictions = model.predict(x_test)\n",
        "    predicted_classes = np.argmax(predictions, -1)\n",
        "\n",
        "    L = 5\n",
        "    W = 5\n",
        "    fig, axes = plt.subplots(L, W, figsize=(14, 14))\n",
        "    axes = axes.ravel()\n",
        "\n",
        "    for i in np.arange(0, L * W):\n",
        "        ind = np.random.randint(len(y_test))\n",
        "        axes[i].imshow(x_test[ind].reshape(28, 28))\n",
        "        prob_pred = np.max(predictions[ind, :])\n",
        "        class_pred = int(predicted_classes[ind])\n",
        "        original_class = int(y_test[ind])\n",
        "        if class_pred == original_class:\n",
        "            color = 'green'\n",
        "        else:\n",
        "            color = 'red'\n",
        "        title = \"Pred: {0} \\n Target: {1} \\n Prob: {2:.3f}\".format(\n",
        "        class_pred, original_class, prob_pred)\n",
        "        axes[i].set_title(title, color=color)\n",
        "        axes[i].axis('off')\n",
        "\n",
        "    plt.subplots_adjust(wspace=0.5)"
      ]
    },
    {
      "cell_type": "code",
      "execution_count": null,
      "metadata": {
        "id": "jrtH48A8DiRz",
        "outputId": "c2836c6c-95fd-4812-eb70-2354aa69265c"
      },
      "outputs": [
        {
          "data": {
            "image/png": "[encoded data removed]",
            "text/plain": [
              "<Figure size 1152x432 with 2 Axes>"
            ]
          },
          "metadata": {
            "needs_background": "light"
          },
          "output_type": "display_data"
        }
      ],
      "source": [
        "show_loss_accuracy_evolution(history)"
      ]
    },
    {
      "cell_type": "code",
      "execution_count": null,
      "metadata": {
        "id": "zYTlhUj4DiRz",
        "outputId": "a24939d5-644a-411a-db5f-7d7229d4db15"
      },
      "outputs": [
        {
          "name": "stdout",
          "output_type": "stream",
          "text": [
            "Test Loss: 0.5674472451210022\n",
            "Test Accuracy: 0.904699981212616\n"
          ]
        }
      ],
      "source": [
        "results = model.evaluate(x_test, y_test, verbose=0)\n",
        "print('Test Loss: {}'.format(results[0]))\n",
        "print('Test Accuracy: {}'.format(results[1]))"
      ]
    },
    {
      "cell_type": "code",
      "execution_count": null,
      "metadata": {
        "id": "4yGVmrklDiRz",
        "outputId": "e02e1d27-199d-49fc-8d5c-1e084f349b39"
      },
      "outputs": [
        {
          "data": {
            "image/png": "[encoded data removed]",
            "text/plain": [
              "<Figure size 1008x1008 with 25 Axes>"
            ]
          },
          "metadata": {
            "needs_background": "light"
          },
          "output_type": "display_data"
        }
      ],
      "source": [
        "show_samples(x_test, y_test, model)"
      ]
    },
    {
      "cell_type": "markdown",
      "metadata": {
        "id": "AyD6s627DiRz"
      },
      "source": [
        "## Create a simpler model\n",
        "\n",
        "The simplest way to prevent overfitting is to create  a simple model: A model with less number of  parameters (which is determined by the number of layers and the number of units per layer).\n",
        "\n",
        "A more complex model with more parameters will have much more capacity and will be able to learn almost any training set. Deep learning models tend to be good at fitting to the training data, but the real challenge is generalization, not fitting."
      ]
    },
    {
      "cell_type": "code",
      "execution_count": null,
      "metadata": {
        "id": "2AfY5F_QDiRz",
        "outputId": "883a2955-b0c5-43a3-8d90-9e7aed7b4c34"
      },
      "outputs": [
        {
          "name": "stdout",
          "output_type": "stream",
          "text": [
            "Model: \"simpler_model\"\n",
            "_________________________________________________________________\n",
            "Layer (type)                 Output Shape              Param #   \n",
            "=================================================================\n",
            "input_layer (InputLayer)     [(None, 28, 28)]          0         \n",
            "_________________________________________________________________\n",
            "flatten_2 (Flatten)          (None, 784)               0         \n",
            "_________________________________________________________________\n",
            "layer_1 (Dense)              (None, 8)                 6280      \n",
            "_________________________________________________________________\n",
            "output_layer (Dense)         (None, 10)                90        \n",
            "=================================================================\n",
            "Total params: 6,370\n",
            "Trainable params: 6,370\n",
            "Non-trainable params: 0\n",
            "_________________________________________________________________\n"
          ]
        }
      ],
      "source": [
        "# Input layer\n",
        "inputs = tf.keras.Input(shape=(28, 28), name='input_layer')\n",
        "flat = layers.Flatten()(inputs)\n",
        "\n",
        "# First hidden layer\n",
        "l_1 = layers.Dense(8, activation='relu', name='layer_1')(flat)\n",
        "\n",
        "# Output layer\n",
        "outputs = layers.Dense(num_classes, activation='softmax',\n",
        "                       name='output_layer')(l_1)\n",
        "model_simpler = keras.Model(\n",
        "    inputs=inputs, outputs=outputs, name='simpler_model')\n",
        "\n",
        "model_simpler.summary()"
      ]
    },
    {
      "cell_type": "code",
      "execution_count": null,
      "metadata": {
        "id": "b4ta_57-DiR7",
        "outputId": "50035135-7bd0-4b57-f5f5-80e597e1c2ee"
      },
      "outputs": [
        {
          "name": "stdout",
          "output_type": "stream",
          "text": [
            "Epoch 1/100\n",
            "15/15 [==============================] - 1s 13ms/step - loss: 2.2804 - accuracy: 0.1137 - val_loss: 2.1162 - val_accuracy: 0.2267\n",
            "Epoch 2/100\n",
            "15/15 [==============================] - 0s 4ms/step - loss: 2.0585 - accuracy: 0.3049 - val_loss: 1.9046 - val_accuracy: 0.4633\n",
            "Epoch 3/100\n",
            "15/15 [==============================] - 0s 4ms/step - loss: 1.8704 - accuracy: 0.4256 - val_loss: 1.7394 - val_accuracy: 0.5267\n",
            "Epoch 4/100\n",
            "15/15 [==============================] - 0s 3ms/step - loss: 1.6965 - accuracy: 0.4862 - val_loss: 1.6007 - val_accuracy: 0.5767\n",
            "Epoch 5/100\n",
            "15/15 [==============================] - 0s 4ms/step - loss: 1.5650 - accuracy: 0.5691 - val_loss: 1.4823 - val_accuracy: 0.6233\n",
            "Epoch 6/100\n",
            "15/15 [==============================] - 0s 4ms/step - loss: 1.4598 - accuracy: 0.5963 - val_loss: 1.3818 - val_accuracy: 0.6800\n",
            "Epoch 7/100\n",
            "15/15 [==============================] - 0s 3ms/step - loss: 1.3167 - accuracy: 0.6555 - val_loss: 1.2863 - val_accuracy: 0.7000\n",
            "Epoch 8/100\n",
            "15/15 [==============================] - 0s 3ms/step - loss: 1.2921 - accuracy: 0.6489 - val_loss: 1.2140 - val_accuracy: 0.7200\n",
            "Epoch 9/100\n",
            "15/15 [==============================] - 0s 7ms/step - loss: 1.1667 - accuracy: 0.7106 - val_loss: 1.1430 - val_accuracy: 0.7533\n",
            "Epoch 10/100\n",
            "15/15 [==============================] - 0s 4ms/step - loss: 1.0985 - accuracy: 0.7258 - val_loss: 1.0769 - val_accuracy: 0.7733\n",
            "Epoch 11/100\n",
            "15/15 [==============================] - 0s 4ms/step - loss: 1.0267 - accuracy: 0.7202 - val_loss: 1.0187 - val_accuracy: 0.7767\n",
            "Epoch 12/100\n",
            "15/15 [==============================] - 0s 3ms/step - loss: 0.9313 - accuracy: 0.7800 - val_loss: 0.9709 - val_accuracy: 0.7900\n",
            "Epoch 13/100\n",
            "15/15 [==============================] - 0s 3ms/step - loss: 0.8839 - accuracy: 0.7978 - val_loss: 0.9248 - val_accuracy: 0.7867\n",
            "Epoch 14/100\n",
            "15/15 [==============================] - 0s 4ms/step - loss: 0.8632 - accuracy: 0.8024 - val_loss: 0.8974 - val_accuracy: 0.8033\n",
            "Epoch 15/100\n",
            "15/15 [==============================] - 0s 4ms/step - loss: 0.7827 - accuracy: 0.8299 - val_loss: 0.8518 - val_accuracy: 0.8067\n",
            "Epoch 16/100\n",
            "15/15 [==============================] - 0s 4ms/step - loss: 0.8013 - accuracy: 0.8113 - val_loss: 0.8293 - val_accuracy: 0.8167\n",
            "Epoch 17/100\n",
            "15/15 [==============================] - 0s 5ms/step - loss: 0.7329 - accuracy: 0.8299 - val_loss: 0.8034 - val_accuracy: 0.8167\n",
            "Epoch 18/100\n",
            "15/15 [==============================] - 0s 4ms/step - loss: 0.7133 - accuracy: 0.8208 - val_loss: 0.7748 - val_accuracy: 0.8167\n",
            "Epoch 19/100\n",
            "15/15 [==============================] - 0s 3ms/step - loss: 0.6751 - accuracy: 0.8332 - val_loss: 0.7383 - val_accuracy: 0.8267\n",
            "Epoch 20/100\n",
            "15/15 [==============================] - 0s 3ms/step - loss: 0.6170 - accuracy: 0.8531 - val_loss: 0.7152 - val_accuracy: 0.8233\n",
            "Epoch 21/100\n",
            "15/15 [==============================] - 0s 3ms/step - loss: 0.5858 - accuracy: 0.8588 - val_loss: 0.6939 - val_accuracy: 0.8267\n",
            "Epoch 22/100\n",
            "15/15 [==============================] - 0s 4ms/step - loss: 0.5466 - accuracy: 0.8691 - val_loss: 0.6738 - val_accuracy: 0.8433\n",
            "Epoch 23/100\n",
            "15/15 [==============================] - 0s 4ms/step - loss: 0.5225 - accuracy: 0.8757 - val_loss: 0.6580 - val_accuracy: 0.8433\n",
            "Epoch 24/100\n",
            "15/15 [==============================] - 0s 3ms/step - loss: 0.4969 - accuracy: 0.8925 - val_loss: 0.6391 - val_accuracy: 0.8433\n",
            "Epoch 25/100\n",
            "15/15 [==============================] - 0s 3ms/step - loss: 0.4667 - accuracy: 0.8942 - val_loss: 0.6243 - val_accuracy: 0.8400\n",
            "Epoch 26/100\n",
            "15/15 [==============================] - 0s 4ms/step - loss: 0.4519 - accuracy: 0.8936 - val_loss: 0.6114 - val_accuracy: 0.8433\n",
            "Epoch 27/100\n",
            "15/15 [==============================] - 0s 3ms/step - loss: 0.4221 - accuracy: 0.9154 - val_loss: 0.6137 - val_accuracy: 0.8533\n",
            "Epoch 28/100\n",
            "15/15 [==============================] - 0s 4ms/step - loss: 0.4127 - accuracy: 0.9125 - val_loss: 0.5937 - val_accuracy: 0.8400\n",
            "Epoch 29/100\n",
            "15/15 [==============================] - 0s 4ms/step - loss: 0.3915 - accuracy: 0.9164 - val_loss: 0.5855 - val_accuracy: 0.8400\n",
            "Epoch 30/100\n",
            "15/15 [==============================] - 0s 3ms/step - loss: 0.3859 - accuracy: 0.9079 - val_loss: 0.5737 - val_accuracy: 0.8467\n",
            "Epoch 31/100\n",
            "15/15 [==============================] - 0s 4ms/step - loss: 0.3891 - accuracy: 0.8993 - val_loss: 0.5714 - val_accuracy: 0.8500\n",
            "Epoch 32/100\n",
            "15/15 [==============================] - 0s 4ms/step - loss: 0.3597 - accuracy: 0.9242 - val_loss: 0.5716 - val_accuracy: 0.8300\n",
            "Epoch 33/100\n",
            "15/15 [==============================] - 0s 4ms/step - loss: 0.3338 - accuracy: 0.9302 - val_loss: 0.5605 - val_accuracy: 0.8433\n",
            "Epoch 34/100\n",
            "15/15 [==============================] - 0s 3ms/step - loss: 0.3511 - accuracy: 0.9107 - val_loss: 0.5554 - val_accuracy: 0.8400\n",
            "Epoch 35/100\n",
            "15/15 [==============================] - 0s 3ms/step - loss: 0.3387 - accuracy: 0.9244 - val_loss: 0.5566 - val_accuracy: 0.8467\n",
            "Epoch 36/100\n",
            "15/15 [==============================] - 0s 3ms/step - loss: 0.3062 - accuracy: 0.9378 - val_loss: 0.5361 - val_accuracy: 0.8400\n",
            "Epoch 37/100\n",
            "15/15 [==============================] - 0s 3ms/step - loss: 0.3344 - accuracy: 0.9197 - val_loss: 0.5353 - val_accuracy: 0.8500\n",
            "Epoch 38/100\n",
            "15/15 [==============================] - 0s 3ms/step - loss: 0.2838 - accuracy: 0.9373 - val_loss: 0.5390 - val_accuracy: 0.8467\n",
            "Epoch 39/100\n",
            "15/15 [==============================] - 0s 3ms/step - loss: 0.2848 - accuracy: 0.9399 - val_loss: 0.5304 - val_accuracy: 0.8433\n",
            "Epoch 40/100\n",
            "15/15 [==============================] - 0s 3ms/step - loss: 0.2811 - accuracy: 0.9336 - val_loss: 0.5314 - val_accuracy: 0.8433\n",
            "Epoch 41/100\n",
            "15/15 [==============================] - 0s 3ms/step - loss: 0.2791 - accuracy: 0.9262 - val_loss: 0.5246 - val_accuracy: 0.8467\n",
            "Epoch 42/100\n",
            "15/15 [==============================] - 0s 3ms/step - loss: 0.2664 - accuracy: 0.9336 - val_loss: 0.5270 - val_accuracy: 0.8400\n",
            "Epoch 43/100\n",
            "15/15 [==============================] - 0s 3ms/step - loss: 0.2511 - accuracy: 0.9495 - val_loss: 0.5237 - val_accuracy: 0.8433\n",
            "Epoch 44/100\n",
            "15/15 [==============================] - 0s 3ms/step - loss: 0.2352 - accuracy: 0.9520 - val_loss: 0.5179 - val_accuracy: 0.8567\n",
            "Epoch 45/100\n",
            "15/15 [==============================] - 0s 3ms/step - loss: 0.2517 - accuracy: 0.9543 - val_loss: 0.5277 - val_accuracy: 0.8433\n",
            "Epoch 46/100\n",
            "15/15 [==============================] - 0s 3ms/step - loss: 0.2520 - accuracy: 0.9387 - val_loss: 0.5298 - val_accuracy: 0.8433\n",
            "Epoch 47/100\n",
            "15/15 [==============================] - 0s 3ms/step - loss: 0.2259 - accuracy: 0.9490 - val_loss: 0.5234 - val_accuracy: 0.8433\n",
            "Epoch 48/100\n",
            "15/15 [==============================] - 0s 4ms/step - loss: 0.2145 - accuracy: 0.9534 - val_loss: 0.5162 - val_accuracy: 0.8467\n",
            "Epoch 49/100\n",
            "15/15 [==============================] - 0s 4ms/step - loss: 0.2217 - accuracy: 0.9516 - val_loss: 0.5181 - val_accuracy: 0.8433\n",
            "Epoch 50/100\n",
            "15/15 [==============================] - 0s 3ms/step - loss: 0.2090 - accuracy: 0.9535 - val_loss: 0.5177 - val_accuracy: 0.8467\n",
            "Epoch 51/100\n",
            "15/15 [==============================] - 0s 3ms/step - loss: 0.2124 - accuracy: 0.9529 - val_loss: 0.5070 - val_accuracy: 0.8467\n",
            "Epoch 52/100\n",
            "15/15 [==============================] - 0s 3ms/step - loss: 0.2016 - accuracy: 0.9537 - val_loss: 0.5133 - val_accuracy: 0.8433\n",
            "Epoch 53/100\n",
            "15/15 [==============================] - 0s 3ms/step - loss: 0.1982 - accuracy: 0.9577 - val_loss: 0.5173 - val_accuracy: 0.8433\n",
            "Epoch 54/100\n",
            "15/15 [==============================] - 0s 3ms/step - loss: 0.1855 - accuracy: 0.9619 - val_loss: 0.5145 - val_accuracy: 0.8400\n",
            "Epoch 55/100\n",
            "15/15 [==============================] - 0s 3ms/step - loss: 0.1899 - accuracy: 0.9622 - val_loss: 0.5325 - val_accuracy: 0.8467\n",
            "Epoch 56/100\n",
            "15/15 [==============================] - 0s 3ms/step - loss: 0.1779 - accuracy: 0.9636 - val_loss: 0.5147 - val_accuracy: 0.8433\n",
            "Epoch 57/100\n",
            "15/15 [==============================] - 0s 3ms/step - loss: 0.1765 - accuracy: 0.9656 - val_loss: 0.5197 - val_accuracy: 0.8433\n",
            "Epoch 58/100\n",
            "15/15 [==============================] - 0s 3ms/step - loss: 0.1756 - accuracy: 0.9715 - val_loss: 0.5097 - val_accuracy: 0.8433\n"
          ]
        },
        {
          "name": "stdout",
          "output_type": "stream",
          "text": [
            "Epoch 59/100\n",
            "15/15 [==============================] - 0s 3ms/step - loss: 0.1675 - accuracy: 0.9676 - val_loss: 0.5107 - val_accuracy: 0.8433\n",
            "Epoch 60/100\n",
            "15/15 [==============================] - 0s 3ms/step - loss: 0.1721 - accuracy: 0.9713 - val_loss: 0.5055 - val_accuracy: 0.8433\n",
            "Epoch 61/100\n",
            "15/15 [==============================] - 0s 3ms/step - loss: 0.1716 - accuracy: 0.9708 - val_loss: 0.5108 - val_accuracy: 0.8467\n",
            "Epoch 62/100\n",
            "15/15 [==============================] - 0s 3ms/step - loss: 0.1579 - accuracy: 0.9746 - val_loss: 0.5147 - val_accuracy: 0.8400\n",
            "Epoch 63/100\n",
            "15/15 [==============================] - 0s 4ms/step - loss: 0.1527 - accuracy: 0.9787 - val_loss: 0.5179 - val_accuracy: 0.8400\n",
            "Epoch 64/100\n",
            "15/15 [==============================] - 0s 5ms/step - loss: 0.1413 - accuracy: 0.9796 - val_loss: 0.5108 - val_accuracy: 0.8467\n",
            "Epoch 65/100\n",
            "15/15 [==============================] - 0s 3ms/step - loss: 0.1571 - accuracy: 0.9777 - val_loss: 0.5143 - val_accuracy: 0.8400\n",
            "Epoch 66/100\n",
            "15/15 [==============================] - 0s 3ms/step - loss: 0.1456 - accuracy: 0.9793 - val_loss: 0.5105 - val_accuracy: 0.8433\n",
            "Epoch 67/100\n",
            "15/15 [==============================] - 0s 3ms/step - loss: 0.1373 - accuracy: 0.9767 - val_loss: 0.5140 - val_accuracy: 0.8400\n",
            "Epoch 68/100\n",
            "15/15 [==============================] - 0s 3ms/step - loss: 0.1408 - accuracy: 0.9790 - val_loss: 0.5238 - val_accuracy: 0.8367\n",
            "Epoch 69/100\n",
            "15/15 [==============================] - 0s 3ms/step - loss: 0.1360 - accuracy: 0.9818 - val_loss: 0.5196 - val_accuracy: 0.8433\n",
            "Epoch 70/100\n",
            "15/15 [==============================] - 0s 3ms/step - loss: 0.1447 - accuracy: 0.9741 - val_loss: 0.5157 - val_accuracy: 0.8467\n",
            "Epoch 71/100\n",
            "15/15 [==============================] - 0s 3ms/step - loss: 0.1318 - accuracy: 0.9839 - val_loss: 0.5162 - val_accuracy: 0.8500\n",
            "Epoch 72/100\n",
            "15/15 [==============================] - 0s 3ms/step - loss: 0.1357 - accuracy: 0.9765 - val_loss: 0.5200 - val_accuracy: 0.8467\n",
            "Epoch 73/100\n",
            "15/15 [==============================] - 0s 3ms/step - loss: 0.1297 - accuracy: 0.9818 - val_loss: 0.5194 - val_accuracy: 0.8433\n",
            "Epoch 74/100\n",
            "15/15 [==============================] - 0s 3ms/step - loss: 0.1394 - accuracy: 0.9781 - val_loss: 0.5244 - val_accuracy: 0.8400\n",
            "Epoch 75/100\n",
            "15/15 [==============================] - 0s 3ms/step - loss: 0.1164 - accuracy: 0.9842 - val_loss: 0.5200 - val_accuracy: 0.8433\n",
            "Epoch 76/100\n",
            "15/15 [==============================] - 0s 3ms/step - loss: 0.1354 - accuracy: 0.9762 - val_loss: 0.5224 - val_accuracy: 0.8433\n",
            "Epoch 77/100\n",
            "15/15 [==============================] - 0s 3ms/step - loss: 0.1243 - accuracy: 0.9775 - val_loss: 0.5248 - val_accuracy: 0.8467\n",
            "Epoch 78/100\n",
            "15/15 [==============================] - 0s 3ms/step - loss: 0.1295 - accuracy: 0.9817 - val_loss: 0.5207 - val_accuracy: 0.8467\n",
            "Epoch 79/100\n",
            "15/15 [==============================] - 0s 3ms/step - loss: 0.1068 - accuracy: 0.9890 - val_loss: 0.5199 - val_accuracy: 0.8467\n",
            "Epoch 80/100\n",
            "15/15 [==============================] - 0s 3ms/step - loss: 0.1111 - accuracy: 0.9895 - val_loss: 0.5264 - val_accuracy: 0.8400\n",
            "Epoch 81/100\n",
            "15/15 [==============================] - 0s 3ms/step - loss: 0.1066 - accuracy: 0.9831 - val_loss: 0.5240 - val_accuracy: 0.8400\n",
            "Epoch 82/100\n",
            "15/15 [==============================] - 0s 3ms/step - loss: 0.0995 - accuracy: 0.9894 - val_loss: 0.5230 - val_accuracy: 0.8500\n",
            "Epoch 83/100\n",
            "15/15 [==============================] - 0s 3ms/step - loss: 0.1087 - accuracy: 0.9840 - val_loss: 0.5270 - val_accuracy: 0.8400\n",
            "Epoch 84/100\n",
            "15/15 [==============================] - 0s 3ms/step - loss: 0.0996 - accuracy: 0.9891 - val_loss: 0.5227 - val_accuracy: 0.8500\n",
            "Epoch 85/100\n",
            "15/15 [==============================] - 0s 3ms/step - loss: 0.0960 - accuracy: 0.9932 - val_loss: 0.5205 - val_accuracy: 0.8467\n",
            "Epoch 86/100\n",
            "15/15 [==============================] - 0s 3ms/step - loss: 0.1003 - accuracy: 0.9843 - val_loss: 0.5275 - val_accuracy: 0.8433\n",
            "Epoch 87/100\n",
            "15/15 [==============================] - 0s 3ms/step - loss: 0.1063 - accuracy: 0.9845 - val_loss: 0.5310 - val_accuracy: 0.8467\n",
            "Epoch 88/100\n",
            "15/15 [==============================] - 0s 3ms/step - loss: 0.0927 - accuracy: 0.9923 - val_loss: 0.5240 - val_accuracy: 0.8433\n",
            "Epoch 89/100\n",
            "15/15 [==============================] - 0s 3ms/step - loss: 0.0942 - accuracy: 0.9865 - val_loss: 0.5260 - val_accuracy: 0.8433\n",
            "Epoch 90/100\n",
            "15/15 [==============================] - 0s 3ms/step - loss: 0.0994 - accuracy: 0.9915 - val_loss: 0.5322 - val_accuracy: 0.8433\n",
            "Epoch 91/100\n",
            "15/15 [==============================] - 0s 3ms/step - loss: 0.0876 - accuracy: 0.9951 - val_loss: 0.5332 - val_accuracy: 0.8467\n",
            "Epoch 92/100\n",
            "15/15 [==============================] - 0s 3ms/step - loss: 0.0977 - accuracy: 0.9900 - val_loss: 0.5285 - val_accuracy: 0.8433\n",
            "Epoch 93/100\n",
            "15/15 [==============================] - 0s 3ms/step - loss: 0.0936 - accuracy: 0.9903 - val_loss: 0.5322 - val_accuracy: 0.8500\n",
            "Epoch 94/100\n",
            "15/15 [==============================] - 0s 3ms/step - loss: 0.0862 - accuracy: 0.9918 - val_loss: 0.5341 - val_accuracy: 0.8433\n",
            "Epoch 95/100\n",
            "15/15 [==============================] - 0s 3ms/step - loss: 0.0787 - accuracy: 0.9974 - val_loss: 0.5358 - val_accuracy: 0.8500\n",
            "Epoch 96/100\n",
            "15/15 [==============================] - 0s 4ms/step - loss: 0.0915 - accuracy: 0.9911 - val_loss: 0.5399 - val_accuracy: 0.8467\n",
            "Epoch 97/100\n",
            "15/15 [==============================] - 0s 4ms/step - loss: 0.0857 - accuracy: 0.9913 - val_loss: 0.5374 - val_accuracy: 0.8467\n",
            "Epoch 98/100\n",
            "15/15 [==============================] - 0s 3ms/step - loss: 0.0855 - accuracy: 0.9914 - val_loss: 0.5420 - val_accuracy: 0.8433\n",
            "Epoch 99/100\n",
            "15/15 [==============================] - 0s 3ms/step - loss: 0.0786 - accuracy: 0.9960 - val_loss: 0.5407 - val_accuracy: 0.8533\n",
            "Epoch 100/100\n",
            "15/15 [==============================] - 0s 3ms/step - loss: 0.0769 - accuracy: 0.9965 - val_loss: 0.5369 - val_accuracy: 0.8500\n"
          ]
        }
      ],
      "source": [
        "model_simpler.compile(optimizer='adam',\n",
        "                      loss='sparse_categorical_crossentropy',\n",
        "                      metrics=['accuracy'])\n",
        "history_simpler = model_simpler.fit(x,\n",
        "                                    y,\n",
        "                                    batch_size=64,\n",
        "                                    epochs=100,\n",
        "                                    validation_split=0.25,\n",
        "                                    shuffle=True)"
      ]
    },
    {
      "cell_type": "code",
      "execution_count": null,
      "metadata": {
        "id": "aIKIWFREDiR7",
        "outputId": "bc2d0de0-ad84-42f0-92cb-b9d24aa48355"
      },
      "outputs": [
        {
          "data": {
            "image/png": "[encoded data removed]",
            "text/plain": [
              "<Figure size 1152x432 with 2 Axes>"
            ]
          },
          "metadata": {
            "needs_background": "light"
          },
          "output_type": "display_data"
        }
      ],
      "source": [
        "show_loss_accuracy_evolution(history_simpler)"
      ]
    },
    {
      "cell_type": "code",
      "execution_count": null,
      "metadata": {
        "id": "YN1xPJv9DiR7",
        "outputId": "f87f4c7e-565b-4079-e2db-2e35d7b931a8"
      },
      "outputs": [
        {
          "name": "stdout",
          "output_type": "stream",
          "text": [
            "Test Loss: 0.527108907699585\n",
            "Test Accuracy: 0.8603000044822693\n"
          ]
        }
      ],
      "source": [
        "results = model_simpler.evaluate(x_test, y_test, verbose=0)\n",
        "print('Test Loss: {}'.format(results[0]))\n",
        "print('Test Accuracy: {}'.format(results[1]))"
      ]
    },
    {
      "cell_type": "markdown",
      "metadata": {
        "id": "9F5d5pmFDiR7"
      },
      "source": [
        "## Reduce batch_size\n",
        "\n",
        "Other method is decreasing the `batch_size`during the gradient descend to add more uncertainty to the estimation of the parameter gradients, thus reducing the capacity of the model"
      ]
    },
    {
      "cell_type": "code",
      "execution_count": null,
      "metadata": {
        "id": "K0IrtPU4DiR7",
        "outputId": "ec935722-7473-479d-8b40-7cea2fb297fe"
      },
      "outputs": [
        {
          "name": "stdout",
          "output_type": "stream",
          "text": [
            "Model: \"dont_overfit_model\"\n",
            "_________________________________________________________________\n",
            "Layer (type)                 Output Shape              Param #   \n",
            "=================================================================\n",
            "input_layer (InputLayer)     [(None, 28, 28)]          0         \n",
            "_________________________________________________________________\n",
            "flatten_3 (Flatten)          (None, 784)               0         \n",
            "_________________________________________________________________\n",
            "layer_1 (Dense)              (None, 256)               200960    \n",
            "_________________________________________________________________\n",
            "layer_2 (Dense)              (None, 128)               32896     \n",
            "_________________________________________________________________\n",
            "layer_3 (Dense)              (None, 128)               16512     \n",
            "_________________________________________________________________\n",
            "output_layer (Dense)         (None, 10)                1290      \n",
            "=================================================================\n",
            "Total params: 251,658\n",
            "Trainable params: 251,658\n",
            "Non-trainable params: 0\n",
            "_________________________________________________________________\n"
          ]
        }
      ],
      "source": [
        "# Input\n",
        "inputs = tf.keras.Input(shape=(28,28), name='input_layer')\n",
        "# Convert the 2D image to a vector\n",
        "flat = layers.Flatten()(inputs)\n",
        "\n",
        "# hidden layer 1\n",
        "l_1 = layers.Dense(256, activation='relu', name='layer_1')(flat)\n",
        "# hidden layer 2\n",
        "l_2 = layers.Dense(128, activation='relu', name='layer_2')(l_1)\n",
        "# hidden layer 3\n",
        "l_3 = layers.Dense(128, activation='relu', name='layer_3')(l_2)\n",
        "\n",
        "# Outputs\n",
        "outputs = layers.Dense(num_classes, activation='softmax', name='output_layer')(l_3)\n",
        "\n",
        "# Model definition\n",
        "model = keras.Model(inputs=inputs, outputs=outputs, name='dont_overfit_model')\n",
        "## same model\n",
        "model.summary()"
      ]
    },
    {
      "cell_type": "code",
      "execution_count": null,
      "metadata": {
        "id": "B1VnAZc_DiR7",
        "outputId": "99120d8e-b83f-43a3-bec5-44286efca4ff"
      },
      "outputs": [
        {
          "name": "stdout",
          "output_type": "stream",
          "text": [
            "Epoch 1/100\n",
            "60/60 [==============================] - 1s 4ms/step - loss: 1.7261 - accuracy: 0.4377 - val_loss: 0.5946 - val_accuracy: 0.8208\n",
            "Epoch 2/100\n",
            "60/60 [==============================] - 0s 2ms/step - loss: 0.4109 - accuracy: 0.8800 - val_loss: 0.4626 - val_accuracy: 0.8625\n",
            "Epoch 3/100\n",
            "60/60 [==============================] - 0s 2ms/step - loss: 0.1970 - accuracy: 0.9455 - val_loss: 0.4018 - val_accuracy: 0.8792\n",
            "Epoch 4/100\n",
            "60/60 [==============================] - 0s 2ms/step - loss: 0.1061 - accuracy: 0.9763 - val_loss: 0.3413 - val_accuracy: 0.9042\n",
            "Epoch 5/100\n",
            "60/60 [==============================] - 0s 2ms/step - loss: 0.0609 - accuracy: 0.9867 - val_loss: 0.3750 - val_accuracy: 0.8875\n",
            "Epoch 6/100\n",
            "60/60 [==============================] - 0s 3ms/step - loss: 0.0419 - accuracy: 0.9902 - val_loss: 0.4061 - val_accuracy: 0.8875\n",
            "Epoch 7/100\n",
            "60/60 [==============================] - 0s 2ms/step - loss: 0.0122 - accuracy: 0.9985 - val_loss: 0.3700 - val_accuracy: 0.8917\n",
            "Epoch 8/100\n",
            "60/60 [==============================] - 0s 2ms/step - loss: 0.0258 - accuracy: 0.9958 - val_loss: 0.4271 - val_accuracy: 0.8917\n",
            "Epoch 9/100\n",
            "60/60 [==============================] - 0s 2ms/step - loss: 0.0119 - accuracy: 0.9973 - val_loss: 0.4005 - val_accuracy: 0.9000\n",
            "Epoch 10/100\n",
            "60/60 [==============================] - 0s 2ms/step - loss: 0.0036 - accuracy: 1.0000 - val_loss: 0.4412 - val_accuracy: 0.8958\n",
            "Epoch 11/100\n",
            "60/60 [==============================] - 0s 2ms/step - loss: 0.0027 - accuracy: 1.0000 - val_loss: 0.4310 - val_accuracy: 0.9000\n",
            "Epoch 12/100\n",
            "60/60 [==============================] - 0s 2ms/step - loss: 0.0018 - accuracy: 1.0000 - val_loss: 0.4386 - val_accuracy: 0.9042\n",
            "Epoch 13/100\n",
            "60/60 [==============================] - 0s 3ms/step - loss: 0.0015 - accuracy: 1.0000 - val_loss: 0.4435 - val_accuracy: 0.9000\n",
            "Epoch 14/100\n",
            "60/60 [==============================] - 0s 3ms/step - loss: 0.0012 - accuracy: 1.0000 - val_loss: 0.4506 - val_accuracy: 0.9000\n",
            "Epoch 15/100\n",
            "60/60 [==============================] - 0s 3ms/step - loss: 9.1240e-04 - accuracy: 1.0000 - val_loss: 0.4545 - val_accuracy: 0.8958\n",
            "Epoch 16/100\n",
            "60/60 [==============================] - 0s 4ms/step - loss: 8.0214e-04 - accuracy: 1.0000 - val_loss: 0.4587 - val_accuracy: 0.8958\n",
            "Epoch 17/100\n",
            "60/60 [==============================] - 0s 4ms/step - loss: 7.0891e-04 - accuracy: 1.0000 - val_loss: 0.4647 - val_accuracy: 0.8958\n",
            "Epoch 18/100\n",
            "60/60 [==============================] - 0s 3ms/step - loss: 5.9940e-04 - accuracy: 1.0000 - val_loss: 0.4663 - val_accuracy: 0.8958\n",
            "Epoch 19/100\n",
            "60/60 [==============================] - 0s 5ms/step - loss: 5.1081e-04 - accuracy: 1.0000 - val_loss: 0.4724 - val_accuracy: 0.8958\n",
            "Epoch 20/100\n",
            "60/60 [==============================] - 0s 4ms/step - loss: 4.7649e-04 - accuracy: 1.0000 - val_loss: 0.4735 - val_accuracy: 0.8958\n",
            "Epoch 21/100\n",
            "60/60 [==============================] - 0s 7ms/step - loss: 4.4701e-04 - accuracy: 1.0000 - val_loss: 0.4761 - val_accuracy: 0.8958\n",
            "Epoch 22/100\n",
            "60/60 [==============================] - 0s 6ms/step - loss: 4.1396e-04 - accuracy: 1.0000 - val_loss: 0.4835 - val_accuracy: 0.8958\n",
            "Epoch 23/100\n",
            "60/60 [==============================] - 0s 4ms/step - loss: 3.1077e-04 - accuracy: 1.0000 - val_loss: 0.4856 - val_accuracy: 0.8917\n",
            "Epoch 24/100\n",
            "60/60 [==============================] - 0s 3ms/step - loss: 2.9565e-04 - accuracy: 1.0000 - val_loss: 0.4912 - val_accuracy: 0.8917\n",
            "Epoch 25/100\n",
            "60/60 [==============================] - 0s 4ms/step - loss: 2.5366e-04 - accuracy: 1.0000 - val_loss: 0.4947 - val_accuracy: 0.8917\n",
            "Epoch 26/100\n",
            "60/60 [==============================] - 0s 5ms/step - loss: 2.3561e-04 - accuracy: 1.0000 - val_loss: 0.4982 - val_accuracy: 0.8917\n",
            "Epoch 27/100\n",
            "60/60 [==============================] - 0s 3ms/step - loss: 1.9674e-04 - accuracy: 1.0000 - val_loss: 0.4966 - val_accuracy: 0.8917\n",
            "Epoch 28/100\n",
            "60/60 [==============================] - 0s 3ms/step - loss: 1.9852e-04 - accuracy: 1.0000 - val_loss: 0.5062 - val_accuracy: 0.8917\n",
            "Epoch 29/100\n",
            "60/60 [==============================] - 0s 4ms/step - loss: 1.9529e-04 - accuracy: 1.0000 - val_loss: 0.5009 - val_accuracy: 0.8917\n",
            "Epoch 30/100\n",
            "60/60 [==============================] - 0s 3ms/step - loss: 1.6884e-04 - accuracy: 1.0000 - val_loss: 0.5111 - val_accuracy: 0.8917\n",
            "Epoch 31/100\n",
            "60/60 [==============================] - 0s 4ms/step - loss: 1.4794e-04 - accuracy: 1.0000 - val_loss: 0.5162 - val_accuracy: 0.8917\n",
            "Epoch 32/100\n",
            "60/60 [==============================] - 0s 5ms/step - loss: 1.2651e-04 - accuracy: 1.0000 - val_loss: 0.5172 - val_accuracy: 0.8917\n",
            "Epoch 33/100\n",
            "60/60 [==============================] - 0s 3ms/step - loss: 1.3160e-04 - accuracy: 1.0000 - val_loss: 0.5195 - val_accuracy: 0.8917\n",
            "Epoch 34/100\n",
            "60/60 [==============================] - 0s 4ms/step - loss: 1.0866e-04 - accuracy: 1.0000 - val_loss: 0.5224 - val_accuracy: 0.8917\n",
            "Epoch 35/100\n",
            "60/60 [==============================] - 0s 3ms/step - loss: 9.6781e-05 - accuracy: 1.0000 - val_loss: 0.5248 - val_accuracy: 0.8917\n",
            "Epoch 36/100\n",
            "60/60 [==============================] - 0s 4ms/step - loss: 8.3231e-05 - accuracy: 1.0000 - val_loss: 0.5324 - val_accuracy: 0.8875\n",
            "Epoch 37/100\n",
            "60/60 [==============================] - 0s 4ms/step - loss: 8.7240e-05 - accuracy: 1.0000 - val_loss: 0.5314 - val_accuracy: 0.8958\n",
            "Epoch 38/100\n",
            "60/60 [==============================] - 0s 3ms/step - loss: 9.3002e-05 - accuracy: 1.0000 - val_loss: 0.5356 - val_accuracy: 0.8917\n",
            "Epoch 39/100\n",
            "60/60 [==============================] - 0s 3ms/step - loss: 6.8275e-05 - accuracy: 1.0000 - val_loss: 0.5381 - val_accuracy: 0.8917\n",
            "Epoch 40/100\n",
            "60/60 [==============================] - 0s 5ms/step - loss: 6.8349e-05 - accuracy: 1.0000 - val_loss: 0.5397 - val_accuracy: 0.8917\n",
            "Epoch 41/100\n",
            "60/60 [==============================] - 0s 4ms/step - loss: 5.9518e-05 - accuracy: 1.0000 - val_loss: 0.5418 - val_accuracy: 0.8958\n",
            "Epoch 42/100\n",
            "60/60 [==============================] - 0s 4ms/step - loss: 5.7107e-05 - accuracy: 1.0000 - val_loss: 0.5461 - val_accuracy: 0.8958\n",
            "Epoch 43/100\n",
            "60/60 [==============================] - 0s 4ms/step - loss: 5.4821e-05 - accuracy: 1.0000 - val_loss: 0.5481 - val_accuracy: 0.8958\n",
            "Epoch 44/100\n",
            "60/60 [==============================] - 0s 4ms/step - loss: 4.4301e-05 - accuracy: 1.0000 - val_loss: 0.5539 - val_accuracy: 0.8917\n",
            "Epoch 45/100\n",
            "60/60 [==============================] - 0s 5ms/step - loss: 4.9906e-05 - accuracy: 1.0000 - val_loss: 0.5533 - val_accuracy: 0.9000\n",
            "Epoch 46/100\n",
            "60/60 [==============================] - 0s 3ms/step - loss: 4.3346e-05 - accuracy: 1.0000 - val_loss: 0.5576 - val_accuracy: 0.9000\n",
            "Epoch 47/100\n",
            "60/60 [==============================] - 0s 3ms/step - loss: 3.9225e-05 - accuracy: 1.0000 - val_loss: 0.5635 - val_accuracy: 0.8875\n",
            "Epoch 48/100\n",
            "60/60 [==============================] - 0s 3ms/step - loss: 3.7203e-05 - accuracy: 1.0000 - val_loss: 0.5602 - val_accuracy: 0.9000\n",
            "Epoch 49/100\n",
            "60/60 [==============================] - 0s 3ms/step - loss: 3.6389e-05 - accuracy: 1.0000 - val_loss: 0.5639 - val_accuracy: 0.8917\n",
            "Epoch 50/100\n",
            "60/60 [==============================] - 0s 4ms/step - loss: 3.1333e-05 - accuracy: 1.0000 - val_loss: 0.5669 - val_accuracy: 0.9000\n",
            "Epoch 51/100\n",
            "60/60 [==============================] - 0s 3ms/step - loss: 2.9394e-05 - accuracy: 1.0000 - val_loss: 0.5713 - val_accuracy: 0.8917\n",
            "Epoch 52/100\n",
            "60/60 [==============================] - 0s 3ms/step - loss: 3.0725e-05 - accuracy: 1.0000 - val_loss: 0.5688 - val_accuracy: 0.9000\n",
            "Epoch 53/100\n",
            "60/60 [==============================] - 0s 3ms/step - loss: 2.9660e-05 - accuracy: 1.0000 - val_loss: 0.5738 - val_accuracy: 0.8958\n",
            "Epoch 54/100\n",
            "60/60 [==============================] - 0s 3ms/step - loss: 2.5169e-05 - accuracy: 1.0000 - val_loss: 0.5749 - val_accuracy: 0.8958\n",
            "Epoch 55/100\n",
            "60/60 [==============================] - 0s 3ms/step - loss: 2.3522e-05 - accuracy: 1.0000 - val_loss: 0.5816 - val_accuracy: 0.8917\n",
            "Epoch 56/100\n",
            "60/60 [==============================] - 0s 3ms/step - loss: 2.6700e-05 - accuracy: 1.0000 - val_loss: 0.5795 - val_accuracy: 0.8958\n",
            "Epoch 57/100\n",
            "60/60 [==============================] - 0s 3ms/step - loss: 2.1244e-05 - accuracy: 1.0000 - val_loss: 0.5817 - val_accuracy: 0.8958\n",
            "Epoch 58/100\n",
            "60/60 [==============================] - 0s 3ms/step - loss: 2.1889e-05 - accuracy: 1.0000 - val_loss: 0.5877 - val_accuracy: 0.8917\n",
            "Epoch 59/100\n",
            "60/60 [==============================] - 0s 3ms/step - loss: 1.8683e-05 - accuracy: 1.0000 - val_loss: 0.5872 - val_accuracy: 0.8958\n",
            "Epoch 60/100\n",
            "60/60 [==============================] - 0s 3ms/step - loss: 2.0492e-05 - accuracy: 1.0000 - val_loss: 0.5914 - val_accuracy: 0.8917\n",
            "Epoch 61/100\n",
            "60/60 [==============================] - 0s 3ms/step - loss: 1.5997e-05 - accuracy: 1.0000 - val_loss: 0.5924 - val_accuracy: 0.8917\n",
            "Epoch 62/100\n",
            "60/60 [==============================] - 0s 3ms/step - loss: 1.7721e-05 - accuracy: 1.0000 - val_loss: 0.5965 - val_accuracy: 0.8958\n",
            "Epoch 63/100\n",
            "60/60 [==============================] - 0s 3ms/step - loss: 1.5340e-05 - accuracy: 1.0000 - val_loss: 0.5935 - val_accuracy: 0.8958\n",
            "Epoch 64/100\n",
            "60/60 [==============================] - 0s 3ms/step - loss: 1.5239e-05 - accuracy: 1.0000 - val_loss: 0.5959 - val_accuracy: 0.8958\n",
            "Epoch 65/100\n",
            "60/60 [==============================] - 0s 3ms/step - loss: 1.4355e-05 - accuracy: 1.0000 - val_loss: 0.5968 - val_accuracy: 0.8917\n",
            "Epoch 66/100\n",
            "60/60 [==============================] - 0s 4ms/step - loss: 1.5094e-05 - accuracy: 1.0000 - val_loss: 0.6032 - val_accuracy: 0.8875\n",
            "Epoch 67/100\n",
            "60/60 [==============================] - 0s 3ms/step - loss: 1.1781e-05 - accuracy: 1.0000 - val_loss: 0.6064 - val_accuracy: 0.8917\n",
            "Epoch 68/100\n",
            "60/60 [==============================] - 0s 4ms/step - loss: 1.3513e-05 - accuracy: 1.0000 - val_loss: 0.6056 - val_accuracy: 0.8917\n",
            "Epoch 69/100\n",
            "60/60 [==============================] - 0s 4ms/step - loss: 1.1769e-05 - accuracy: 1.0000 - val_loss: 0.6089 - val_accuracy: 0.8917\n",
            "Epoch 70/100\n",
            "60/60 [==============================] - 0s 3ms/step - loss: 1.1192e-05 - accuracy: 1.0000 - val_loss: 0.6103 - val_accuracy: 0.8875\n",
            "Epoch 71/100\n",
            "60/60 [==============================] - 0s 3ms/step - loss: 1.1096e-05 - accuracy: 1.0000 - val_loss: 0.6148 - val_accuracy: 0.8875\n",
            "Epoch 72/100\n",
            "60/60 [==============================] - 0s 4ms/step - loss: 1.1178e-05 - accuracy: 1.0000 - val_loss: 0.6134 - val_accuracy: 0.8958\n",
            "Epoch 73/100\n",
            "60/60 [==============================] - 0s 5ms/step - loss: 1.0229e-05 - accuracy: 1.0000 - val_loss: 0.6155 - val_accuracy: 0.8917\n",
            "Epoch 74/100\n",
            "60/60 [==============================] - 0s 6ms/step - loss: 9.6766e-06 - accuracy: 1.0000 - val_loss: 0.6192 - val_accuracy: 0.8875\n",
            "Epoch 75/100\n",
            "60/60 [==============================] - 0s 4ms/step - loss: 8.6437e-06 - accuracy: 1.0000 - val_loss: 0.6185 - val_accuracy: 0.8917\n",
            "Epoch 76/100\n",
            "60/60 [==============================] - 0s 5ms/step - loss: 8.4931e-06 - accuracy: 1.0000 - val_loss: 0.6229 - val_accuracy: 0.8917\n",
            "Epoch 77/100\n",
            "60/60 [==============================] - 0s 4ms/step - loss: 9.0906e-06 - accuracy: 1.0000 - val_loss: 0.6243 - val_accuracy: 0.8917\n",
            "Epoch 78/100\n",
            "60/60 [==============================] - 0s 4ms/step - loss: 6.8537e-06 - accuracy: 1.0000 - val_loss: 0.6251 - val_accuracy: 0.8917\n",
            "Epoch 79/100\n",
            "60/60 [==============================] - 0s 5ms/step - loss: 7.1239e-06 - accuracy: 1.0000 - val_loss: 0.6252 - val_accuracy: 0.8958\n",
            "Epoch 80/100\n",
            "60/60 [==============================] - 0s 5ms/step - loss: 7.9764e-06 - accuracy: 1.0000 - val_loss: 0.6277 - val_accuracy: 0.8917\n",
            "Epoch 81/100\n",
            "60/60 [==============================] - 0s 4ms/step - loss: 6.0092e-06 - accuracy: 1.0000 - val_loss: 0.6328 - val_accuracy: 0.8875\n",
            "Epoch 82/100\n",
            "60/60 [==============================] - 0s 4ms/step - loss: 6.7688e-06 - accuracy: 1.0000 - val_loss: 0.6326 - val_accuracy: 0.8917\n",
            "Epoch 83/100\n",
            "60/60 [==============================] - 0s 4ms/step - loss: 6.0278e-06 - accuracy: 1.0000 - val_loss: 0.6350 - val_accuracy: 0.8917\n",
            "Epoch 84/100\n",
            "60/60 [==============================] - 0s 3ms/step - loss: 6.3018e-06 - accuracy: 1.0000 - val_loss: 0.6377 - val_accuracy: 0.8917\n",
            "Epoch 85/100\n",
            "60/60 [==============================] - 0s 3ms/step - loss: 6.6408e-06 - accuracy: 1.0000 - val_loss: 0.6389 - val_accuracy: 0.8917\n",
            "Epoch 86/100\n",
            "60/60 [==============================] - 0s 4ms/step - loss: 5.7188e-06 - accuracy: 1.0000 - val_loss: 0.6416 - val_accuracy: 0.8917\n",
            "Epoch 87/100\n",
            "60/60 [==============================] - 0s 4ms/step - loss: 5.1739e-06 - accuracy: 1.0000 - val_loss: 0.6415 - val_accuracy: 0.8917\n",
            "Epoch 88/100\n",
            "60/60 [==============================] - 0s 5ms/step - loss: 4.8550e-06 - accuracy: 1.0000 - val_loss: 0.6443 - val_accuracy: 0.8917\n",
            "Epoch 89/100\n",
            "60/60 [==============================] - 0s 3ms/step - loss: 4.8532e-06 - accuracy: 1.0000 - val_loss: 0.6448 - val_accuracy: 0.8917\n",
            "Epoch 90/100\n",
            "60/60 [==============================] - 0s 3ms/step - loss: 4.0161e-06 - accuracy: 1.0000 - val_loss: 0.6470 - val_accuracy: 0.8917\n",
            "Epoch 91/100\n",
            "60/60 [==============================] - 0s 4ms/step - loss: 4.8926e-06 - accuracy: 1.0000 - val_loss: 0.6477 - val_accuracy: 0.8917\n",
            "Epoch 92/100\n",
            "60/60 [==============================] - 0s 4ms/step - loss: 4.1185e-06 - accuracy: 1.0000 - val_loss: 0.6518 - val_accuracy: 0.8917\n",
            "Epoch 93/100\n",
            "60/60 [==============================] - 0s 3ms/step - loss: 3.9520e-06 - accuracy: 1.0000 - val_loss: 0.6528 - val_accuracy: 0.8917\n",
            "Epoch 94/100\n",
            "60/60 [==============================] - 0s 3ms/step - loss: 4.1042e-06 - accuracy: 1.0000 - val_loss: 0.6534 - val_accuracy: 0.8917\n",
            "Epoch 95/100\n",
            "60/60 [==============================] - 0s 3ms/step - loss: 3.6353e-06 - accuracy: 1.0000 - val_loss: 0.6565 - val_accuracy: 0.8958\n",
            "Epoch 96/100\n",
            "60/60 [==============================] - 0s 3ms/step - loss: 3.4345e-06 - accuracy: 1.0000 - val_loss: 0.6559 - val_accuracy: 0.9000\n",
            "Epoch 97/100\n",
            "60/60 [==============================] - 0s 3ms/step - loss: 3.5464e-06 - accuracy: 1.0000 - val_loss: 0.6589 - val_accuracy: 0.8958\n",
            "Epoch 98/100\n",
            "60/60 [==============================] - 0s 3ms/step - loss: 3.2165e-06 - accuracy: 1.0000 - val_loss: 0.6617 - val_accuracy: 0.8958\n",
            "Epoch 99/100\n",
            "60/60 [==============================] - 0s 3ms/step - loss: 3.0218e-06 - accuracy: 1.0000 - val_loss: 0.6619 - val_accuracy: 0.9000\n",
            "Epoch 100/100\n",
            "60/60 [==============================] - 0s 3ms/step - loss: 2.8725e-06 - accuracy: 1.0000 - val_loss: 0.6645 - val_accuracy: 0.9000\n"
          ]
        }
      ],
      "source": [
        "model.compile(optimizer='adam',\n",
        "              loss='sparse_categorical_crossentropy',\n",
        "              metrics=['accuracy'])\n",
        "history_2 = model.fit(\n",
        "    x,\n",
        "    y,\n",
        "    batch_size=16,\n",
        "    epochs=100,\n",
        "    validation_split=0.2,\n",
        "    shuffle=True\n",
        ")\n"
      ]
    },
    {
      "cell_type": "code",
      "execution_count": null,
      "metadata": {
        "id": "2f6z7aLMDiR7",
        "outputId": "b46c0d09-17ed-41ad-dabd-3f105d9cf707"
      },
      "outputs": [
        {
          "data": {
            "image/png": "[encoded data removed]",
            "text/plain": [
              "<Figure size 1152x432 with 2 Axes>"
            ]
          },
          "metadata": {
            "needs_background": "light"
          },
          "output_type": "display_data"
        }
      ],
      "source": [
        "show_loss_accuracy_evolution(history_2)"
      ]
    },
    {
      "cell_type": "code",
      "execution_count": null,
      "metadata": {
        "id": "TZ3he9CsDiR7",
        "outputId": "a89a59e8-1027-4933-d1d3-6968bf656c7e"
      },
      "outputs": [
        {
          "name": "stdout",
          "output_type": "stream",
          "text": [
            "Test Loss: 0.6538670659065247\n",
            "Test Accuracy: 0.911899983882904\n"
          ]
        }
      ],
      "source": [
        "results = model.evaluate(x_test, y_test, verbose=0)\n",
        "print('Test Loss: {}'.format(results[0]))\n",
        "print('Test Accuracy: {}'.format(results[1]))"
      ]
    },
    {
      "cell_type": "markdown",
      "metadata": {
        "id": "bD91iNREDiR8"
      },
      "source": [
        "### Question 1:\n",
        "#### What differences do you see if you change the batch_size to a lower or higher value? For example to 1 and to 512"
      ]
    },
    {
      "cell_type": "code",
      "execution_count": null,
      "metadata": {
        "id": "oHR7RtAIDiR8"
      },
      "outputs": [],
      "source": []
    },
    {
      "cell_type": "markdown",
      "metadata": {
        "id": "1kSuLU0VDiR8"
      },
      "source": [
        "<a id='dropout'></a>\n",
        "## Dropout\n",
        "\n",
        "Dropout, applied to a layer, consists of randomly \"dropping out\" (set to zero) a number of output features of the layer during training with a probability **p** (`dropout rate`).\n",
        "\n",
        "In `keras` you can introduce dropout in a network via the [Dropout layer](https://www.tensorflow.org/api_docs/python/tf/keras/layers/Dropout), which gets applied to the output of layer right before.\n",
        "\n",
        "```python\n",
        "tf.keras.layers.Dropout(\n",
        "    rate, noise_shape=None, seed=None, **kwargs\n",
        ")\n",
        "```\n",
        "\n",
        "With Functional API:\n",
        "```python\n",
        "next_layer = layers.Dropout(0.4)(prev_layer)\n",
        "```\n",
        "With Sequential:\n",
        "```python\n",
        "model.add(layers.Dropout(0.4))\n",
        "```"
      ]
    },
    {
      "cell_type": "code",
      "execution_count": null,
      "metadata": {
        "id": "b734VWeUDiR8"
      },
      "outputs": [],
      "source": [
        "# Input\n",
        "inputs = tf.keras.Input(shape=(28, 28), name='input_layer')\n",
        "# Convert the 2D image to a vector\n",
        "flat = layers.Flatten()(inputs)\n",
        "\n",
        "flat = layers.Dropout(0.5, name='dropout_flat')(flat)\n",
        "# hidden layer 1\n",
        "l_1 = layers.Dense(256, activation='relu', name='layer_1')(flat)\n",
        "l_1 = layers.Dropout(0.5, name='dropout_l1')(l_1)\n",
        "# hidden layer 2\n",
        "l_2 = layers.Dense(128, activation='relu', name='layer_2')(l_1)\n",
        "l_2 = layers.Dropout(0.5, name='dropout_l2')(l_2)\n",
        "# hidden layer 3\n",
        "l_3 = layers.Dense(128, activation='relu', name='layer_3')(l_2)\n",
        "l_3 = layers.Dropout(0.5, name='dropout_l3')(l_3)\n",
        "\n",
        "# Outputs\n",
        "outputs = layers.Dense(num_classes, activation='softmax',\n",
        "                       name='output_layer')(l_3)\n",
        "\n",
        "\n",
        "model_dropout = keras.Model(\n",
        "    inputs=inputs, outputs=outputs, name='dont_overfit_model_dropout')"
      ]
    },
    {
      "cell_type": "code",
      "execution_count": null,
      "metadata": {
        "id": "dRSRxOeSDiR8",
        "outputId": "f99db94a-8a1d-4e5d-9901-ce033ae78612"
      },
      "outputs": [
        {
          "name": "stdout",
          "output_type": "stream",
          "text": [
            "Model: \"dont_overfit_model_dropout\"\n",
            "_________________________________________________________________\n",
            "Layer (type)                 Output Shape              Param #   \n",
            "=================================================================\n",
            "input_layer (InputLayer)     [(None, 28, 28)]          0         \n",
            "_________________________________________________________________\n",
            "flatten_4 (Flatten)          (None, 784)               0         \n",
            "_________________________________________________________________\n",
            "dropout_flat (Dropout)       (None, 784)               0         \n",
            "_________________________________________________________________\n",
            "layer_1 (Dense)              (None, 256)               200960    \n",
            "_________________________________________________________________\n",
            "dropout_l1 (Dropout)         (None, 256)               0         \n",
            "_________________________________________________________________\n",
            "layer_2 (Dense)              (None, 128)               32896     \n",
            "_________________________________________________________________\n",
            "dropout_l2 (Dropout)         (None, 128)               0         \n",
            "_________________________________________________________________\n",
            "layer_3 (Dense)              (None, 128)               16512     \n",
            "_________________________________________________________________\n",
            "dropout_l3 (Dropout)         (None, 128)               0         \n",
            "_________________________________________________________________\n",
            "output_layer (Dense)         (None, 10)                1290      \n",
            "=================================================================\n",
            "Total params: 251,658\n",
            "Trainable params: 251,658\n",
            "Non-trainable params: 0\n",
            "_________________________________________________________________\n"
          ]
        }
      ],
      "source": [
        "model_dropout.summary()"
      ]
    },
    {
      "cell_type": "code",
      "execution_count": null,
      "metadata": {
        "id": "KjHNFiLDDiR8"
      },
      "outputs": [],
      "source": [
        "model_dropout.compile(optimizer='adam',\n",
        "                      loss='sparse_categorical_crossentropy',\n",
        "                      metrics=['accuracy'])"
      ]
    },
    {
      "cell_type": "code",
      "execution_count": null,
      "metadata": {
        "id": "tf-9xoi9DiR8",
        "outputId": "a71a7251-26ab-491b-f913-4cb74067338e"
      },
      "outputs": [
        {
          "name": "stdout",
          "output_type": "stream",
          "text": [
            "Epoch 1/100\n",
            "15/15 [==============================] - 1s 17ms/step - loss: 2.5380 - accuracy: 0.0866 - val_loss: 2.2363 - val_accuracy: 0.3292\n",
            "Epoch 2/100\n",
            "15/15 [==============================] - 0s 8ms/step - loss: 2.3113 - accuracy: 0.1197 - val_loss: 2.1947 - val_accuracy: 0.5208\n",
            "Epoch 3/100\n",
            "15/15 [==============================] - 0s 6ms/step - loss: 2.2054 - accuracy: 0.1799 - val_loss: 2.0928 - val_accuracy: 0.5792\n",
            "Epoch 4/100\n",
            "15/15 [==============================] - 0s 7ms/step - loss: 2.1233 - accuracy: 0.2180 - val_loss: 1.8710 - val_accuracy: 0.6000\n",
            "Epoch 5/100\n",
            "15/15 [==============================] - 0s 7ms/step - loss: 2.0170 - accuracy: 0.2966 - val_loss: 1.5880 - val_accuracy: 0.6750\n",
            "Epoch 6/100\n",
            "15/15 [==============================] - 0s 10ms/step - loss: 1.8260 - accuracy: 0.3406 - val_loss: 1.3004 - val_accuracy: 0.6625\n",
            "Epoch 7/100\n",
            "15/15 [==============================] - 0s 6ms/step - loss: 1.5826 - accuracy: 0.4238 - val_loss: 1.0644 - val_accuracy: 0.7458\n",
            "Epoch 8/100\n",
            "15/15 [==============================] - 0s 8ms/step - loss: 1.5003 - accuracy: 0.4261 - val_loss: 0.9360 - val_accuracy: 0.7792\n",
            "Epoch 9/100\n",
            "15/15 [==============================] - 0s 7ms/step - loss: 1.3297 - accuracy: 0.5350 - val_loss: 0.8331 - val_accuracy: 0.7917\n",
            "Epoch 10/100\n",
            "15/15 [==============================] - 0s 6ms/step - loss: 1.2900 - accuracy: 0.5457 - val_loss: 0.8010 - val_accuracy: 0.8083\n",
            "Epoch 11/100\n",
            "15/15 [==============================] - 0s 8ms/step - loss: 1.2829 - accuracy: 0.5433 - val_loss: 0.7317 - val_accuracy: 0.7917\n",
            "Epoch 12/100\n",
            "15/15 [==============================] - 0s 10ms/step - loss: 1.2389 - accuracy: 0.5799 - val_loss: 0.7038 - val_accuracy: 0.8125\n",
            "Epoch 13/100\n",
            "15/15 [==============================] - 0s 7ms/step - loss: 1.0837 - accuracy: 0.6372 - val_loss: 0.6391 - val_accuracy: 0.8208\n",
            "Epoch 14/100\n",
            "15/15 [==============================] - 0s 7ms/step - loss: 1.0612 - accuracy: 0.6293 - val_loss: 0.5853 - val_accuracy: 0.8250\n",
            "Epoch 15/100\n",
            "15/15 [==============================] - 0s 9ms/step - loss: 0.9435 - accuracy: 0.6631 - val_loss: 0.5637 - val_accuracy: 0.8250\n",
            "Epoch 16/100\n",
            "15/15 [==============================] - 0s 6ms/step - loss: 0.9591 - accuracy: 0.6708 - val_loss: 0.5199 - val_accuracy: 0.8417\n",
            "Epoch 17/100\n",
            "15/15 [==============================] - 0s 7ms/step - loss: 0.7869 - accuracy: 0.7284 - val_loss: 0.5069 - val_accuracy: 0.8417\n",
            "Epoch 18/100\n",
            "15/15 [==============================] - 0s 8ms/step - loss: 0.8762 - accuracy: 0.7125 - val_loss: 0.4714 - val_accuracy: 0.8500\n",
            "Epoch 19/100\n",
            "15/15 [==============================] - 0s 7ms/step - loss: 0.8395 - accuracy: 0.7158 - val_loss: 0.4468 - val_accuracy: 0.8625\n",
            "Epoch 20/100\n",
            "15/15 [==============================] - 0s 6ms/step - loss: 0.7562 - accuracy: 0.7704 - val_loss: 0.4408 - val_accuracy: 0.8667\n",
            "Epoch 21/100\n",
            "15/15 [==============================] - 0s 7ms/step - loss: 0.7210 - accuracy: 0.7608 - val_loss: 0.4283 - val_accuracy: 0.8750\n",
            "Epoch 22/100\n",
            "15/15 [==============================] - 0s 11ms/step - loss: 0.7191 - accuracy: 0.7586 - val_loss: 0.4082 - val_accuracy: 0.8792\n",
            "Epoch 23/100\n",
            "15/15 [==============================] - 0s 7ms/step - loss: 0.7558 - accuracy: 0.7240 - val_loss: 0.4002 - val_accuracy: 0.8750\n",
            "Epoch 24/100\n",
            "15/15 [==============================] - 0s 8ms/step - loss: 0.6632 - accuracy: 0.7870 - val_loss: 0.3929 - val_accuracy: 0.8792\n",
            "Epoch 25/100\n",
            "15/15 [==============================] - 0s 7ms/step - loss: 0.6388 - accuracy: 0.8024 - val_loss: 0.3766 - val_accuracy: 0.8875\n",
            "Epoch 26/100\n",
            "15/15 [==============================] - 0s 10ms/step - loss: 0.6585 - accuracy: 0.7847 - val_loss: 0.3635 - val_accuracy: 0.8917\n",
            "Epoch 27/100\n",
            "15/15 [==============================] - 0s 7ms/step - loss: 0.6430 - accuracy: 0.8020 - val_loss: 0.3663 - val_accuracy: 0.9000\n",
            "Epoch 28/100\n",
            "15/15 [==============================] - 0s 10ms/step - loss: 0.5955 - accuracy: 0.8136 - val_loss: 0.3501 - val_accuracy: 0.9000\n",
            "Epoch 29/100\n",
            "15/15 [==============================] - 0s 12ms/step - loss: 0.5758 - accuracy: 0.8070 - val_loss: 0.3330 - val_accuracy: 0.9000\n",
            "Epoch 30/100\n",
            "15/15 [==============================] - 0s 7ms/step - loss: 0.5630 - accuracy: 0.8281 - val_loss: 0.3624 - val_accuracy: 0.8958\n",
            "Epoch 31/100\n",
            "15/15 [==============================] - 0s 7ms/step - loss: 0.5259 - accuracy: 0.8301 - val_loss: 0.3379 - val_accuracy: 0.9000\n",
            "Epoch 32/100\n",
            "15/15 [==============================] - 0s 11ms/step - loss: 0.4861 - accuracy: 0.8256 - val_loss: 0.3478 - val_accuracy: 0.8750\n",
            "Epoch 33/100\n",
            "15/15 [==============================] - 0s 9ms/step - loss: 0.5181 - accuracy: 0.8239 - val_loss: 0.3531 - val_accuracy: 0.8958\n",
            "Epoch 34/100\n",
            "15/15 [==============================] - 0s 9ms/step - loss: 0.5556 - accuracy: 0.8226 - val_loss: 0.3532 - val_accuracy: 0.9000\n",
            "Epoch 35/100\n",
            "15/15 [==============================] - 0s 9ms/step - loss: 0.5805 - accuracy: 0.8174 - val_loss: 0.3526 - val_accuracy: 0.8917\n",
            "Epoch 36/100\n",
            "15/15 [==============================] - 0s 14ms/step - loss: 0.4411 - accuracy: 0.8489 - val_loss: 0.3467 - val_accuracy: 0.9042\n",
            "Epoch 37/100\n",
            "15/15 [==============================] - 0s 9ms/step - loss: 0.5303 - accuracy: 0.8323 - val_loss: 0.3688 - val_accuracy: 0.8958\n",
            "Epoch 38/100\n",
            "15/15 [==============================] - 0s 8ms/step - loss: 0.4112 - accuracy: 0.8844 - val_loss: 0.3534 - val_accuracy: 0.9167\n",
            "Epoch 39/100\n",
            "15/15 [==============================] - 0s 8ms/step - loss: 0.4618 - accuracy: 0.8505 - val_loss: 0.3446 - val_accuracy: 0.9167\n",
            "Epoch 40/100\n",
            "15/15 [==============================] - 0s 5ms/step - loss: 0.4483 - accuracy: 0.8637 - val_loss: 0.3548 - val_accuracy: 0.8917\n",
            "Epoch 41/100\n",
            "15/15 [==============================] - 0s 6ms/step - loss: 0.4510 - accuracy: 0.8569 - val_loss: 0.3335 - val_accuracy: 0.9000\n",
            "Epoch 42/100\n",
            "15/15 [==============================] - 0s 5ms/step - loss: 0.4576 - accuracy: 0.8571 - val_loss: 0.3163 - val_accuracy: 0.9083\n",
            "Epoch 43/100\n",
            "15/15 [==============================] - 0s 7ms/step - loss: 0.3821 - accuracy: 0.8696 - val_loss: 0.3179 - val_accuracy: 0.9167\n",
            "Epoch 44/100\n",
            "15/15 [==============================] - 0s 7ms/step - loss: 0.4429 - accuracy: 0.8546 - val_loss: 0.3164 - val_accuracy: 0.9250\n",
            "Epoch 45/100\n",
            "15/15 [==============================] - 0s 7ms/step - loss: 0.4267 - accuracy: 0.8507 - val_loss: 0.3242 - val_accuracy: 0.9125\n",
            "Epoch 46/100\n",
            "15/15 [==============================] - 0s 8ms/step - loss: 0.4086 - accuracy: 0.8642 - val_loss: 0.3072 - val_accuracy: 0.9292\n",
            "Epoch 47/100\n",
            "15/15 [==============================] - 0s 5ms/step - loss: 0.3885 - accuracy: 0.8727 - val_loss: 0.3034 - val_accuracy: 0.9250\n",
            "Epoch 48/100\n",
            "15/15 [==============================] - 0s 5ms/step - loss: 0.3948 - accuracy: 0.8834 - val_loss: 0.3245 - val_accuracy: 0.9208\n",
            "Epoch 49/100\n",
            "15/15 [==============================] - 0s 6ms/step - loss: 0.4034 - accuracy: 0.8811 - val_loss: 0.3286 - val_accuracy: 0.9167\n",
            "Epoch 50/100\n",
            "15/15 [==============================] - 0s 5ms/step - loss: 0.4326 - accuracy: 0.8615 - val_loss: 0.3484 - val_accuracy: 0.8958\n",
            "Epoch 51/100\n",
            "15/15 [==============================] - 0s 5ms/step - loss: 0.4068 - accuracy: 0.8627 - val_loss: 0.3084 - val_accuracy: 0.9208\n",
            "Epoch 52/100\n",
            "15/15 [==============================] - 0s 6ms/step - loss: 0.3785 - accuracy: 0.8763 - val_loss: 0.2959 - val_accuracy: 0.9292\n",
            "Epoch 53/100\n",
            "15/15 [==============================] - 0s 6ms/step - loss: 0.3549 - accuracy: 0.9007 - val_loss: 0.2928 - val_accuracy: 0.9292\n",
            "Epoch 54/100\n",
            "15/15 [==============================] - 0s 5ms/step - loss: 0.3306 - accuracy: 0.8934 - val_loss: 0.2924 - val_accuracy: 0.9250\n",
            "Epoch 55/100\n",
            "15/15 [==============================] - 0s 7ms/step - loss: 0.3007 - accuracy: 0.8893 - val_loss: 0.2963 - val_accuracy: 0.9292\n",
            "Epoch 56/100\n",
            "15/15 [==============================] - 0s 5ms/step - loss: 0.2957 - accuracy: 0.9149 - val_loss: 0.3003 - val_accuracy: 0.9250\n",
            "Epoch 57/100\n",
            "15/15 [==============================] - 0s 7ms/step - loss: 0.3039 - accuracy: 0.9172 - val_loss: 0.3208 - val_accuracy: 0.9167\n",
            "Epoch 58/100\n",
            "15/15 [==============================] - 0s 7ms/step - loss: 0.3136 - accuracy: 0.9070 - val_loss: 0.3141 - val_accuracy: 0.9208\n"
          ]
        },
        {
          "name": "stdout",
          "output_type": "stream",
          "text": [
            "Epoch 59/100\n",
            "15/15 [==============================] - 0s 6ms/step - loss: 0.3415 - accuracy: 0.9077 - val_loss: 0.3068 - val_accuracy: 0.9208\n",
            "Epoch 60/100\n",
            "15/15 [==============================] - 0s 6ms/step - loss: 0.2897 - accuracy: 0.9160 - val_loss: 0.3102 - val_accuracy: 0.9292\n",
            "Epoch 61/100\n",
            "15/15 [==============================] - 0s 5ms/step - loss: 0.2931 - accuracy: 0.9073 - val_loss: 0.3165 - val_accuracy: 0.9250\n",
            "Epoch 62/100\n",
            "15/15 [==============================] - 0s 6ms/step - loss: 0.2582 - accuracy: 0.9154 - val_loss: 0.3085 - val_accuracy: 0.9250\n",
            "Epoch 63/100\n",
            "15/15 [==============================] - 0s 5ms/step - loss: 0.2432 - accuracy: 0.9244 - val_loss: 0.3098 - val_accuracy: 0.9250\n",
            "Epoch 64/100\n",
            "15/15 [==============================] - 0s 5ms/step - loss: 0.2603 - accuracy: 0.9133 - val_loss: 0.3038 - val_accuracy: 0.9333\n",
            "Epoch 65/100\n",
            "15/15 [==============================] - 0s 7ms/step - loss: 0.3031 - accuracy: 0.9150 - val_loss: 0.3104 - val_accuracy: 0.9292\n",
            "Epoch 66/100\n",
            "15/15 [==============================] - 0s 6ms/step - loss: 0.3203 - accuracy: 0.9042 - val_loss: 0.3201 - val_accuracy: 0.9208\n",
            "Epoch 67/100\n",
            "15/15 [==============================] - 0s 6ms/step - loss: 0.2562 - accuracy: 0.9052 - val_loss: 0.3192 - val_accuracy: 0.9250\n",
            "Epoch 68/100\n",
            "15/15 [==============================] - 0s 5ms/step - loss: 0.2630 - accuracy: 0.9215 - val_loss: 0.3187 - val_accuracy: 0.9292\n",
            "Epoch 69/100\n",
            "15/15 [==============================] - 0s 6ms/step - loss: 0.2632 - accuracy: 0.9189 - val_loss: 0.3280 - val_accuracy: 0.9208\n",
            "Epoch 70/100\n",
            "15/15 [==============================] - 0s 5ms/step - loss: 0.2866 - accuracy: 0.9085 - val_loss: 0.3102 - val_accuracy: 0.9292\n",
            "Epoch 71/100\n",
            "15/15 [==============================] - 0s 5ms/step - loss: 0.2973 - accuracy: 0.9080 - val_loss: 0.3042 - val_accuracy: 0.9375\n",
            "Epoch 72/100\n",
            "15/15 [==============================] - 0s 7ms/step - loss: 0.2542 - accuracy: 0.9245 - val_loss: 0.3113 - val_accuracy: 0.9292\n",
            "Epoch 73/100\n",
            "15/15 [==============================] - 0s 5ms/step - loss: 0.3315 - accuracy: 0.9047 - val_loss: 0.3100 - val_accuracy: 0.9333\n",
            "Epoch 74/100\n",
            "15/15 [==============================] - 0s 5ms/step - loss: 0.2317 - accuracy: 0.9213 - val_loss: 0.3075 - val_accuracy: 0.9333\n",
            "Epoch 75/100\n",
            "15/15 [==============================] - 0s 6ms/step - loss: 0.3381 - accuracy: 0.8991 - val_loss: 0.3248 - val_accuracy: 0.9292\n",
            "Epoch 76/100\n",
            "15/15 [==============================] - 0s 5ms/step - loss: 0.2192 - accuracy: 0.9277 - val_loss: 0.3123 - val_accuracy: 0.9333\n",
            "Epoch 77/100\n",
            "15/15 [==============================] - 0s 5ms/step - loss: 0.2506 - accuracy: 0.9191 - val_loss: 0.3068 - val_accuracy: 0.9208\n",
            "Epoch 78/100\n",
            "15/15 [==============================] - 0s 5ms/step - loss: 0.2372 - accuracy: 0.9282 - val_loss: 0.2973 - val_accuracy: 0.9292\n",
            "Epoch 79/100\n",
            "15/15 [==============================] - 0s 6ms/step - loss: 0.2405 - accuracy: 0.9154 - val_loss: 0.3081 - val_accuracy: 0.9250\n",
            "Epoch 80/100\n",
            "15/15 [==============================] - 0s 5ms/step - loss: 0.2341 - accuracy: 0.9376 - val_loss: 0.3181 - val_accuracy: 0.9250\n",
            "Epoch 81/100\n",
            "15/15 [==============================] - 0s 6ms/step - loss: 0.2205 - accuracy: 0.9306 - val_loss: 0.3457 - val_accuracy: 0.9208\n",
            "Epoch 82/100\n",
            "15/15 [==============================] - 0s 6ms/step - loss: 0.2294 - accuracy: 0.9275 - val_loss: 0.3309 - val_accuracy: 0.9333\n",
            "Epoch 83/100\n",
            "15/15 [==============================] - 0s 6ms/step - loss: 0.2868 - accuracy: 0.9137 - val_loss: 0.3135 - val_accuracy: 0.9292\n",
            "Epoch 84/100\n",
            "15/15 [==============================] - 0s 6ms/step - loss: 0.3149 - accuracy: 0.9021 - val_loss: 0.3433 - val_accuracy: 0.9208\n",
            "Epoch 85/100\n",
            "15/15 [==============================] - 0s 5ms/step - loss: 0.2955 - accuracy: 0.9217 - val_loss: 0.3130 - val_accuracy: 0.9292\n",
            "Epoch 86/100\n",
            "15/15 [==============================] - 0s 5ms/step - loss: 0.2231 - accuracy: 0.9467 - val_loss: 0.3069 - val_accuracy: 0.9417\n",
            "Epoch 87/100\n",
            "15/15 [==============================] - 0s 6ms/step - loss: 0.2394 - accuracy: 0.9290 - val_loss: 0.3183 - val_accuracy: 0.9375\n",
            "Epoch 88/100\n",
            "15/15 [==============================] - 0s 5ms/step - loss: 0.2394 - accuracy: 0.9233 - val_loss: 0.3227 - val_accuracy: 0.9292\n",
            "Epoch 89/100\n",
            "15/15 [==============================] - 0s 8ms/step - loss: 0.2832 - accuracy: 0.9133 - val_loss: 0.3326 - val_accuracy: 0.9250\n",
            "Epoch 90/100\n",
            "15/15 [==============================] - 0s 8ms/step - loss: 0.2535 - accuracy: 0.9284 - val_loss: 0.3072 - val_accuracy: 0.9250\n",
            "Epoch 91/100\n",
            "15/15 [==============================] - 0s 6ms/step - loss: 0.2784 - accuracy: 0.9257 - val_loss: 0.3065 - val_accuracy: 0.9333\n",
            "Epoch 92/100\n",
            "15/15 [==============================] - 0s 12ms/step - loss: 0.2147 - accuracy: 0.9389 - val_loss: 0.2974 - val_accuracy: 0.9333\n",
            "Epoch 93/100\n",
            "15/15 [==============================] - 0s 8ms/step - loss: 0.2253 - accuracy: 0.9296 - val_loss: 0.3062 - val_accuracy: 0.9292\n",
            "Epoch 94/100\n",
            "15/15 [==============================] - 0s 7ms/step - loss: 0.2284 - accuracy: 0.9211 - val_loss: 0.3157 - val_accuracy: 0.9333\n",
            "Epoch 95/100\n",
            "15/15 [==============================] - 0s 7ms/step - loss: 0.2118 - accuracy: 0.9239 - val_loss: 0.3368 - val_accuracy: 0.9333\n",
            "Epoch 96/100\n",
            "15/15 [==============================] - 0s 6ms/step - loss: 0.2230 - accuracy: 0.9268 - val_loss: 0.3277 - val_accuracy: 0.9292\n",
            "Epoch 97/100\n",
            "15/15 [==============================] - 0s 10ms/step - loss: 0.2195 - accuracy: 0.9239 - val_loss: 0.3325 - val_accuracy: 0.9250\n",
            "Epoch 98/100\n",
            "15/15 [==============================] - 0s 7ms/step - loss: 0.1604 - accuracy: 0.9443 - val_loss: 0.3261 - val_accuracy: 0.9333\n",
            "Epoch 99/100\n",
            "15/15 [==============================] - 0s 6ms/step - loss: 0.2099 - accuracy: 0.9217 - val_loss: 0.3135 - val_accuracy: 0.9292\n",
            "Epoch 100/100\n",
            "15/15 [==============================] - 0s 6ms/step - loss: 0.1685 - accuracy: 0.9559 - val_loss: 0.2998 - val_accuracy: 0.9375\n"
          ]
        }
      ],
      "source": [
        "history_dropout = model_dropout.fit(\n",
        "    x,\n",
        "    y,\n",
        "    batch_size=64,\n",
        "    epochs=100,\n",
        "    validation_split=0.2,\n",
        "    shuffle=True\n",
        ")"
      ]
    },
    {
      "cell_type": "code",
      "execution_count": null,
      "metadata": {
        "id": "4e46Rgd_DiR8",
        "outputId": "83f15ddc-58e6-41ce-d437-d8cf3c408e7e"
      },
      "outputs": [
        {
          "data": {
            "image/png": "[encoded data removed]",
            "text/plain": [
              "<Figure size 1152x432 with 2 Axes>"
            ]
          },
          "metadata": {
            "needs_background": "light"
          },
          "output_type": "display_data"
        }
      ],
      "source": [
        "show_loss_accuracy_evolution(history_dropout)"
      ]
    },
    {
      "cell_type": "code",
      "execution_count": null,
      "metadata": {
        "id": "YFR-KHs5DiR8",
        "outputId": "35dbb847-66a6-4afc-be13-7daa11e43e7b"
      },
      "outputs": [
        {
          "name": "stdout",
          "output_type": "stream",
          "text": [
            "Test Loss: 0.31092774868011475\n",
            "Test Accuracy: 0.9217000007629395\n"
          ]
        }
      ],
      "source": [
        "results = model_dropout.evaluate(x_test, y_test, verbose=0)\n",
        "print('Test Loss: {}'.format(results[0]))\n",
        "print('Test Accuracy: {}'.format(results[1]))"
      ]
    },
    {
      "cell_type": "markdown",
      "metadata": {
        "id": "_K8BTFQFDiR8"
      },
      "source": [
        "### Question 2:\n",
        "#### What happens if you change the dropout to 0.1 or 0.9? And what if you put it only on one layer?\n",
        "#### What happens if we delete the flatten first dropout?"
      ]
    },
    {
      "cell_type": "code",
      "execution_count": null,
      "metadata": {
        "id": "KSCsl_6RDiR8"
      },
      "outputs": [],
      "source": []
    },
    {
      "cell_type": "markdown",
      "metadata": {
        "id": "s6yBCZk7DiR9"
      },
      "source": [
        "## Batch Normalization\n",
        "\n",
        "[Batch normalization](https://www.tensorflow.org/api_docs/python/tf/keras/layers/BatchNormalization) applies a transformation that maintains the mean output close to 0 and the output standard deviation close to 1.\n",
        "\n",
        "\n",
        "With Functional API:\n",
        "```python\n",
        "next_layer = layers.BatchNormalization()(prev_layer)\n",
        "```\n",
        "With Sequential:\n",
        "```python\n",
        "model.add(layers.BatchNormalization())\n",
        "```"
      ]
    },
    {
      "cell_type": "code",
      "execution_count": null,
      "metadata": {
        "id": "DTQCP-q0DiR9"
      },
      "outputs": [],
      "source": [
        "# Input\n",
        "inputs = tf.keras.Input(shape=(28, 28), name='input_layer')\n",
        "# Convert the 2D image to a vector\n",
        "flat = layers.Flatten()(inputs)\n",
        "\n",
        "# hidden layer 1\n",
        "l_1 = layers.Dense(256, activation='relu', name='layer_1')(flat)\n",
        "l_1 = layers.BatchNormalization()(l_1)\n",
        "# hidden layer 2\n",
        "l_2 = layers.Dense(128, activation='relu', name='layer_2')(l_1)\n",
        "l_2 = layers.BatchNormalization()(l_2)\n",
        "# hidden layer 3\n",
        "l_3 = layers.Dense(128, activation='relu', name='layer_3')(l_2)\n",
        "\n",
        "# Outputs\n",
        "outputs = layers.Dense(num_classes, activation='softmax',\n",
        "                       name='output_layer')(l_3)\n",
        "\n",
        "\n",
        "\n",
        "\n",
        "model_batch_norm = keras.Model(inputs=inputs, outputs=outputs, name='dont_overfit_model_batch_norm')"
      ]
    },
    {
      "cell_type": "code",
      "execution_count": null,
      "metadata": {
        "scrolled": true,
        "id": "-zOTYMrpDiR9",
        "outputId": "45b04061-56b0-46ef-b3b5-43e1ca26e328"
      },
      "outputs": [
        {
          "name": "stdout",
          "output_type": "stream",
          "text": [
            "Model: \"dont_overfit_model_batch_norm\"\n",
            "_________________________________________________________________\n",
            "Layer (type)                 Output Shape              Param #   \n",
            "=================================================================\n",
            "input_layer (InputLayer)     [(None, 28, 28)]          0         \n",
            "_________________________________________________________________\n",
            "flatten_5 (Flatten)          (None, 784)               0         \n",
            "_________________________________________________________________\n",
            "layer_1 (Dense)              (None, 256)               200960    \n",
            "_________________________________________________________________\n",
            "batch_normalization (BatchNo (None, 256)               1024      \n",
            "_________________________________________________________________\n",
            "layer_2 (Dense)              (None, 128)               32896     \n",
            "_________________________________________________________________\n",
            "batch_normalization_1 (Batch (None, 128)               512       \n",
            "_________________________________________________________________\n",
            "layer_3 (Dense)              (None, 128)               16512     \n",
            "_________________________________________________________________\n",
            "output_layer (Dense)         (None, 10)                1290      \n",
            "=================================================================\n",
            "Total params: 253,194\n",
            "Trainable params: 252,426\n",
            "Non-trainable params: 768\n",
            "_________________________________________________________________\n"
          ]
        }
      ],
      "source": [
        "model_batch_norm.summary()"
      ]
    },
    {
      "cell_type": "code",
      "execution_count": null,
      "metadata": {
        "id": "vX47QfYxDiR9"
      },
      "outputs": [],
      "source": [
        "model_batch_norm.compile(\n",
        "    optimizer='adam', loss='sparse_categorical_crossentropy', metrics=['accuracy'])"
      ]
    },
    {
      "cell_type": "code",
      "execution_count": null,
      "metadata": {
        "id": "ubjzwzWiDiR9",
        "outputId": "7ba0b73d-7219-4291-c424-b57f2a8db7e4"
      },
      "outputs": [
        {
          "name": "stdout",
          "output_type": "stream",
          "text": [
            "Epoch 1/100\n",
            "15/15 [==============================] - 1s 16ms/step - loss: 1.7658 - accuracy: 0.4057 - val_loss: 1.6707 - val_accuracy: 0.7042\n",
            "Epoch 2/100\n",
            "15/15 [==============================] - 0s 7ms/step - loss: 0.4408 - accuracy: 0.8966 - val_loss: 1.3525 - val_accuracy: 0.8375\n",
            "Epoch 3/100\n",
            "15/15 [==============================] - 0s 8ms/step - loss: 0.1904 - accuracy: 0.9597 - val_loss: 1.1480 - val_accuracy: 0.8750\n",
            "Epoch 4/100\n",
            "15/15 [==============================] - 0s 9ms/step - loss: 0.0893 - accuracy: 0.9952 - val_loss: 0.9966 - val_accuracy: 0.8875\n",
            "Epoch 5/100\n",
            "15/15 [==============================] - 0s 8ms/step - loss: 0.0467 - accuracy: 0.9974 - val_loss: 0.8720 - val_accuracy: 0.8917\n",
            "Epoch 6/100\n",
            "15/15 [==============================] - 0s 6ms/step - loss: 0.0284 - accuracy: 1.0000 - val_loss: 0.7661 - val_accuracy: 0.8875\n",
            "Epoch 7/100\n",
            "15/15 [==============================] - 0s 6ms/step - loss: 0.0230 - accuracy: 1.0000 - val_loss: 0.6790 - val_accuracy: 0.8792\n",
            "Epoch 8/100\n",
            "15/15 [==============================] - 0s 9ms/step - loss: 0.0143 - accuracy: 1.0000 - val_loss: 0.6061 - val_accuracy: 0.8875\n",
            "Epoch 9/100\n",
            "15/15 [==============================] - 0s 10ms/step - loss: 0.0110 - accuracy: 1.0000 - val_loss: 0.5469 - val_accuracy: 0.8958\n",
            "Epoch 10/100\n",
            "15/15 [==============================] - 0s 11ms/step - loss: 0.0099 - accuracy: 1.0000 - val_loss: 0.4989 - val_accuracy: 0.8875\n",
            "Epoch 11/100\n",
            "15/15 [==============================] - 0s 6ms/step - loss: 0.0065 - accuracy: 1.0000 - val_loss: 0.4581 - val_accuracy: 0.8833\n",
            "Epoch 12/100\n",
            "15/15 [==============================] - 0s 6ms/step - loss: 0.0058 - accuracy: 1.0000 - val_loss: 0.4244 - val_accuracy: 0.8833\n",
            "Epoch 13/100\n",
            "15/15 [==============================] - 0s 8ms/step - loss: 0.0064 - accuracy: 1.0000 - val_loss: 0.4138 - val_accuracy: 0.8875\n",
            "Epoch 14/100\n",
            "15/15 [==============================] - 0s 6ms/step - loss: 0.0045 - accuracy: 1.0000 - val_loss: 0.3963 - val_accuracy: 0.8917\n",
            "Epoch 15/100\n",
            "15/15 [==============================] - 0s 6ms/step - loss: 0.0050 - accuracy: 1.0000 - val_loss: 0.3754 - val_accuracy: 0.8833\n",
            "Epoch 16/100\n",
            "15/15 [==============================] - 0s 8ms/step - loss: 0.0037 - accuracy: 1.0000 - val_loss: 0.3618 - val_accuracy: 0.8833\n",
            "Epoch 17/100\n",
            "15/15 [==============================] - 0s 9ms/step - loss: 0.0029 - accuracy: 1.0000 - val_loss: 0.3539 - val_accuracy: 0.8833\n",
            "Epoch 18/100\n",
            "15/15 [==============================] - 0s 9ms/step - loss: 0.0029 - accuracy: 1.0000 - val_loss: 0.3441 - val_accuracy: 0.8833\n",
            "Epoch 19/100\n",
            "15/15 [==============================] - 0s 8ms/step - loss: 0.0024 - accuracy: 1.0000 - val_loss: 0.3383 - val_accuracy: 0.8833\n",
            "Epoch 20/100\n",
            "15/15 [==============================] - 0s 7ms/step - loss: 0.0024 - accuracy: 1.0000 - val_loss: 0.3380 - val_accuracy: 0.8833\n",
            "Epoch 21/100\n",
            "15/15 [==============================] - 0s 9ms/step - loss: 0.0021 - accuracy: 1.0000 - val_loss: 0.3390 - val_accuracy: 0.8833\n",
            "Epoch 22/100\n",
            "15/15 [==============================] - 0s 6ms/step - loss: 0.0022 - accuracy: 1.0000 - val_loss: 0.3378 - val_accuracy: 0.8875\n",
            "Epoch 23/100\n",
            "15/15 [==============================] - 0s 8ms/step - loss: 0.0018 - accuracy: 1.0000 - val_loss: 0.3385 - val_accuracy: 0.8875\n",
            "Epoch 24/100\n",
            "15/15 [==============================] - 0s 7ms/step - loss: 0.0016 - accuracy: 1.0000 - val_loss: 0.3417 - val_accuracy: 0.8875\n",
            "Epoch 25/100\n",
            "15/15 [==============================] - 0s 6ms/step - loss: 0.0014 - accuracy: 1.0000 - val_loss: 0.3416 - val_accuracy: 0.8875\n",
            "Epoch 26/100\n",
            "15/15 [==============================] - 0s 7ms/step - loss: 0.0016 - accuracy: 1.0000 - val_loss: 0.3428 - val_accuracy: 0.8875\n",
            "Epoch 27/100\n",
            "15/15 [==============================] - 0s 9ms/step - loss: 0.0013 - accuracy: 1.0000 - val_loss: 0.3444 - val_accuracy: 0.8875\n",
            "Epoch 28/100\n",
            "15/15 [==============================] - 0s 6ms/step - loss: 0.0010 - accuracy: 1.0000 - val_loss: 0.3473 - val_accuracy: 0.8875\n",
            "Epoch 29/100\n",
            "15/15 [==============================] - 0s 7ms/step - loss: 0.0011 - accuracy: 1.0000 - val_loss: 0.3485 - val_accuracy: 0.8917\n",
            "Epoch 30/100\n",
            "15/15 [==============================] - 0s 7ms/step - loss: 0.0010 - accuracy: 1.0000 - val_loss: 0.3513 - val_accuracy: 0.8917\n",
            "Epoch 31/100\n",
            "15/15 [==============================] - 0s 7ms/step - loss: 8.7604e-04 - accuracy: 1.0000 - val_loss: 0.3547 - val_accuracy: 0.8917\n",
            "Epoch 32/100\n",
            "15/15 [==============================] - 0s 7ms/step - loss: 9.8279e-04 - accuracy: 1.0000 - val_loss: 0.3575 - val_accuracy: 0.8917\n",
            "Epoch 33/100\n",
            "15/15 [==============================] - 0s 6ms/step - loss: 8.9485e-04 - accuracy: 1.0000 - val_loss: 0.3597 - val_accuracy: 0.8917\n",
            "Epoch 34/100\n",
            "15/15 [==============================] - 0s 7ms/step - loss: 7.4821e-04 - accuracy: 1.0000 - val_loss: 0.3634 - val_accuracy: 0.8875\n",
            "Epoch 35/100\n",
            "15/15 [==============================] - 0s 10ms/step - loss: 9.6343e-04 - accuracy: 1.0000 - val_loss: 0.3578 - val_accuracy: 0.8917\n",
            "Epoch 36/100\n",
            "15/15 [==============================] - 0s 6ms/step - loss: 0.0011 - accuracy: 1.0000 - val_loss: 0.3573 - val_accuracy: 0.8958\n",
            "Epoch 37/100\n",
            "15/15 [==============================] - ETA: 0s - loss: 3.8370e-04 - accuracy: 1.00 - 0s 7ms/step - loss: 8.7979e-04 - accuracy: 1.0000 - val_loss: 0.3551 - val_accuracy: 0.8917\n",
            "Epoch 38/100\n",
            "15/15 [==============================] - 0s 7ms/step - loss: 6.7621e-04 - accuracy: 1.0000 - val_loss: 0.3617 - val_accuracy: 0.8875\n",
            "Epoch 39/100\n",
            "15/15 [==============================] - 0s 6ms/step - loss: 6.1804e-04 - accuracy: 1.0000 - val_loss: 0.3645 - val_accuracy: 0.8875\n",
            "Epoch 40/100\n",
            "15/15 [==============================] - 0s 6ms/step - loss: 6.5483e-04 - accuracy: 1.0000 - val_loss: 0.3672 - val_accuracy: 0.8875\n",
            "Epoch 41/100\n",
            "15/15 [==============================] - 0s 6ms/step - loss: 5.4058e-04 - accuracy: 1.0000 - val_loss: 0.3690 - val_accuracy: 0.8875\n",
            "Epoch 42/100\n",
            "15/15 [==============================] - 0s 6ms/step - loss: 5.6185e-04 - accuracy: 1.0000 - val_loss: 0.3710 - val_accuracy: 0.8875\n",
            "Epoch 43/100\n",
            "15/15 [==============================] - 0s 5ms/step - loss: 5.3946e-04 - accuracy: 1.0000 - val_loss: 0.3734 - val_accuracy: 0.8875\n",
            "Epoch 44/100\n",
            "15/15 [==============================] - 0s 5ms/step - loss: 6.0829e-04 - accuracy: 1.0000 - val_loss: 0.3727 - val_accuracy: 0.8875\n",
            "Epoch 45/100\n",
            "15/15 [==============================] - 0s 6ms/step - loss: 4.4409e-04 - accuracy: 1.0000 - val_loss: 0.3720 - val_accuracy: 0.8875\n",
            "Epoch 46/100\n",
            "15/15 [==============================] - 0s 6ms/step - loss: 5.5597e-04 - accuracy: 1.0000 - val_loss: 0.3709 - val_accuracy: 0.8875\n",
            "Epoch 47/100\n",
            "15/15 [==============================] - 0s 9ms/step - loss: 5.2303e-04 - accuracy: 1.0000 - val_loss: 0.3684 - val_accuracy: 0.8875\n",
            "Epoch 48/100\n",
            "15/15 [==============================] - 0s 9ms/step - loss: 4.3858e-04 - accuracy: 1.0000 - val_loss: 0.3697 - val_accuracy: 0.8875\n",
            "Epoch 49/100\n",
            "15/15 [==============================] - 0s 9ms/step - loss: 3.9374e-04 - accuracy: 1.0000 - val_loss: 0.3732 - val_accuracy: 0.8875\n",
            "Epoch 50/100\n",
            "15/15 [==============================] - 0s 8ms/step - loss: 3.6979e-04 - accuracy: 1.0000 - val_loss: 0.3747 - val_accuracy: 0.8875\n",
            "Epoch 51/100\n",
            "15/15 [==============================] - 0s 9ms/step - loss: 4.4512e-04 - accuracy: 1.0000 - val_loss: 0.3721 - val_accuracy: 0.8875\n",
            "Epoch 52/100\n",
            "15/15 [==============================] - 0s 8ms/step - loss: 3.0301e-04 - accuracy: 1.0000 - val_loss: 0.3737 - val_accuracy: 0.8875\n",
            "Epoch 53/100\n",
            "15/15 [==============================] - 0s 5ms/step - loss: 3.7329e-04 - accuracy: 1.0000 - val_loss: 0.3753 - val_accuracy: 0.8875\n",
            "Epoch 54/100\n",
            "15/15 [==============================] - 0s 8ms/step - loss: 3.3618e-04 - accuracy: 1.0000 - val_loss: 0.3767 - val_accuracy: 0.8875\n",
            "Epoch 55/100\n",
            "15/15 [==============================] - 0s 7ms/step - loss: 3.3608e-04 - accuracy: 1.0000 - val_loss: 0.3788 - val_accuracy: 0.8958\n",
            "Epoch 56/100\n",
            "15/15 [==============================] - 0s 8ms/step - loss: 2.2058e-04 - accuracy: 1.0000 - val_loss: 0.3801 - val_accuracy: 0.8958\n",
            "Epoch 57/100\n",
            "15/15 [==============================] - 0s 6ms/step - loss: 2.9177e-04 - accuracy: 1.0000 - val_loss: 0.3810 - val_accuracy: 0.8958\n"
          ]
        },
        {
          "name": "stdout",
          "output_type": "stream",
          "text": [
            "Epoch 58/100\n",
            "15/15 [==============================] - 0s 7ms/step - loss: 2.4481e-04 - accuracy: 1.0000 - val_loss: 0.3818 - val_accuracy: 0.8958\n",
            "Epoch 59/100\n",
            "15/15 [==============================] - 0s 8ms/step - loss: 2.9048e-04 - accuracy: 1.0000 - val_loss: 0.3833 - val_accuracy: 0.8958\n",
            "Epoch 60/100\n",
            "15/15 [==============================] - 0s 9ms/step - loss: 3.3030e-04 - accuracy: 1.0000 - val_loss: 0.3852 - val_accuracy: 0.8917\n",
            "Epoch 61/100\n",
            "15/15 [==============================] - 0s 7ms/step - loss: 2.8011e-04 - accuracy: 1.0000 - val_loss: 0.3848 - val_accuracy: 0.8917\n",
            "Epoch 62/100\n",
            "15/15 [==============================] - 0s 6ms/step - loss: 3.1024e-04 - accuracy: 1.0000 - val_loss: 0.3880 - val_accuracy: 0.8917\n",
            "Epoch 63/100\n",
            "15/15 [==============================] - 0s 6ms/step - loss: 2.2379e-04 - accuracy: 1.0000 - val_loss: 0.3878 - val_accuracy: 0.8875\n",
            "Epoch 64/100\n",
            "15/15 [==============================] - 0s 6ms/step - loss: 2.5513e-04 - accuracy: 1.0000 - val_loss: 0.3882 - val_accuracy: 0.8875\n",
            "Epoch 65/100\n",
            "15/15 [==============================] - 0s 7ms/step - loss: 2.0773e-04 - accuracy: 1.0000 - val_loss: 0.3874 - val_accuracy: 0.8875\n",
            "Epoch 66/100\n",
            "15/15 [==============================] - 0s 7ms/step - loss: 2.1844e-04 - accuracy: 1.0000 - val_loss: 0.3876 - val_accuracy: 0.8917\n",
            "Epoch 67/100\n",
            "15/15 [==============================] - 0s 7ms/step - loss: 2.4842e-04 - accuracy: 1.0000 - val_loss: 0.3920 - val_accuracy: 0.8875\n",
            "Epoch 68/100\n",
            "15/15 [==============================] - 0s 7ms/step - loss: 2.0976e-04 - accuracy: 1.0000 - val_loss: 0.3940 - val_accuracy: 0.8875\n",
            "Epoch 69/100\n",
            "15/15 [==============================] - 0s 6ms/step - loss: 2.3121e-04 - accuracy: 1.0000 - val_loss: 0.3951 - val_accuracy: 0.8875\n",
            "Epoch 70/100\n",
            "15/15 [==============================] - 0s 5ms/step - loss: 2.1721e-04 - accuracy: 1.0000 - val_loss: 0.3951 - val_accuracy: 0.8875\n",
            "Epoch 71/100\n",
            "15/15 [==============================] - 0s 6ms/step - loss: 1.8148e-04 - accuracy: 1.0000 - val_loss: 0.3940 - val_accuracy: 0.8917\n",
            "Epoch 72/100\n",
            "15/15 [==============================] - 0s 8ms/step - loss: 1.8940e-04 - accuracy: 1.0000 - val_loss: 0.3941 - val_accuracy: 0.8917\n",
            "Epoch 73/100\n",
            "15/15 [==============================] - 0s 8ms/step - loss: 2.1196e-04 - accuracy: 1.0000 - val_loss: 0.3970 - val_accuracy: 0.8917\n",
            "Epoch 74/100\n",
            "15/15 [==============================] - 0s 7ms/step - loss: 1.6240e-04 - accuracy: 1.0000 - val_loss: 0.3972 - val_accuracy: 0.8917\n",
            "Epoch 75/100\n",
            "15/15 [==============================] - 0s 7ms/step - loss: 2.1128e-04 - accuracy: 1.0000 - val_loss: 0.3974 - val_accuracy: 0.8917\n",
            "Epoch 76/100\n",
            "15/15 [==============================] - 0s 7ms/step - loss: 2.2958e-04 - accuracy: 1.0000 - val_loss: 0.3950 - val_accuracy: 0.8917\n",
            "Epoch 77/100\n",
            "15/15 [==============================] - 0s 7ms/step - loss: 2.1038e-04 - accuracy: 1.0000 - val_loss: 0.3965 - val_accuracy: 0.8917\n",
            "Epoch 78/100\n",
            "15/15 [==============================] - 0s 5ms/step - loss: 1.4026e-04 - accuracy: 1.0000 - val_loss: 0.3961 - val_accuracy: 0.8958\n",
            "Epoch 79/100\n",
            "15/15 [==============================] - 0s 8ms/step - loss: 2.2861e-04 - accuracy: 1.0000 - val_loss: 0.3966 - val_accuracy: 0.8958\n",
            "Epoch 80/100\n",
            "15/15 [==============================] - 0s 7ms/step - loss: 1.6439e-04 - accuracy: 1.0000 - val_loss: 0.3976 - val_accuracy: 0.8958\n",
            "Epoch 81/100\n",
            "15/15 [==============================] - 0s 7ms/step - loss: 1.3294e-04 - accuracy: 1.0000 - val_loss: 0.3986 - val_accuracy: 0.8958\n",
            "Epoch 82/100\n",
            "15/15 [==============================] - 0s 6ms/step - loss: 1.3300e-04 - accuracy: 1.0000 - val_loss: 0.3996 - val_accuracy: 0.8958\n",
            "Epoch 83/100\n",
            "15/15 [==============================] - 0s 5ms/step - loss: 1.3727e-04 - accuracy: 1.0000 - val_loss: 0.4013 - val_accuracy: 0.8917\n",
            "Epoch 84/100\n",
            "15/15 [==============================] - 0s 6ms/step - loss: 1.1935e-04 - accuracy: 1.0000 - val_loss: 0.4024 - val_accuracy: 0.8917\n",
            "Epoch 85/100\n",
            "15/15 [==============================] - 0s 6ms/step - loss: 1.4810e-04 - accuracy: 1.0000 - val_loss: 0.4018 - val_accuracy: 0.8917\n",
            "Epoch 86/100\n",
            "15/15 [==============================] - 0s 6ms/step - loss: 1.8120e-04 - accuracy: 1.0000 - val_loss: 0.4008 - val_accuracy: 0.8917\n",
            "Epoch 87/100\n",
            "15/15 [==============================] - 0s 5ms/step - loss: 1.1011e-04 - accuracy: 1.0000 - val_loss: 0.3996 - val_accuracy: 0.8917\n",
            "Epoch 88/100\n",
            "15/15 [==============================] - 0s 6ms/step - loss: 1.3067e-04 - accuracy: 1.0000 - val_loss: 0.3989 - val_accuracy: 0.8917\n",
            "Epoch 89/100\n",
            "15/15 [==============================] - 0s 6ms/step - loss: 1.2661e-04 - accuracy: 1.0000 - val_loss: 0.4003 - val_accuracy: 0.8917\n",
            "Epoch 90/100\n",
            "15/15 [==============================] - 0s 5ms/step - loss: 1.2112e-04 - accuracy: 1.0000 - val_loss: 0.4023 - val_accuracy: 0.8917\n",
            "Epoch 91/100\n",
            "15/15 [==============================] - 0s 5ms/step - loss: 1.1369e-04 - accuracy: 1.0000 - val_loss: 0.4034 - val_accuracy: 0.8917\n",
            "Epoch 92/100\n",
            "15/15 [==============================] - 0s 6ms/step - loss: 1.1158e-04 - accuracy: 1.0000 - val_loss: 0.4051 - val_accuracy: 0.8917\n",
            "Epoch 93/100\n",
            "15/15 [==============================] - 0s 6ms/step - loss: 1.1631e-04 - accuracy: 1.0000 - val_loss: 0.4048 - val_accuracy: 0.8917\n",
            "Epoch 94/100\n",
            "15/15 [==============================] - 0s 5ms/step - loss: 1.1689e-04 - accuracy: 1.0000 - val_loss: 0.4051 - val_accuracy: 0.8917\n",
            "Epoch 95/100\n",
            "15/15 [==============================] - 0s 6ms/step - loss: 1.3600e-04 - accuracy: 1.0000 - val_loss: 0.4060 - val_accuracy: 0.8917\n",
            "Epoch 96/100\n",
            "15/15 [==============================] - 0s 5ms/step - loss: 9.5721e-05 - accuracy: 1.0000 - val_loss: 0.4062 - val_accuracy: 0.8917\n",
            "Epoch 97/100\n",
            "15/15 [==============================] - 0s 5ms/step - loss: 9.6149e-05 - accuracy: 1.0000 - val_loss: 0.4064 - val_accuracy: 0.8917\n",
            "Epoch 98/100\n",
            "15/15 [==============================] - 0s 6ms/step - loss: 8.7732e-05 - accuracy: 1.0000 - val_loss: 0.4071 - val_accuracy: 0.8917\n",
            "Epoch 99/100\n",
            "15/15 [==============================] - 0s 5ms/step - loss: 8.8724e-05 - accuracy: 1.0000 - val_loss: 0.4072 - val_accuracy: 0.8917\n",
            "Epoch 100/100\n",
            "15/15 [==============================] - 0s 6ms/step - loss: 9.2515e-05 - accuracy: 1.0000 - val_loss: 0.4082 - val_accuracy: 0.8875\n"
          ]
        }
      ],
      "source": [
        "history_batch_norm = model_batch_norm.fit(\n",
        "    x,\n",
        "    y,\n",
        "    batch_size=64,\n",
        "    epochs=100,\n",
        "    validation_split=0.2,\n",
        "    shuffle=True\n",
        ")"
      ]
    },
    {
      "cell_type": "code",
      "execution_count": null,
      "metadata": {
        "scrolled": true,
        "id": "WuD4K23yDiR9",
        "outputId": "0ca7b2a4-3629-49f2-951c-0537f435d797"
      },
      "outputs": [
        {
          "data": {
            "image/png": "[encoded data removed]",
            "text/plain": [
              "<Figure size 1152x432 with 2 Axes>"
            ]
          },
          "metadata": {
            "needs_background": "light"
          },
          "output_type": "display_data"
        }
      ],
      "source": [
        "show_loss_accuracy_evolution(history_batch_norm)"
      ]
    },
    {
      "cell_type": "code",
      "execution_count": null,
      "metadata": {
        "id": "dWwT2i69DiR9",
        "outputId": "4ef189cc-ffb3-4093-f02f-c6cabf7e0b68"
      },
      "outputs": [
        {
          "name": "stdout",
          "output_type": "stream",
          "text": [
            "Test Loss: 0.3805147111415863\n",
            "Test Accuracy: 0.9108999967575073\n"
          ]
        }
      ],
      "source": [
        "results = model_batch_norm.evaluate(x_test, y_test, verbose=0)\n",
        "print('Test Loss: {}'.format(results[0]))\n",
        "print('Test Accuracy: {}'.format(results[1]))"
      ]
    },
    {
      "cell_type": "markdown",
      "metadata": {
        "id": "7LSxlB6yDiR9"
      },
      "source": [
        "<a id='l1_l2_elasticnet'></a>\n",
        "## L1, L2 and ElasticNet\n",
        "\n",
        "Recordemos que durante el entrenamiento de la red se aprende la configuración de pesos y biases que permita mejorar los resultados para una determinada función de pérdida.\n",
        "\n",
        "* [L1 regularization](https://developers.google.com/machine-learning/glossary/#L1_regularization), where the cost added is proportional to the absolute value of the weights coefficients (\"L1 norm\" of the weights).\n",
        "\n",
        "```python\n",
        "tf.keras.regularizers.l1(l1=0.01)\n",
        "\n",
        "layers.Dense(3, kernel_regularizer='l1')\n",
        "\n",
        "```\n",
        "\n",
        "\n",
        "* [L2 regularization](https://developers.google.com/machine-learning/glossary/#L2_regularization), where the cost added is proportional to the square of the value of the weights coefficients ( \"L2 norm\" of the weights).\n",
        "\n",
        "```python\n",
        "tf.keras.regularizers.l2(l2=0.01)\n",
        "\n",
        "layers.Dense(3, kernel_regularizer='l2')\n",
        "\n",
        "```\n",
        "* L1_L2 or Elastic Net.\n",
        "\n",
        "```python\n",
        "tf.keras.regularizers.l1_l2(\n",
        "    l1=0.01, l2=0.01\n",
        ")\n",
        "\n",
        "layers.Dense(3, kernel_regularizer='l1_l2')\n",
        "\n",
        "```\n",
        "\n",
        "Furthermore, it is possible to choose whether to include the penalty in the cost function on the weights, the biases or on the activation, with the following arguments:\n",
        "- `kernel_regularizer`: only on weights.\n",
        "- `bias_regularizer`: only on biases.\n",
        "- `activity_regularizer`: on full output.\n",
        "\n",
        "[link to documentation](https://keras.io/api/layers/regularizers/)."
      ]
    },
    {
      "cell_type": "code",
      "execution_count": null,
      "metadata": {
        "id": "0ZBrAPGhDiR9"
      },
      "outputs": [],
      "source": [
        "from tensorflow.keras import regularizers"
      ]
    },
    {
      "cell_type": "code",
      "execution_count": null,
      "metadata": {
        "id": "H2mV9_sYDiR9"
      },
      "outputs": [],
      "source": [
        "kerner_regularizer_l1 = regularizers.l1_l2(l1=1e-5, l2=5e-4)\n",
        "kerner_regularizer_l2 = regularizers.l2(5e-4)\n",
        "kerner_regularizer_l3 = regularizers.l1(1e-5)"
      ]
    },
    {
      "cell_type": "code",
      "execution_count": null,
      "metadata": {
        "id": "ECpmegImDiR-"
      },
      "outputs": [],
      "source": [
        "\n",
        "# Input\n",
        "inputs = tf.keras.Input(shape=(28, 28), name='input_layer')\n",
        "# Convert the 2D image to a vector\n",
        "flat = layers.Flatten()(inputs)\n",
        "\n",
        "# hidden layer 1\n",
        "l_1 = layers.Dense(256, activation='relu',\n",
        "                   kernel_regularizer=kerner_regularizer_l1, name='layer_1')(flat)\n",
        "# hidden layer 2\n",
        "l_2 = layers.Dense(128, activation='relu',\n",
        "                   kernel_regularizer=kerner_regularizer_l2, name='layer_2')(l_1)\n",
        "# hidden layer 3\n",
        "l_3 = layers.Dense(128, activation='relu',\n",
        "                   kernel_regularizer=kerner_regularizer_l3, name='layer_3')(l_2)\n",
        "\n",
        "# Outputs\n",
        "outputs = layers.Dense(num_classes, activation='softmax',\n",
        "                       name='output_layer')(l_3)\n",
        "\n",
        "\n",
        "model_regularizers = keras.Model(inputs=inputs,\n",
        "                                 outputs=outputs,\n",
        "                                 name='dont_overfit_model_regularizers')"
      ]
    },
    {
      "cell_type": "code",
      "execution_count": null,
      "metadata": {
        "id": "Dr5Xgux_DiR-",
        "outputId": "173ec3b0-4d49-4c45-9c7b-2085528598eb"
      },
      "outputs": [
        {
          "name": "stdout",
          "output_type": "stream",
          "text": [
            "Model: \"dont_overfit_model_regularizers\"\n",
            "_________________________________________________________________\n",
            "Layer (type)                 Output Shape              Param #   \n",
            "=================================================================\n",
            "input_layer (InputLayer)     [(None, 28, 28)]          0         \n",
            "_________________________________________________________________\n",
            "flatten_6 (Flatten)          (None, 784)               0         \n",
            "_________________________________________________________________\n",
            "layer_1 (Dense)              (None, 256)               200960    \n",
            "_________________________________________________________________\n",
            "layer_2 (Dense)              (None, 128)               32896     \n",
            "_________________________________________________________________\n",
            "layer_3 (Dense)              (None, 128)               16512     \n",
            "_________________________________________________________________\n",
            "output_layer (Dense)         (None, 10)                1290      \n",
            "=================================================================\n",
            "Total params: 251,658\n",
            "Trainable params: 251,658\n",
            "Non-trainable params: 0\n",
            "_________________________________________________________________\n"
          ]
        }
      ],
      "source": [
        "model_regularizers.summary()"
      ]
    },
    {
      "cell_type": "code",
      "execution_count": null,
      "metadata": {
        "id": "UcJgHOy_DiR-"
      },
      "outputs": [],
      "source": [
        "model_regularizers.compile(optimizer='adam', loss='sparse_categorical_crossentropy', metrics=['accuracy'])"
      ]
    },
    {
      "cell_type": "code",
      "execution_count": null,
      "metadata": {
        "id": "FZRFMc96DiR-",
        "outputId": "a012ddae-7e89-40db-d166-915d3c219a1c"
      },
      "outputs": [
        {
          "name": "stdout",
          "output_type": "stream",
          "text": [
            "Epoch 1/100\n",
            "15/15 [==============================] - 1s 15ms/step - loss: 2.3849 - accuracy: 0.3831 - val_loss: 1.2707 - val_accuracy: 0.7958\n",
            "Epoch 2/100\n",
            "15/15 [==============================] - 0s 7ms/step - loss: 1.0578 - accuracy: 0.8182 - val_loss: 0.7714 - val_accuracy: 0.8625\n",
            "Epoch 3/100\n",
            "15/15 [==============================] - 0s 8ms/step - loss: 0.6546 - accuracy: 0.8830 - val_loss: 0.6515 - val_accuracy: 0.8708\n",
            "Epoch 4/100\n",
            "15/15 [==============================] - 0s 8ms/step - loss: 0.5116 - accuracy: 0.9325 - val_loss: 0.6523 - val_accuracy: 0.8833\n",
            "Epoch 5/100\n",
            "15/15 [==============================] - 0s 8ms/step - loss: 0.4267 - accuracy: 0.9560 - val_loss: 0.6331 - val_accuracy: 0.9000\n",
            "Epoch 6/100\n",
            "15/15 [==============================] - 0s 8ms/step - loss: 0.3728 - accuracy: 0.9741 - val_loss: 0.6470 - val_accuracy: 0.8958\n",
            "Epoch 7/100\n",
            "15/15 [==============================] - 0s 9ms/step - loss: 0.3127 - accuracy: 0.9913 - val_loss: 0.5969 - val_accuracy: 0.9125\n",
            "Epoch 8/100\n",
            "15/15 [==============================] - 0s 7ms/step - loss: 0.2874 - accuracy: 0.9955 - val_loss: 0.5872 - val_accuracy: 0.8917\n",
            "Epoch 9/100\n",
            "15/15 [==============================] - 0s 6ms/step - loss: 0.2673 - accuracy: 0.9980 - val_loss: 0.5984 - val_accuracy: 0.9042\n",
            "Epoch 10/100\n",
            "15/15 [==============================] - 0s 7ms/step - loss: 0.2565 - accuracy: 0.9966 - val_loss: 0.6223 - val_accuracy: 0.8958\n",
            "Epoch 11/100\n",
            "15/15 [==============================] - 0s 5ms/step - loss: 0.2416 - accuracy: 1.0000 - val_loss: 0.6110 - val_accuracy: 0.9042\n",
            "Epoch 12/100\n",
            "15/15 [==============================] - 0s 8ms/step - loss: 0.2326 - accuracy: 1.0000 - val_loss: 0.5998 - val_accuracy: 0.9042\n",
            "Epoch 13/100\n",
            "15/15 [==============================] - 0s 8ms/step - loss: 0.2243 - accuracy: 1.0000 - val_loss: 0.6336 - val_accuracy: 0.9042\n",
            "Epoch 14/100\n",
            "15/15 [==============================] - 0s 8ms/step - loss: 0.2177 - accuracy: 1.0000 - val_loss: 0.6035 - val_accuracy: 0.9167\n",
            "Epoch 15/100\n",
            "15/15 [==============================] - 0s 7ms/step - loss: 0.2105 - accuracy: 1.0000 - val_loss: 0.6027 - val_accuracy: 0.9083\n",
            "Epoch 16/100\n",
            "15/15 [==============================] - 0s 6ms/step - loss: 0.2061 - accuracy: 1.0000 - val_loss: 0.6173 - val_accuracy: 0.9083\n",
            "Epoch 17/100\n",
            "15/15 [==============================] - 0s 6ms/step - loss: 0.2003 - accuracy: 1.0000 - val_loss: 0.5872 - val_accuracy: 0.8958\n",
            "Epoch 18/100\n",
            "15/15 [==============================] - 0s 8ms/step - loss: 0.1944 - accuracy: 1.0000 - val_loss: 0.6025 - val_accuracy: 0.8917\n",
            "Epoch 19/100\n",
            "15/15 [==============================] - 0s 5ms/step - loss: 0.1900 - accuracy: 1.0000 - val_loss: 0.6160 - val_accuracy: 0.9042\n",
            "Epoch 20/100\n",
            "15/15 [==============================] - 0s 6ms/step - loss: 0.1849 - accuracy: 1.0000 - val_loss: 0.5946 - val_accuracy: 0.8917\n",
            "Epoch 21/100\n",
            "15/15 [==============================] - 0s 6ms/step - loss: 0.1804 - accuracy: 1.0000 - val_loss: 0.6155 - val_accuracy: 0.8875\n",
            "Epoch 22/100\n",
            "15/15 [==============================] - 0s 6ms/step - loss: 0.1765 - accuracy: 1.0000 - val_loss: 0.6044 - val_accuracy: 0.8917\n",
            "Epoch 23/100\n",
            "15/15 [==============================] - 0s 8ms/step - loss: 0.1721 - accuracy: 1.0000 - val_loss: 0.6113 - val_accuracy: 0.8875\n",
            "Epoch 24/100\n",
            "15/15 [==============================] - 0s 6ms/step - loss: 0.1682 - accuracy: 1.0000 - val_loss: 0.5954 - val_accuracy: 0.8875\n",
            "Epoch 25/100\n",
            "15/15 [==============================] - 0s 6ms/step - loss: 0.1646 - accuracy: 1.0000 - val_loss: 0.6096 - val_accuracy: 0.8875\n",
            "Epoch 26/100\n",
            "15/15 [==============================] - 0s 6ms/step - loss: 0.1607 - accuracy: 1.0000 - val_loss: 0.5975 - val_accuracy: 0.9000\n",
            "Epoch 27/100\n",
            "15/15 [==============================] - 0s 6ms/step - loss: 0.1576 - accuracy: 1.0000 - val_loss: 0.6118 - val_accuracy: 0.8875\n",
            "Epoch 28/100\n",
            "15/15 [==============================] - 0s 8ms/step - loss: 0.1535 - accuracy: 1.0000 - val_loss: 0.5851 - val_accuracy: 0.8917\n",
            "Epoch 29/100\n",
            "15/15 [==============================] - 0s 6ms/step - loss: 0.1504 - accuracy: 1.0000 - val_loss: 0.5934 - val_accuracy: 0.8917\n",
            "Epoch 30/100\n",
            "15/15 [==============================] - 0s 6ms/step - loss: 0.1476 - accuracy: 1.0000 - val_loss: 0.5776 - val_accuracy: 0.8958\n",
            "Epoch 31/100\n",
            "15/15 [==============================] - 0s 6ms/step - loss: 0.1441 - accuracy: 1.0000 - val_loss: 0.5804 - val_accuracy: 0.9000\n",
            "Epoch 32/100\n",
            "15/15 [==============================] - 0s 6ms/step - loss: 0.1405 - accuracy: 1.0000 - val_loss: 0.5756 - val_accuracy: 0.8875\n",
            "Epoch 33/100\n",
            "15/15 [==============================] - 0s 6ms/step - loss: 0.1379 - accuracy: 1.0000 - val_loss: 0.6265 - val_accuracy: 0.8875\n",
            "Epoch 34/100\n",
            "15/15 [==============================] - 0s 7ms/step - loss: 0.1347 - accuracy: 1.0000 - val_loss: 0.6008 - val_accuracy: 0.8875\n",
            "Epoch 35/100\n",
            "15/15 [==============================] - 0s 7ms/step - loss: 0.1324 - accuracy: 1.0000 - val_loss: 0.6108 - val_accuracy: 0.8792\n",
            "Epoch 36/100\n",
            "15/15 [==============================] - 0s 7ms/step - loss: 0.1297 - accuracy: 1.0000 - val_loss: 0.6144 - val_accuracy: 0.8750\n",
            "Epoch 37/100\n",
            "15/15 [==============================] - 0s 7ms/step - loss: 0.1261 - accuracy: 1.0000 - val_loss: 0.5754 - val_accuracy: 0.8792\n",
            "Epoch 38/100\n",
            "15/15 [==============================] - 0s 7ms/step - loss: 0.1234 - accuracy: 1.0000 - val_loss: 0.5603 - val_accuracy: 0.8875\n",
            "Epoch 39/100\n",
            "15/15 [==============================] - 0s 7ms/step - loss: 0.1204 - accuracy: 1.0000 - val_loss: 0.5851 - val_accuracy: 0.8833\n",
            "Epoch 40/100\n",
            "15/15 [==============================] - 0s 6ms/step - loss: 0.1182 - accuracy: 1.0000 - val_loss: 0.5916 - val_accuracy: 0.8833\n",
            "Epoch 41/100\n",
            "15/15 [==============================] - 0s 6ms/step - loss: 0.1156 - accuracy: 1.0000 - val_loss: 0.5763 - val_accuracy: 0.8792\n",
            "Epoch 42/100\n",
            "15/15 [==============================] - 0s 6ms/step - loss: 0.1136 - accuracy: 1.0000 - val_loss: 0.5789 - val_accuracy: 0.8792\n",
            "Epoch 43/100\n",
            "15/15 [==============================] - 0s 5ms/step - loss: 0.1108 - accuracy: 1.0000 - val_loss: 0.5513 - val_accuracy: 0.8875\n",
            "Epoch 44/100\n",
            "15/15 [==============================] - 0s 5ms/step - loss: 0.1086 - accuracy: 1.0000 - val_loss: 0.5466 - val_accuracy: 0.8875\n",
            "Epoch 45/100\n",
            "15/15 [==============================] - 0s 6ms/step - loss: 0.1068 - accuracy: 1.0000 - val_loss: 0.5582 - val_accuracy: 0.8833\n",
            "Epoch 46/100\n",
            "15/15 [==============================] - 0s 7ms/step - loss: 0.1047 - accuracy: 1.0000 - val_loss: 0.5850 - val_accuracy: 0.8875\n",
            "Epoch 47/100\n",
            "15/15 [==============================] - 0s 6ms/step - loss: 0.1191 - accuracy: 0.9957 - val_loss: 1.1663 - val_accuracy: 0.7917\n",
            "Epoch 48/100\n",
            "15/15 [==============================] - 0s 5ms/step - loss: 0.3662 - accuracy: 0.9040 - val_loss: 0.4884 - val_accuracy: 0.9083\n",
            "Epoch 49/100\n",
            "15/15 [==============================] - 0s 5ms/step - loss: 0.2092 - accuracy: 0.9779 - val_loss: 0.5364 - val_accuracy: 0.8917\n",
            "Epoch 50/100\n",
            "15/15 [==============================] - 0s 6ms/step - loss: 0.1795 - accuracy: 0.9915 - val_loss: 0.5394 - val_accuracy: 0.9000\n",
            "Epoch 51/100\n",
            "15/15 [==============================] - 0s 6ms/step - loss: 0.1527 - accuracy: 0.9899 - val_loss: 0.6023 - val_accuracy: 0.8917\n",
            "Epoch 52/100\n",
            "15/15 [==============================] - 0s 6ms/step - loss: 0.1402 - accuracy: 0.9935 - val_loss: 0.5695 - val_accuracy: 0.9000\n",
            "Epoch 53/100\n",
            "15/15 [==============================] - 0s 6ms/step - loss: 0.1259 - accuracy: 1.0000 - val_loss: 0.5202 - val_accuracy: 0.9000\n",
            "Epoch 54/100\n",
            "15/15 [==============================] - 0s 5ms/step - loss: 0.1208 - accuracy: 0.9993 - val_loss: 0.5233 - val_accuracy: 0.9125\n",
            "Epoch 55/100\n",
            "15/15 [==============================] - 0s 5ms/step - loss: 0.1168 - accuracy: 1.0000 - val_loss: 0.5597 - val_accuracy: 0.9000\n",
            "Epoch 56/100\n",
            "15/15 [==============================] - 0s 5ms/step - loss: 0.1140 - accuracy: 1.0000 - val_loss: 0.5283 - val_accuracy: 0.9167\n",
            "Epoch 57/100\n",
            "15/15 [==============================] - 0s 6ms/step - loss: 0.1111 - accuracy: 1.0000 - val_loss: 0.5328 - val_accuracy: 0.9083\n",
            "Epoch 58/100\n",
            "15/15 [==============================] - 0s 5ms/step - loss: 0.1087 - accuracy: 1.0000 - val_loss: 0.5376 - val_accuracy: 0.9042\n"
          ]
        },
        {
          "name": "stdout",
          "output_type": "stream",
          "text": [
            "Epoch 59/100\n",
            "15/15 [==============================] - 0s 6ms/step - loss: 0.1065 - accuracy: 1.0000 - val_loss: 0.5380 - val_accuracy: 0.9083\n",
            "Epoch 60/100\n",
            "15/15 [==============================] - 0s 5ms/step - loss: 0.1044 - accuracy: 1.0000 - val_loss: 0.5382 - val_accuracy: 0.9042\n",
            "Epoch 61/100\n",
            "15/15 [==============================] - 0s 5ms/step - loss: 0.1021 - accuracy: 1.0000 - val_loss: 0.5380 - val_accuracy: 0.9042\n",
            "Epoch 62/100\n",
            "15/15 [==============================] - 0s 5ms/step - loss: 0.1002 - accuracy: 1.0000 - val_loss: 0.5382 - val_accuracy: 0.9000\n",
            "Epoch 63/100\n",
            "15/15 [==============================] - 0s 6ms/step - loss: 0.0984 - accuracy: 1.0000 - val_loss: 0.5344 - val_accuracy: 0.9000\n",
            "Epoch 64/100\n",
            "15/15 [==============================] - 0s 6ms/step - loss: 0.0966 - accuracy: 1.0000 - val_loss: 0.5378 - val_accuracy: 0.9000\n",
            "Epoch 65/100\n",
            "15/15 [==============================] - 0s 6ms/step - loss: 0.0949 - accuracy: 1.0000 - val_loss: 0.5322 - val_accuracy: 0.8958\n",
            "Epoch 66/100\n",
            "15/15 [==============================] - 0s 7ms/step - loss: 0.0931 - accuracy: 1.0000 - val_loss: 0.5326 - val_accuracy: 0.8917\n",
            "Epoch 67/100\n",
            "15/15 [==============================] - 0s 5ms/step - loss: 0.0916 - accuracy: 1.0000 - val_loss: 0.5311 - val_accuracy: 0.8917\n",
            "Epoch 68/100\n",
            "15/15 [==============================] - 0s 5ms/step - loss: 0.0902 - accuracy: 1.0000 - val_loss: 0.5270 - val_accuracy: 0.8958\n",
            "Epoch 69/100\n",
            "15/15 [==============================] - 0s 5ms/step - loss: 0.0886 - accuracy: 1.0000 - val_loss: 0.5332 - val_accuracy: 0.8875\n",
            "Epoch 70/100\n",
            "15/15 [==============================] - 0s 6ms/step - loss: 0.0872 - accuracy: 1.0000 - val_loss: 0.5211 - val_accuracy: 0.8917\n",
            "Epoch 71/100\n",
            "15/15 [==============================] - 0s 5ms/step - loss: 0.0858 - accuracy: 1.0000 - val_loss: 0.5222 - val_accuracy: 0.8875\n",
            "Epoch 72/100\n",
            "15/15 [==============================] - 0s 7ms/step - loss: 0.0845 - accuracy: 1.0000 - val_loss: 0.5209 - val_accuracy: 0.8917\n",
            "Epoch 73/100\n",
            "15/15 [==============================] - 0s 6ms/step - loss: 0.0833 - accuracy: 1.0000 - val_loss: 0.5153 - val_accuracy: 0.8917\n",
            "Epoch 74/100\n",
            "15/15 [==============================] - 0s 5ms/step - loss: 0.0820 - accuracy: 1.0000 - val_loss: 0.5141 - val_accuracy: 0.8917\n",
            "Epoch 75/100\n",
            "15/15 [==============================] - 0s 7ms/step - loss: 0.0807 - accuracy: 1.0000 - val_loss: 0.5160 - val_accuracy: 0.8917\n",
            "Epoch 76/100\n",
            "15/15 [==============================] - 0s 7ms/step - loss: 0.0794 - accuracy: 1.0000 - val_loss: 0.5027 - val_accuracy: 0.8917\n",
            "Epoch 77/100\n",
            "15/15 [==============================] - 0s 6ms/step - loss: 0.0787 - accuracy: 1.0000 - val_loss: 0.5100 - val_accuracy: 0.8917\n",
            "Epoch 78/100\n",
            "15/15 [==============================] - 0s 5ms/step - loss: 0.0774 - accuracy: 1.0000 - val_loss: 0.4996 - val_accuracy: 0.8958\n",
            "Epoch 79/100\n",
            "15/15 [==============================] - 0s 7ms/step - loss: 0.0762 - accuracy: 1.0000 - val_loss: 0.5075 - val_accuracy: 0.8917\n",
            "Epoch 80/100\n",
            "15/15 [==============================] - 0s 5ms/step - loss: 0.0754 - accuracy: 1.0000 - val_loss: 0.5098 - val_accuracy: 0.8958\n",
            "Epoch 81/100\n",
            "15/15 [==============================] - 0s 5ms/step - loss: 0.0743 - accuracy: 1.0000 - val_loss: 0.5055 - val_accuracy: 0.8917\n",
            "Epoch 82/100\n",
            "15/15 [==============================] - 0s 6ms/step - loss: 0.0732 - accuracy: 1.0000 - val_loss: 0.5015 - val_accuracy: 0.8958\n",
            "Epoch 83/100\n",
            "15/15 [==============================] - 0s 6ms/step - loss: 0.0724 - accuracy: 1.0000 - val_loss: 0.4940 - val_accuracy: 0.8958\n",
            "Epoch 84/100\n",
            "15/15 [==============================] - 0s 6ms/step - loss: 0.0714 - accuracy: 1.0000 - val_loss: 0.4942 - val_accuracy: 0.8875\n",
            "Epoch 85/100\n",
            "15/15 [==============================] - 0s 7ms/step - loss: 0.0705 - accuracy: 1.0000 - val_loss: 0.4950 - val_accuracy: 0.8958\n",
            "Epoch 86/100\n",
            "15/15 [==============================] - 0s 6ms/step - loss: 0.0696 - accuracy: 1.0000 - val_loss: 0.4810 - val_accuracy: 0.8917\n",
            "Epoch 87/100\n",
            "15/15 [==============================] - 0s 6ms/step - loss: 0.0690 - accuracy: 1.0000 - val_loss: 0.4890 - val_accuracy: 0.8917\n",
            "Epoch 88/100\n",
            "15/15 [==============================] - 0s 7ms/step - loss: 0.0681 - accuracy: 1.0000 - val_loss: 0.4895 - val_accuracy: 0.8875\n",
            "Epoch 89/100\n",
            "15/15 [==============================] - 0s 7ms/step - loss: 0.0671 - accuracy: 1.0000 - val_loss: 0.4819 - val_accuracy: 0.8958\n",
            "Epoch 90/100\n",
            "15/15 [==============================] - 0s 5ms/step - loss: 0.0664 - accuracy: 1.0000 - val_loss: 0.4717 - val_accuracy: 0.8917\n",
            "Epoch 91/100\n",
            "15/15 [==============================] - 0s 7ms/step - loss: 0.0655 - accuracy: 1.0000 - val_loss: 0.4981 - val_accuracy: 0.8875\n",
            "Epoch 92/100\n",
            "15/15 [==============================] - 0s 5ms/step - loss: 0.0650 - accuracy: 1.0000 - val_loss: 0.4843 - val_accuracy: 0.8917\n",
            "Epoch 93/100\n",
            "15/15 [==============================] - 0s 7ms/step - loss: 0.0642 - accuracy: 1.0000 - val_loss: 0.4781 - val_accuracy: 0.8958\n",
            "Epoch 94/100\n",
            "15/15 [==============================] - 0s 6ms/step - loss: 0.0635 - accuracy: 1.0000 - val_loss: 0.4673 - val_accuracy: 0.8958\n",
            "Epoch 95/100\n",
            "15/15 [==============================] - 0s 5ms/step - loss: 0.0627 - accuracy: 1.0000 - val_loss: 0.4881 - val_accuracy: 0.8875\n",
            "Epoch 96/100\n",
            "15/15 [==============================] - 0s 6ms/step - loss: 0.0621 - accuracy: 1.0000 - val_loss: 0.4771 - val_accuracy: 0.8875\n",
            "Epoch 97/100\n",
            "15/15 [==============================] - 0s 6ms/step - loss: 0.0614 - accuracy: 1.0000 - val_loss: 0.4649 - val_accuracy: 0.8875\n",
            "Epoch 98/100\n",
            "15/15 [==============================] - 0s 6ms/step - loss: 0.0604 - accuracy: 1.0000 - val_loss: 0.4835 - val_accuracy: 0.8833\n",
            "Epoch 99/100\n",
            "15/15 [==============================] - 0s 8ms/step - loss: 0.0602 - accuracy: 1.0000 - val_loss: 0.4659 - val_accuracy: 0.8958\n",
            "Epoch 100/100\n",
            "15/15 [==============================] - 0s 7ms/step - loss: 0.0595 - accuracy: 1.0000 - val_loss: 0.4632 - val_accuracy: 0.8875\n"
          ]
        }
      ],
      "source": [
        "history_regularizers = model_regularizers.fit(\n",
        "    x,\n",
        "    y,\n",
        "    batch_size=64,\n",
        "    epochs=100,\n",
        "    validation_split=0.2,\n",
        "    shuffle=True\n",
        ")"
      ]
    },
    {
      "cell_type": "markdown",
      "metadata": {
        "id": "slnlFOWwDiR-"
      },
      "source": [
        "Lets compare the weights norms of the model without regularization and with regularization."
      ]
    },
    {
      "cell_type": "code",
      "execution_count": null,
      "metadata": {
        "id": "BDnhRhCEDiR-",
        "outputId": "a56dd565-b4f6-4292-f4af-5e98f3a98d1b"
      },
      "outputs": [
        {
          "name": "stdout",
          "output_type": "stream",
          "text": [
            "L2 norm layer_1 weights: 22.072754980997995, shape:(784, 256), sparsity:0.0\n",
            "L2 norm layer_2 weights: 14.885739336549701, shape:(256, 128), sparsity:0.0\n",
            "L2 norm layer_3 weights: 12.990933117436898, shape:(128, 128), sparsity:0.0\n"
          ]
        }
      ],
      "source": [
        "for ly in model.layers:\n",
        "    if 'layer_' in ly.name:\n",
        "        W, b = ly.get_weights()\n",
        "        l2_norm = np.sum(W**2)**0.5\n",
        "        zero_elems = len(W[np.abs(W) < 1e-14])\n",
        "        sparsity = zero_elems / np.prod(W.shape)\n",
        "        sparsity = np.round(100 * sparsity, 2)\n",
        "        print('L2 norm {0} weights: {1}, shape:{2}, sparsity:{3}'.format(\n",
        "            ly.name, l2_norm, W.shape,sparsity))"
      ]
    },
    {
      "cell_type": "code",
      "execution_count": null,
      "metadata": {
        "id": "XYqZ3J1uDiR-",
        "outputId": "7168bb90-96f3-43e6-b806-0f134b8326fe"
      },
      "outputs": [
        {
          "name": "stdout",
          "output_type": "stream",
          "text": [
            "L2 norm layer_1 weights: 5.322202192855944, shape:(784, 256), sparsity:0.0\n",
            "L2 norm layer_2 weights: 6.457955166809649, shape:(256, 128), sparsity:5.28\n",
            "L2 norm layer_3 weights: 11.36185039010413, shape:(128, 128), sparsity:0.0\n"
          ]
        }
      ],
      "source": [
        "for ly in model_regularizers.layers:\n",
        "    if 'layer_' in ly.name:\n",
        "        W, b = ly.get_weights()\n",
        "        l2_norm = np.sum(W**2)**0.5\n",
        "        zero_elems = len(W[np.abs(W) < 1e-14])\n",
        "        sparsity = zero_elems / np.prod(W.shape)\n",
        "        sparsity = np.round(100 * sparsity, 2)\n",
        "        print('L2 norm {0} weights: {1}, shape:{2}, sparsity:{3}'.format(\n",
        "            ly.name, l2_norm, W.shape,sparsity))"
      ]
    },
    {
      "cell_type": "code",
      "execution_count": null,
      "metadata": {
        "id": "uXvJ2Uj3DiR-",
        "outputId": "3861b594-9b88-4ed5-d23e-93dbd68645d7"
      },
      "outputs": [
        {
          "name": "stdout",
          "output_type": "stream",
          "text": [
            "L2 norm layer_1 weights: 19.96591257105274, shape:(784, 256), sparsity:0.0\n",
            "L2 norm layer_2 weights: 13.121308307080248, shape:(256, 128), sparsity:0.0\n",
            "L2 norm layer_3 weights: 12.268682441389387, shape:(128, 128), sparsity:0.0\n"
          ]
        }
      ],
      "source": [
        "for ly in model_batch_norm.layers:\n",
        "    if 'layer_' in ly.name:\n",
        "        W, b = ly.get_weights()\n",
        "        l2_norm = np.sum(W**2)**0.5\n",
        "        zero_elems = len(W[np.abs(W) < 1e-14])\n",
        "        sparsity = zero_elems / np.prod(W.shape)\n",
        "        sparsity = np.round(100 * sparsity, 2)\n",
        "        print('L2 norm {0} weights: {1}, shape:{2}, sparsity:{3}'.format(\n",
        "            ly.name, l2_norm, W.shape,sparsity))"
      ]
    },
    {
      "cell_type": "code",
      "execution_count": null,
      "metadata": {
        "scrolled": true,
        "id": "uOyIOot9DiR-",
        "outputId": "091728da-ff15-49d8-c5f2-2e57f640114d"
      },
      "outputs": [
        {
          "data": {
            "image/png": "[encoded data removed]",
            "text/plain": [
              "<Figure size 1152x432 with 2 Axes>"
            ]
          },
          "metadata": {
            "needs_background": "light"
          },
          "output_type": "display_data"
        }
      ],
      "source": [
        "show_loss_accuracy_evolution(history_regularizers)"
      ]
    },
    {
      "cell_type": "code",
      "execution_count": null,
      "metadata": {
        "id": "cHXTK-pwDiR-",
        "outputId": "c41afaef-6a00-4a8b-9217-04df6fbb4d4e"
      },
      "outputs": [
        {
          "name": "stdout",
          "output_type": "stream",
          "text": [
            "Test Loss: 0.4574562609195709\n",
            "Test Accuracy: 0.9047999978065491\n"
          ]
        }
      ],
      "source": [
        "results = model_regularizers.evaluate(x_test, y_test, verbose=0)\n",
        "print('Test Loss: {}'.format(results[0]))\n",
        "print('Test Accuracy: {}'.format(results[1]))"
      ]
    },
    {
      "cell_type": "markdown",
      "metadata": {
        "id": "kDLQkeuWDiR-"
      },
      "source": [
        "### Question 3:\n",
        "#### What happens if you change the regularizers?\n"
      ]
    },
    {
      "cell_type": "code",
      "execution_count": null,
      "metadata": {
        "id": "uYBx-_0ZDiR-"
      },
      "outputs": [],
      "source": []
    },
    {
      "cell_type": "markdown",
      "metadata": {
        "id": "Ptvk9nUHDiR_"
      },
      "source": [
        "## Combine L2 Regularization and Dropout\n",
        "\n",
        "Use L2:\n",
        "```python\n",
        "kerner_regularizer_l2 = regularizers.l2(5e-4)\n",
        "```\n",
        "And Dropout:\n",
        "\n",
        "```python\n",
        "next_layer = layers.Dropout(0.4)(prev_layer)\n",
        "```"
      ]
    },
    {
      "cell_type": "code",
      "execution_count": null,
      "metadata": {
        "id": "pXxSeQZ2DiR_"
      },
      "outputs": [],
      "source": [
        "reg = regularizers.l2(5e-5)"
      ]
    },
    {
      "cell_type": "code",
      "execution_count": null,
      "metadata": {
        "id": "jDHsYdO7DiR_"
      },
      "outputs": [],
      "source": [
        "inputs = tf.keras.Input(shape=(28, 28), name='input_layer')\n",
        "\n",
        "# Convert the 2D image to a vector\n",
        "flat = layers.Flatten()(inputs)\n",
        "flat = layers.Dropout(0.5)(flat)\n",
        "\n",
        "# Add L2-normalization\n",
        "l_1 = layers.Dense(128, activation='relu',\n",
        "                   kernel_regularizer=reg,\n",
        "                   name='layer_1')(flat)\n",
        "\n",
        "# Add dropout\n",
        "l_1 = layers.Dropout(0.2)(l_1)\n",
        "\n",
        "\n",
        "# Add L2-normalization\n",
        "l_2 = layers.Dense(64,\n",
        "                   activation='relu',\n",
        "                   kernel_regularizer=reg,\n",
        "                   name='layer_2')(l_1)\n",
        "# Add dropout\n",
        "l_2 = layers.Dropout(0.2)(l_2)\n",
        "\n",
        "\n",
        "# Add L2-normalization\n",
        "l_3 = layers.Dense(32,\n",
        "                   activation='relu',\n",
        "                   kernel_regularizer=reg,\n",
        "                   name='layer_3')(l_2)\n",
        "\n",
        "# Add dropout\n",
        "l_3 = layers.Dropout(0.2)(l_3)\n",
        "\n",
        "\n",
        "outputs = layers.Dense(10, activation='softmax',\n",
        "                       name='output_layer')(l_3)\n",
        "\n",
        "model_combination = keras.Model(inputs=inputs,\n",
        "                                 outputs=outputs,\n",
        "                                 name='dont_overfit_model_regularizers')"
      ]
    },
    {
      "cell_type": "code",
      "execution_count": null,
      "metadata": {
        "id": "htr9U56mDiR_"
      },
      "outputs": [],
      "source": [
        "model_combination.compile(\n",
        "    optimizer='adam', loss='sparse_categorical_crossentropy', metrics=['accuracy']\n",
        ")"
      ]
    },
    {
      "cell_type": "code",
      "execution_count": null,
      "metadata": {
        "id": "ur3EcKA1DiR_",
        "outputId": "2db489ca-64b6-4998-beb8-e1e23b485201"
      },
      "outputs": [
        {
          "name": "stdout",
          "output_type": "stream",
          "text": [
            "Epoch 1/100\n",
            "15/15 [==============================] - 1s 13ms/step - loss: 2.3205 - accuracy: 0.1244 - val_loss: 2.1371 - val_accuracy: 0.3917\n",
            "Epoch 2/100\n",
            "15/15 [==============================] - 0s 5ms/step - loss: 2.1466 - accuracy: 0.2452 - val_loss: 1.7904 - val_accuracy: 0.5625\n",
            "Epoch 3/100\n",
            "15/15 [==============================] - 0s 6ms/step - loss: 1.8859 - accuracy: 0.3286 - val_loss: 1.3397 - val_accuracy: 0.7125\n",
            "Epoch 4/100\n",
            "15/15 [==============================] - 0s 5ms/step - loss: 1.5690 - accuracy: 0.4987 - val_loss: 1.0106 - val_accuracy: 0.7625\n",
            "Epoch 5/100\n",
            "15/15 [==============================] - 0s 4ms/step - loss: 1.3403 - accuracy: 0.5692 - val_loss: 0.8157 - val_accuracy: 0.8250\n",
            "Epoch 6/100\n",
            "15/15 [==============================] - 0s 5ms/step - loss: 1.1805 - accuracy: 0.6004 - val_loss: 0.6859 - val_accuracy: 0.8458\n",
            "Epoch 7/100\n",
            "15/15 [==============================] - 0s 6ms/step - loss: 1.1088 - accuracy: 0.6258 - val_loss: 0.6440 - val_accuracy: 0.8542\n",
            "Epoch 8/100\n",
            "15/15 [==============================] - 0s 5ms/step - loss: 0.9745 - accuracy: 0.6883 - val_loss: 0.5928 - val_accuracy: 0.8542\n",
            "Epoch 9/100\n",
            "15/15 [==============================] - 0s 4ms/step - loss: 0.9271 - accuracy: 0.6795 - val_loss: 0.5547 - val_accuracy: 0.8542\n",
            "Epoch 10/100\n",
            "15/15 [==============================] - 0s 5ms/step - loss: 0.8132 - accuracy: 0.7211 - val_loss: 0.5206 - val_accuracy: 0.8667\n",
            "Epoch 11/100\n",
            "15/15 [==============================] - 0s 5ms/step - loss: 0.7558 - accuracy: 0.7602 - val_loss: 0.4680 - val_accuracy: 0.8708\n",
            "Epoch 12/100\n",
            "15/15 [==============================] - 0s 6ms/step - loss: 0.7138 - accuracy: 0.7786 - val_loss: 0.4704 - val_accuracy: 0.8750\n",
            "Epoch 13/100\n",
            "15/15 [==============================] - 0s 5ms/step - loss: 0.6782 - accuracy: 0.7930 - val_loss: 0.4385 - val_accuracy: 0.8875\n",
            "Epoch 14/100\n",
            "15/15 [==============================] - 0s 6ms/step - loss: 0.6789 - accuracy: 0.7753 - val_loss: 0.4330 - val_accuracy: 0.8958\n",
            "Epoch 15/100\n",
            "15/15 [==============================] - 0s 6ms/step - loss: 0.6644 - accuracy: 0.7946 - val_loss: 0.4308 - val_accuracy: 0.9000\n",
            "Epoch 16/100\n",
            "15/15 [==============================] - 0s 5ms/step - loss: 0.6009 - accuracy: 0.8161 - val_loss: 0.4166 - val_accuracy: 0.9000\n",
            "Epoch 17/100\n",
            "15/15 [==============================] - 0s 4ms/step - loss: 0.6082 - accuracy: 0.7966 - val_loss: 0.4261 - val_accuracy: 0.9000\n",
            "Epoch 18/100\n",
            "15/15 [==============================] - 0s 6ms/step - loss: 0.6269 - accuracy: 0.7978 - val_loss: 0.3892 - val_accuracy: 0.8958\n",
            "Epoch 19/100\n",
            "15/15 [==============================] - 0s 5ms/step - loss: 0.6109 - accuracy: 0.8035 - val_loss: 0.3941 - val_accuracy: 0.8958\n",
            "Epoch 20/100\n",
            "15/15 [==============================] - 0s 6ms/step - loss: 0.5429 - accuracy: 0.8244 - val_loss: 0.3892 - val_accuracy: 0.8958\n",
            "Epoch 21/100\n",
            "15/15 [==============================] - 0s 4ms/step - loss: 0.5077 - accuracy: 0.8277 - val_loss: 0.3909 - val_accuracy: 0.8958\n",
            "Epoch 22/100\n",
            "15/15 [==============================] - 0s 5ms/step - loss: 0.4502 - accuracy: 0.8615 - val_loss: 0.3859 - val_accuracy: 0.8917\n",
            "Epoch 23/100\n",
            "15/15 [==============================] - 0s 6ms/step - loss: 0.4884 - accuracy: 0.8532 - val_loss: 0.3808 - val_accuracy: 0.9083\n",
            "Epoch 24/100\n",
            "15/15 [==============================] - 0s 5ms/step - loss: 0.4989 - accuracy: 0.8379 - val_loss: 0.3623 - val_accuracy: 0.9167\n",
            "Epoch 25/100\n",
            "15/15 [==============================] - 0s 4ms/step - loss: 0.4659 - accuracy: 0.8533 - val_loss: 0.3677 - val_accuracy: 0.9208\n",
            "Epoch 26/100\n",
            "15/15 [==============================] - 0s 5ms/step - loss: 0.4303 - accuracy: 0.8804 - val_loss: 0.3473 - val_accuracy: 0.9292\n",
            "Epoch 27/100\n",
            "15/15 [==============================] - 0s 5ms/step - loss: 0.4238 - accuracy: 0.8848 - val_loss: 0.3737 - val_accuracy: 0.9125\n",
            "Epoch 28/100\n",
            "15/15 [==============================] - 0s 5ms/step - loss: 0.4271 - accuracy: 0.8729 - val_loss: 0.3419 - val_accuracy: 0.9208\n",
            "Epoch 29/100\n",
            "15/15 [==============================] - 0s 5ms/step - loss: 0.3865 - accuracy: 0.8820 - val_loss: 0.3401 - val_accuracy: 0.9208\n",
            "Epoch 30/100\n",
            "15/15 [==============================] - 0s 5ms/step - loss: 0.3882 - accuracy: 0.8873 - val_loss: 0.3426 - val_accuracy: 0.9250\n",
            "Epoch 31/100\n",
            "15/15 [==============================] - 0s 5ms/step - loss: 0.4339 - accuracy: 0.8615 - val_loss: 0.3638 - val_accuracy: 0.9125\n",
            "Epoch 32/100\n",
            "15/15 [==============================] - 0s 5ms/step - loss: 0.3796 - accuracy: 0.8689 - val_loss: 0.3464 - val_accuracy: 0.9208\n",
            "Epoch 33/100\n",
            "15/15 [==============================] - 0s 6ms/step - loss: 0.3619 - accuracy: 0.8827 - val_loss: 0.3362 - val_accuracy: 0.9250\n",
            "Epoch 34/100\n",
            "15/15 [==============================] - 0s 5ms/step - loss: 0.3127 - accuracy: 0.9036 - val_loss: 0.3320 - val_accuracy: 0.9292\n",
            "Epoch 35/100\n",
            "15/15 [==============================] - 0s 5ms/step - loss: 0.3614 - accuracy: 0.8879 - val_loss: 0.3246 - val_accuracy: 0.9250\n",
            "Epoch 36/100\n",
            "15/15 [==============================] - 0s 6ms/step - loss: 0.3477 - accuracy: 0.9028 - val_loss: 0.3304 - val_accuracy: 0.9333\n",
            "Epoch 37/100\n",
            "15/15 [==============================] - 0s 6ms/step - loss: 0.3474 - accuracy: 0.9122 - val_loss: 0.3260 - val_accuracy: 0.9292\n",
            "Epoch 38/100\n",
            "15/15 [==============================] - 0s 7ms/step - loss: 0.3657 - accuracy: 0.8973 - val_loss: 0.3304 - val_accuracy: 0.9333\n",
            "Epoch 39/100\n",
            "15/15 [==============================] - 0s 5ms/step - loss: 0.3119 - accuracy: 0.8993 - val_loss: 0.3123 - val_accuracy: 0.9292\n",
            "Epoch 40/100\n",
            "15/15 [==============================] - 0s 5ms/step - loss: 0.3303 - accuracy: 0.8950 - val_loss: 0.3392 - val_accuracy: 0.9250\n",
            "Epoch 41/100\n",
            "15/15 [==============================] - 0s 5ms/step - loss: 0.3527 - accuracy: 0.8939 - val_loss: 0.3138 - val_accuracy: 0.9292\n",
            "Epoch 42/100\n",
            "15/15 [==============================] - 0s 5ms/step - loss: 0.3319 - accuracy: 0.8949 - val_loss: 0.3156 - val_accuracy: 0.9292\n",
            "Epoch 43/100\n",
            "15/15 [==============================] - 0s 5ms/step - loss: 0.3088 - accuracy: 0.9096 - val_loss: 0.3303 - val_accuracy: 0.9250\n",
            "Epoch 44/100\n",
            "15/15 [==============================] - 0s 4ms/step - loss: 0.2904 - accuracy: 0.9104 - val_loss: 0.3147 - val_accuracy: 0.9208\n",
            "Epoch 45/100\n",
            "15/15 [==============================] - 0s 4ms/step - loss: 0.3064 - accuracy: 0.9011 - val_loss: 0.3254 - val_accuracy: 0.9208\n",
            "Epoch 46/100\n",
            "15/15 [==============================] - 0s 5ms/step - loss: 0.2896 - accuracy: 0.9053 - val_loss: 0.3099 - val_accuracy: 0.9250\n",
            "Epoch 47/100\n",
            "15/15 [==============================] - 0s 5ms/step - loss: 0.2993 - accuracy: 0.9150 - val_loss: 0.3297 - val_accuracy: 0.9292\n",
            "Epoch 48/100\n",
            "15/15 [==============================] - 0s 5ms/step - loss: 0.2775 - accuracy: 0.9180 - val_loss: 0.2981 - val_accuracy: 0.9417\n",
            "Epoch 49/100\n",
            "15/15 [==============================] - 0s 4ms/step - loss: 0.2748 - accuracy: 0.9190 - val_loss: 0.3069 - val_accuracy: 0.9375\n",
            "Epoch 50/100\n",
            "15/15 [==============================] - 0s 5ms/step - loss: 0.2814 - accuracy: 0.9203 - val_loss: 0.3282 - val_accuracy: 0.9167\n",
            "Epoch 51/100\n",
            "15/15 [==============================] - 0s 5ms/step - loss: 0.2397 - accuracy: 0.9188 - val_loss: 0.3354 - val_accuracy: 0.9167\n",
            "Epoch 52/100\n",
            "15/15 [==============================] - 0s 5ms/step - loss: 0.2537 - accuracy: 0.9250 - val_loss: 0.3258 - val_accuracy: 0.9208\n",
            "Epoch 53/100\n",
            "15/15 [==============================] - 0s 5ms/step - loss: 0.2342 - accuracy: 0.9391 - val_loss: 0.3075 - val_accuracy: 0.9333\n",
            "Epoch 54/100\n",
            "15/15 [==============================] - 0s 4ms/step - loss: 0.2868 - accuracy: 0.9077 - val_loss: 0.3128 - val_accuracy: 0.9250\n",
            "Epoch 55/100\n",
            "15/15 [==============================] - 0s 5ms/step - loss: 0.2486 - accuracy: 0.9434 - val_loss: 0.2950 - val_accuracy: 0.9375\n",
            "Epoch 56/100\n",
            "15/15 [==============================] - 0s 5ms/step - loss: 0.2472 - accuracy: 0.9272 - val_loss: 0.3133 - val_accuracy: 0.9333\n",
            "Epoch 57/100\n",
            "15/15 [==============================] - 0s 5ms/step - loss: 0.2329 - accuracy: 0.9472 - val_loss: 0.3112 - val_accuracy: 0.9208\n",
            "Epoch 58/100\n",
            "15/15 [==============================] - 0s 5ms/step - loss: 0.2321 - accuracy: 0.9372 - val_loss: 0.3336 - val_accuracy: 0.9292\n"
          ]
        },
        {
          "name": "stdout",
          "output_type": "stream",
          "text": [
            "Epoch 59/100\n",
            "15/15 [==============================] - 0s 5ms/step - loss: 0.2173 - accuracy: 0.9295 - val_loss: 0.3482 - val_accuracy: 0.9167\n",
            "Epoch 60/100\n",
            "15/15 [==============================] - 0s 4ms/step - loss: 0.1940 - accuracy: 0.9392 - val_loss: 0.3292 - val_accuracy: 0.9417\n",
            "Epoch 61/100\n",
            "15/15 [==============================] - 0s 5ms/step - loss: 0.1844 - accuracy: 0.9343 - val_loss: 0.3240 - val_accuracy: 0.9250\n",
            "Epoch 62/100\n",
            "15/15 [==============================] - 0s 5ms/step - loss: 0.2187 - accuracy: 0.9273 - val_loss: 0.3130 - val_accuracy: 0.9375\n",
            "Epoch 63/100\n",
            "15/15 [==============================] - 0s 5ms/step - loss: 0.2157 - accuracy: 0.9419 - val_loss: 0.3166 - val_accuracy: 0.9417\n",
            "Epoch 64/100\n",
            "15/15 [==============================] - 0s 6ms/step - loss: 0.2384 - accuracy: 0.9219 - val_loss: 0.3264 - val_accuracy: 0.9458\n",
            "Epoch 65/100\n",
            "15/15 [==============================] - 0s 5ms/step - loss: 0.2370 - accuracy: 0.9288 - val_loss: 0.3200 - val_accuracy: 0.9458\n",
            "Epoch 66/100\n",
            "15/15 [==============================] - 0s 5ms/step - loss: 0.1985 - accuracy: 0.9391 - val_loss: 0.3314 - val_accuracy: 0.9333\n",
            "Epoch 67/100\n",
            "15/15 [==============================] - 0s 5ms/step - loss: 0.1753 - accuracy: 0.9468 - val_loss: 0.3217 - val_accuracy: 0.9375\n",
            "Epoch 68/100\n",
            "15/15 [==============================] - 0s 5ms/step - loss: 0.1876 - accuracy: 0.9614 - val_loss: 0.3174 - val_accuracy: 0.9333\n",
            "Epoch 69/100\n",
            "15/15 [==============================] - 0s 5ms/step - loss: 0.2425 - accuracy: 0.9236 - val_loss: 0.3367 - val_accuracy: 0.9208\n",
            "Epoch 70/100\n",
            "15/15 [==============================] - 0s 5ms/step - loss: 0.1986 - accuracy: 0.9469 - val_loss: 0.3323 - val_accuracy: 0.9375\n",
            "Epoch 71/100\n",
            "15/15 [==============================] - 0s 5ms/step - loss: 0.1683 - accuracy: 0.9548 - val_loss: 0.3262 - val_accuracy: 0.9292\n",
            "Epoch 72/100\n",
            "15/15 [==============================] - 0s 5ms/step - loss: 0.1850 - accuracy: 0.9461 - val_loss: 0.3479 - val_accuracy: 0.9250\n",
            "Epoch 73/100\n",
            "15/15 [==============================] - 0s 5ms/step - loss: 0.2168 - accuracy: 0.9533 - val_loss: 0.3300 - val_accuracy: 0.9375\n",
            "Epoch 74/100\n",
            "15/15 [==============================] - 0s 6ms/step - loss: 0.1899 - accuracy: 0.9443 - val_loss: 0.3246 - val_accuracy: 0.9417\n",
            "Epoch 75/100\n",
            "15/15 [==============================] - 0s 5ms/step - loss: 0.1599 - accuracy: 0.9590 - val_loss: 0.3447 - val_accuracy: 0.9375\n",
            "Epoch 76/100\n",
            "15/15 [==============================] - 0s 4ms/step - loss: 0.2307 - accuracy: 0.9417 - val_loss: 0.3230 - val_accuracy: 0.9375\n",
            "Epoch 77/100\n",
            "15/15 [==============================] - 0s 4ms/step - loss: 0.1691 - accuracy: 0.9435 - val_loss: 0.3257 - val_accuracy: 0.9375\n",
            "Epoch 78/100\n",
            "15/15 [==============================] - 0s 5ms/step - loss: 0.2209 - accuracy: 0.9394 - val_loss: 0.3312 - val_accuracy: 0.9333\n",
            "Epoch 79/100\n",
            "15/15 [==============================] - 0s 5ms/step - loss: 0.2063 - accuracy: 0.9449 - val_loss: 0.3147 - val_accuracy: 0.9417\n",
            "Epoch 80/100\n",
            "15/15 [==============================] - 0s 4ms/step - loss: 0.2037 - accuracy: 0.9407 - val_loss: 0.3193 - val_accuracy: 0.9458\n",
            "Epoch 81/100\n",
            "15/15 [==============================] - 0s 5ms/step - loss: 0.1546 - accuracy: 0.9617 - val_loss: 0.3018 - val_accuracy: 0.9500\n",
            "Epoch 82/100\n",
            "15/15 [==============================] - 0s 5ms/step - loss: 0.2110 - accuracy: 0.9436 - val_loss: 0.3182 - val_accuracy: 0.9333\n",
            "Epoch 83/100\n",
            "15/15 [==============================] - 0s 6ms/step - loss: 0.1766 - accuracy: 0.9565 - val_loss: 0.3353 - val_accuracy: 0.9375\n",
            "Epoch 84/100\n",
            "15/15 [==============================] - 0s 4ms/step - loss: 0.1980 - accuracy: 0.9387 - val_loss: 0.3214 - val_accuracy: 0.9458\n",
            "Epoch 85/100\n",
            "15/15 [==============================] - 0s 4ms/step - loss: 0.1665 - accuracy: 0.9492 - val_loss: 0.3168 - val_accuracy: 0.9333\n",
            "Epoch 86/100\n",
            "15/15 [==============================] - 0s 4ms/step - loss: 0.1491 - accuracy: 0.9639 - val_loss: 0.3226 - val_accuracy: 0.9375\n",
            "Epoch 87/100\n",
            "15/15 [==============================] - 0s 5ms/step - loss: 0.1826 - accuracy: 0.9478 - val_loss: 0.3359 - val_accuracy: 0.9333\n",
            "Epoch 88/100\n",
            "15/15 [==============================] - 0s 5ms/step - loss: 0.1848 - accuracy: 0.9477 - val_loss: 0.3362 - val_accuracy: 0.9333\n",
            "Epoch 89/100\n",
            "15/15 [==============================] - 0s 4ms/step - loss: 0.1792 - accuracy: 0.9549 - val_loss: 0.3263 - val_accuracy: 0.9375\n",
            "Epoch 90/100\n",
            "15/15 [==============================] - 0s 4ms/step - loss: 0.1364 - accuracy: 0.9655 - val_loss: 0.3140 - val_accuracy: 0.9375\n",
            "Epoch 91/100\n",
            "15/15 [==============================] - 0s 6ms/step - loss: 0.1554 - accuracy: 0.9626 - val_loss: 0.3094 - val_accuracy: 0.9458\n",
            "Epoch 92/100\n",
            "15/15 [==============================] - 0s 4ms/step - loss: 0.1749 - accuracy: 0.9560 - val_loss: 0.3105 - val_accuracy: 0.9417\n",
            "Epoch 93/100\n",
            "15/15 [==============================] - 0s 5ms/step - loss: 0.1639 - accuracy: 0.9577 - val_loss: 0.3184 - val_accuracy: 0.9417\n",
            "Epoch 94/100\n",
            "15/15 [==============================] - 0s 4ms/step - loss: 0.1631 - accuracy: 0.9561 - val_loss: 0.3011 - val_accuracy: 0.9417\n",
            "Epoch 95/100\n",
            "15/15 [==============================] - 0s 5ms/step - loss: 0.1570 - accuracy: 0.9578 - val_loss: 0.3069 - val_accuracy: 0.9542\n",
            "Epoch 96/100\n",
            "15/15 [==============================] - 0s 5ms/step - loss: 0.1666 - accuracy: 0.9587 - val_loss: 0.3005 - val_accuracy: 0.9458\n",
            "Epoch 97/100\n",
            "15/15 [==============================] - 0s 5ms/step - loss: 0.1727 - accuracy: 0.9589 - val_loss: 0.3175 - val_accuracy: 0.9500\n",
            "Epoch 98/100\n",
            "15/15 [==============================] - 0s 5ms/step - loss: 0.1457 - accuracy: 0.9656 - val_loss: 0.3237 - val_accuracy: 0.9292\n",
            "Epoch 99/100\n",
            "15/15 [==============================] - 0s 4ms/step - loss: 0.1352 - accuracy: 0.9575 - val_loss: 0.3215 - val_accuracy: 0.9292\n",
            "Epoch 100/100\n",
            "15/15 [==============================] - 0s 4ms/step - loss: 0.1458 - accuracy: 0.9564 - val_loss: 0.3431 - val_accuracy: 0.9333\n"
          ]
        }
      ],
      "source": [
        "history_combination = model_combination.fit(\n",
        "    x,\n",
        "    y,\n",
        "    batch_size=64,\n",
        "    epochs=100,\n",
        "    validation_split=0.2,\n",
        "    shuffle=True\n",
        ")"
      ]
    },
    {
      "cell_type": "code",
      "execution_count": null,
      "metadata": {
        "id": "LSxmHRVIDiR_",
        "outputId": "29f95066-91d7-4669-a687-1e1273ac09e2"
      },
      "outputs": [
        {
          "data": {
            "image/png": "[encoded data removed]",
            "text/plain": [
              "<Figure size 1152x432 with 2 Axes>"
            ]
          },
          "metadata": {
            "needs_background": "light"
          },
          "output_type": "display_data"
        }
      ],
      "source": [
        "show_loss_accuracy_evolution(history_combination)"
      ]
    },
    {
      "cell_type": "code",
      "execution_count": null,
      "metadata": {
        "id": "FnhEFEQuDiR_",
        "outputId": "c02eece7-85c6-4341-9ebe-97d4e800b318"
      },
      "outputs": [
        {
          "name": "stdout",
          "output_type": "stream",
          "text": [
            "Test Loss: 0.35132139921188354\n",
            "Test Accuracy: 0.9222999811172485\n"
          ]
        }
      ],
      "source": [
        "results = model_combination.evaluate(x_test, y_test, verbose=0)\n",
        "print('Test Loss: {}'.format(results[0]))\n",
        "print('Test Accuracy: {}'.format(results[1]))"
      ]
    },
    {
      "cell_type": "markdown",
      "metadata": {
        "id": "MPUnJcgDDiR_"
      },
      "source": [
        "## Noise injection\n",
        "\n",
        "Apply additive zero-mean Gaussian noise.\n",
        "\n",
        "With Functional API:\n",
        "```python\n",
        "next_layer = layers.GaussianNoise(stddev)(prev_layer)\n",
        "```\n",
        "With Sequential:\n",
        "```python\n",
        "model.add(layers.GaussianNoise(stddev)())\n",
        "```"
      ]
    },
    {
      "cell_type": "code",
      "execution_count": 7,
      "metadata": {
        "id": "yzJhb1S-DiR_"
      },
      "outputs": [],
      "source": [
        "stddev = 0.5\n",
        "\n",
        "# Input\n",
        "inputs = tf.keras.Input(shape=(28,28), name='input_layer')\n",
        "# Convert the 2D image to a vector\n",
        "flat = layers.Flatten()(inputs)\n",
        "\n",
        "# hidden layer 1\n",
        "l_1 = layers.Dense(256, activation='relu', name='layer_1')(flat)\n",
        "l_1 = layers.GaussianNoise(stddev, name='noise_l1')(l_1)\n",
        "# hidden layer 2\n",
        "l_2 = layers.Dense(128, activation='relu', name='layer_2')(l_1)\n",
        "l_2 = layers.GaussianNoise(stddev, name='noise_l2')(l_2)\n",
        "# hidden layer 3\n",
        "l_3 = layers.Dense(128, activation='relu', name='layer_3')(l_2)\n",
        "l_3 = layers.GaussianNoise(stddev, name='noise_l3')(l_3)\n",
        "\n",
        "# Outputs\n",
        "outputs = layers.Dense(num_classes, activation='softmax', name='output_layer')(l_3)\n",
        "\n",
        "model_noise = keras.Model(inputs=inputs, outputs=outputs, name='dont_overfit_model_noise')"
      ]
    },
    {
      "cell_type": "code",
      "execution_count": 8,
      "metadata": {
        "scrolled": true,
        "colab": {
          "base_uri": "https://localhost:8080/",
          "height": 424
        },
        "id": "dZZ5Lj4hDiR_",
        "outputId": "18f9d0b2-298c-4f0d-ff42-e8aaf113dab6"
      },
      "outputs": [
        {
          "output_type": "display_data",
          "data": {
            "text/plain": [
              "\u001b[1mModel: \"dont_overfit_model_noise\"\u001b[0m\n"
            ],
            "text/html": [
              "<pre style=\"white-space:pre;overflow-x:auto;line-height:normal;font-family:Menlo,'DejaVu Sans Mono',consolas,'Courier New',monospace\"><span style=\"font-weight: bold\">Model: \"dont_overfit_model_noise\"</span>\n",
              "</pre>\n"
            ]
          },
          "metadata": {}
        },
        {
          "output_type": "display_data",
          "data": {
            "text/plain": [
              "┏━━━━━━━━━━━━━━━━━━━━━━━━━━━━━━━━━━━━━━┳━━━━━━━━━━━━━━━━━━━━━━━━━━━━━┳━━━━━━━━━━━━━━━━━┓\n",
              "┃\u001b[1m \u001b[0m\u001b[1mLayer (type)                        \u001b[0m\u001b[1m \u001b[0m┃\u001b[1m \u001b[0m\u001b[1mOutput Shape               \u001b[0m\u001b[1m \u001b[0m┃\u001b[1m \u001b[0m\u001b[1m        Param #\u001b[0m\u001b[1m \u001b[0m┃\n",
              "┡━━━━━━━━━━━━━━━━━━━━━━━━━━━━━━━━━━━━━━╇━━━━━━━━━━━━━━━━━━━━━━━━━━━━━╇━━━━━━━━━━━━━━━━━┩\n",
              "│ input_layer (\u001b[38;5;33mInputLayer\u001b[0m)             │ (\u001b[38;5;45mNone\u001b[0m, \u001b[38;5;34m28\u001b[0m, \u001b[38;5;34m28\u001b[0m)              │               \u001b[38;5;34m0\u001b[0m │\n",
              "├──────────────────────────────────────┼─────────────────────────────┼─────────────────┤\n",
              "│ flatten_1 (\u001b[38;5;33mFlatten\u001b[0m)                  │ (\u001b[38;5;45mNone\u001b[0m, \u001b[38;5;34m784\u001b[0m)                 │               \u001b[38;5;34m0\u001b[0m │\n",
              "├──────────────────────────────────────┼─────────────────────────────┼─────────────────┤\n",
              "│ layer_1 (\u001b[38;5;33mDense\u001b[0m)                      │ (\u001b[38;5;45mNone\u001b[0m, \u001b[38;5;34m256\u001b[0m)                 │         \u001b[38;5;34m200,960\u001b[0m │\n",
              "├──────────────────────────────────────┼─────────────────────────────┼─────────────────┤\n",
              "│ noise_l1 (\u001b[38;5;33mGaussianNoise\u001b[0m)             │ (\u001b[38;5;45mNone\u001b[0m, \u001b[38;5;34m256\u001b[0m)                 │               \u001b[38;5;34m0\u001b[0m │\n",
              "├──────────────────────────────────────┼─────────────────────────────┼─────────────────┤\n",
              "│ layer_2 (\u001b[38;5;33mDense\u001b[0m)                      │ (\u001b[38;5;45mNone\u001b[0m, \u001b[38;5;34m128\u001b[0m)                 │          \u001b[38;5;34m32,896\u001b[0m │\n",
              "├──────────────────────────────────────┼─────────────────────────────┼─────────────────┤\n",
              "│ noise_l2 (\u001b[38;5;33mGaussianNoise\u001b[0m)             │ (\u001b[38;5;45mNone\u001b[0m, \u001b[38;5;34m128\u001b[0m)                 │               \u001b[38;5;34m0\u001b[0m │\n",
              "├──────────────────────────────────────┼─────────────────────────────┼─────────────────┤\n",
              "│ layer_3 (\u001b[38;5;33mDense\u001b[0m)                      │ (\u001b[38;5;45mNone\u001b[0m, \u001b[38;5;34m128\u001b[0m)                 │          \u001b[38;5;34m16,512\u001b[0m │\n",
              "├──────────────────────────────────────┼─────────────────────────────┼─────────────────┤\n",
              "│ noise_l3 (\u001b[38;5;33mGaussianNoise\u001b[0m)             │ (\u001b[38;5;45mNone\u001b[0m, \u001b[38;5;34m128\u001b[0m)                 │               \u001b[38;5;34m0\u001b[0m │\n",
              "├──────────────────────────────────────┼─────────────────────────────┼─────────────────┤\n",
              "│ output_layer (\u001b[38;5;33mDense\u001b[0m)                 │ (\u001b[38;5;45mNone\u001b[0m, \u001b[38;5;34m10\u001b[0m)                  │           \u001b[38;5;34m1,290\u001b[0m │\n",
              "└──────────────────────────────────────┴─────────────────────────────┴─────────────────┘\n"
            ],
            "text/html": [
              "<pre style=\"white-space:pre;overflow-x:auto;line-height:normal;font-family:Menlo,'DejaVu Sans Mono',consolas,'Courier New',monospace\">┏━━━━━━━━━━━━━━━━━━━━━━━━━━━━━━━━━━━━━━┳━━━━━━━━━━━━━━━━━━━━━━━━━━━━━┳━━━━━━━━━━━━━━━━━┓\n",
              "┃<span style=\"font-weight: bold\"> Layer (type)                         </span>┃<span style=\"font-weight: bold\"> Output Shape                </span>┃<span style=\"font-weight: bold\">         Param # </span>┃\n",
              "┡━━━━━━━━━━━━━━━━━━━━━━━━━━━━━━━━━━━━━━╇━━━━━━━━━━━━━━━━━━━━━━━━━━━━━╇━━━━━━━━━━━━━━━━━┩\n",
              "│ input_layer (<span style=\"color: #0087ff; text-decoration-color: #0087ff\">InputLayer</span>)             │ (<span style=\"color: #00d7ff; text-decoration-color: #00d7ff\">None</span>, <span style=\"color: #00af00; text-decoration-color: #00af00\">28</span>, <span style=\"color: #00af00; text-decoration-color: #00af00\">28</span>)              │               <span style=\"color: #00af00; text-decoration-color: #00af00\">0</span> │\n",
              "├──────────────────────────────────────┼─────────────────────────────┼─────────────────┤\n",
              "│ flatten_1 (<span style=\"color: #0087ff; text-decoration-color: #0087ff\">Flatten</span>)                  │ (<span style=\"color: #00d7ff; text-decoration-color: #00d7ff\">None</span>, <span style=\"color: #00af00; text-decoration-color: #00af00\">784</span>)                 │               <span style=\"color: #00af00; text-decoration-color: #00af00\">0</span> │\n",
              "├──────────────────────────────────────┼─────────────────────────────┼─────────────────┤\n",
              "│ layer_1 (<span style=\"color: #0087ff; text-decoration-color: #0087ff\">Dense</span>)                      │ (<span style=\"color: #00d7ff; text-decoration-color: #00d7ff\">None</span>, <span style=\"color: #00af00; text-decoration-color: #00af00\">256</span>)                 │         <span style=\"color: #00af00; text-decoration-color: #00af00\">200,960</span> │\n",
              "├──────────────────────────────────────┼─────────────────────────────┼─────────────────┤\n",
              "│ noise_l1 (<span style=\"color: #0087ff; text-decoration-color: #0087ff\">GaussianNoise</span>)             │ (<span style=\"color: #00d7ff; text-decoration-color: #00d7ff\">None</span>, <span style=\"color: #00af00; text-decoration-color: #00af00\">256</span>)                 │               <span style=\"color: #00af00; text-decoration-color: #00af00\">0</span> │\n",
              "├──────────────────────────────────────┼─────────────────────────────┼─────────────────┤\n",
              "│ layer_2 (<span style=\"color: #0087ff; text-decoration-color: #0087ff\">Dense</span>)                      │ (<span style=\"color: #00d7ff; text-decoration-color: #00d7ff\">None</span>, <span style=\"color: #00af00; text-decoration-color: #00af00\">128</span>)                 │          <span style=\"color: #00af00; text-decoration-color: #00af00\">32,896</span> │\n",
              "├──────────────────────────────────────┼─────────────────────────────┼─────────────────┤\n",
              "│ noise_l2 (<span style=\"color: #0087ff; text-decoration-color: #0087ff\">GaussianNoise</span>)             │ (<span style=\"color: #00d7ff; text-decoration-color: #00d7ff\">None</span>, <span style=\"color: #00af00; text-decoration-color: #00af00\">128</span>)                 │               <span style=\"color: #00af00; text-decoration-color: #00af00\">0</span> │\n",
              "├──────────────────────────────────────┼─────────────────────────────┼─────────────────┤\n",
              "│ layer_3 (<span style=\"color: #0087ff; text-decoration-color: #0087ff\">Dense</span>)                      │ (<span style=\"color: #00d7ff; text-decoration-color: #00d7ff\">None</span>, <span style=\"color: #00af00; text-decoration-color: #00af00\">128</span>)                 │          <span style=\"color: #00af00; text-decoration-color: #00af00\">16,512</span> │\n",
              "├──────────────────────────────────────┼─────────────────────────────┼─────────────────┤\n",
              "│ noise_l3 (<span style=\"color: #0087ff; text-decoration-color: #0087ff\">GaussianNoise</span>)             │ (<span style=\"color: #00d7ff; text-decoration-color: #00d7ff\">None</span>, <span style=\"color: #00af00; text-decoration-color: #00af00\">128</span>)                 │               <span style=\"color: #00af00; text-decoration-color: #00af00\">0</span> │\n",
              "├──────────────────────────────────────┼─────────────────────────────┼─────────────────┤\n",
              "│ output_layer (<span style=\"color: #0087ff; text-decoration-color: #0087ff\">Dense</span>)                 │ (<span style=\"color: #00d7ff; text-decoration-color: #00d7ff\">None</span>, <span style=\"color: #00af00; text-decoration-color: #00af00\">10</span>)                  │           <span style=\"color: #00af00; text-decoration-color: #00af00\">1,290</span> │\n",
              "└──────────────────────────────────────┴─────────────────────────────┴─────────────────┘\n",
              "</pre>\n"
            ]
          },
          "metadata": {}
        },
        {
          "output_type": "display_data",
          "data": {
            "text/plain": [
              "\u001b[1m Total params: \u001b[0m\u001b[38;5;34m251,658\u001b[0m (983.04 KB)\n"
            ],
            "text/html": [
              "<pre style=\"white-space:pre;overflow-x:auto;line-height:normal;font-family:Menlo,'DejaVu Sans Mono',consolas,'Courier New',monospace\"><span style=\"font-weight: bold\"> Total params: </span><span style=\"color: #00af00; text-decoration-color: #00af00\">251,658</span> (983.04 KB)\n",
              "</pre>\n"
            ]
          },
          "metadata": {}
        },
        {
          "output_type": "display_data",
          "data": {
            "text/plain": [
              "\u001b[1m Trainable params: \u001b[0m\u001b[38;5;34m251,658\u001b[0m (983.04 KB)\n"
            ],
            "text/html": [
              "<pre style=\"white-space:pre;overflow-x:auto;line-height:normal;font-family:Menlo,'DejaVu Sans Mono',consolas,'Courier New',monospace\"><span style=\"font-weight: bold\"> Trainable params: </span><span style=\"color: #00af00; text-decoration-color: #00af00\">251,658</span> (983.04 KB)\n",
              "</pre>\n"
            ]
          },
          "metadata": {}
        },
        {
          "output_type": "display_data",
          "data": {
            "text/plain": [
              "\u001b[1m Non-trainable params: \u001b[0m\u001b[38;5;34m0\u001b[0m (0.00 B)\n"
            ],
            "text/html": [
              "<pre style=\"white-space:pre;overflow-x:auto;line-height:normal;font-family:Menlo,'DejaVu Sans Mono',consolas,'Courier New',monospace\"><span style=\"font-weight: bold\"> Non-trainable params: </span><span style=\"color: #00af00; text-decoration-color: #00af00\">0</span> (0.00 B)\n",
              "</pre>\n"
            ]
          },
          "metadata": {}
        }
      ],
      "source": [
        "model_noise.summary()"
      ]
    },
    {
      "cell_type": "code",
      "execution_count": null,
      "metadata": {
        "id": "8X8Jg3xADiR_"
      },
      "outputs": [],
      "source": [
        "model_noise.compile(\n",
        "    optimizer='adam', loss='sparse_categorical_crossentropy', metrics=['accuracy'])"
      ]
    },
    {
      "cell_type": "code",
      "execution_count": null,
      "metadata": {
        "id": "kqbgA9x3DiR_",
        "outputId": "4f491e26-f91a-448e-b979-b095af78409a"
      },
      "outputs": [
        {
          "name": "stdout",
          "output_type": "stream",
          "text": [
            "Epoch 1/100\n",
            "15/15 [==============================] - 1s 14ms/step - loss: 5.8653 - accuracy: 0.1028 - val_loss: 2.1275 - val_accuracy: 0.3125\n",
            "Epoch 2/100\n",
            "15/15 [==============================] - 0s 6ms/step - loss: 5.3046 - accuracy: 0.0895 - val_loss: 1.9559 - val_accuracy: 0.3042\n",
            "Epoch 3/100\n",
            "15/15 [==============================] - 0s 6ms/step - loss: 4.4769 - accuracy: 0.1368 - val_loss: 1.8128 - val_accuracy: 0.3833\n",
            "Epoch 4/100\n",
            "15/15 [==============================] - 0s 5ms/step - loss: 4.0786 - accuracy: 0.1964 - val_loss: 1.2535 - val_accuracy: 0.6333\n",
            "Epoch 5/100\n",
            "15/15 [==============================] - 0s 7ms/step - loss: 3.3524 - accuracy: 0.2568 - val_loss: 0.9764 - val_accuracy: 0.6833\n",
            "Epoch 6/100\n",
            "15/15 [==============================] - 0s 5ms/step - loss: 2.6634 - accuracy: 0.3460 - val_loss: 0.6557 - val_accuracy: 0.8125\n",
            "Epoch 7/100\n",
            "15/15 [==============================] - 0s 5ms/step - loss: 2.2176 - accuracy: 0.4599 - val_loss: 0.6527 - val_accuracy: 0.7917\n",
            "Epoch 8/100\n",
            "15/15 [==============================] - 0s 5ms/step - loss: 1.9058 - accuracy: 0.5390 - val_loss: 0.6244 - val_accuracy: 0.8083\n",
            "Epoch 9/100\n",
            "15/15 [==============================] - 0s 5ms/step - loss: 1.7573 - accuracy: 0.5959 - val_loss: 0.5462 - val_accuracy: 0.8333\n",
            "Epoch 10/100\n",
            "15/15 [==============================] - 0s 6ms/step - loss: 1.4837 - accuracy: 0.6300 - val_loss: 0.6097 - val_accuracy: 0.8292\n",
            "Epoch 11/100\n",
            "15/15 [==============================] - 0s 6ms/step - loss: 1.1278 - accuracy: 0.7277 - val_loss: 0.5765 - val_accuracy: 0.8583\n",
            "Epoch 12/100\n",
            "15/15 [==============================] - 0s 5ms/step - loss: 1.1635 - accuracy: 0.7538 - val_loss: 0.4970 - val_accuracy: 0.8625\n",
            "Epoch 13/100\n",
            "15/15 [==============================] - 0s 6ms/step - loss: 1.1130 - accuracy: 0.6989 - val_loss: 0.5637 - val_accuracy: 0.8500\n",
            "Epoch 14/100\n",
            "15/15 [==============================] - 0s 6ms/step - loss: 0.9796 - accuracy: 0.7545 - val_loss: 0.4979 - val_accuracy: 0.8875\n",
            "Epoch 15/100\n",
            "15/15 [==============================] - 0s 8ms/step - loss: 0.9209 - accuracy: 0.7673 - val_loss: 0.4689 - val_accuracy: 0.8958\n",
            "Epoch 16/100\n",
            "15/15 [==============================] - 0s 7ms/step - loss: 0.8918 - accuracy: 0.7717 - val_loss: 0.5987 - val_accuracy: 0.8583\n",
            "Epoch 17/100\n",
            "15/15 [==============================] - 0s 7ms/step - loss: 0.8383 - accuracy: 0.7955 - val_loss: 0.4919 - val_accuracy: 0.8667\n",
            "Epoch 18/100\n",
            "15/15 [==============================] - 0s 5ms/step - loss: 0.6010 - accuracy: 0.8327 - val_loss: 0.4889 - val_accuracy: 0.8750\n",
            "Epoch 19/100\n",
            "15/15 [==============================] - 0s 6ms/step - loss: 0.4903 - accuracy: 0.8565 - val_loss: 0.5386 - val_accuracy: 0.8917\n",
            "Epoch 20/100\n",
            "15/15 [==============================] - 0s 7ms/step - loss: 0.6484 - accuracy: 0.8211 - val_loss: 0.5362 - val_accuracy: 0.8792\n",
            "Epoch 21/100\n",
            "15/15 [==============================] - 0s 8ms/step - loss: 0.5715 - accuracy: 0.8285 - val_loss: 0.5872 - val_accuracy: 0.8792\n",
            "Epoch 22/100\n",
            "15/15 [==============================] - 0s 6ms/step - loss: 0.6872 - accuracy: 0.8492 - val_loss: 0.6423 - val_accuracy: 0.8833\n",
            "Epoch 23/100\n",
            "15/15 [==============================] - 0s 7ms/step - loss: 0.5915 - accuracy: 0.8581 - val_loss: 0.5112 - val_accuracy: 0.8833\n",
            "Epoch 24/100\n",
            "15/15 [==============================] - 0s 6ms/step - loss: 0.5104 - accuracy: 0.8574 - val_loss: 0.5441 - val_accuracy: 0.9000\n",
            "Epoch 25/100\n",
            "15/15 [==============================] - 0s 6ms/step - loss: 0.5810 - accuracy: 0.8395 - val_loss: 0.6005 - val_accuracy: 0.8833\n",
            "Epoch 26/100\n",
            "15/15 [==============================] - 0s 7ms/step - loss: 0.5235 - accuracy: 0.8726 - val_loss: 0.5837 - val_accuracy: 0.8750\n",
            "Epoch 27/100\n",
            "15/15 [==============================] - 0s 5ms/step - loss: 0.4758 - accuracy: 0.8668 - val_loss: 0.6502 - val_accuracy: 0.8833\n",
            "Epoch 28/100\n",
            "15/15 [==============================] - 0s 7ms/step - loss: 0.4139 - accuracy: 0.8733 - val_loss: 0.5813 - val_accuracy: 0.8917\n",
            "Epoch 29/100\n",
            "15/15 [==============================] - 0s 6ms/step - loss: 0.4016 - accuracy: 0.8781 - val_loss: 0.5838 - val_accuracy: 0.8792\n",
            "Epoch 30/100\n",
            "15/15 [==============================] - 0s 5ms/step - loss: 0.3706 - accuracy: 0.9079 - val_loss: 0.6025 - val_accuracy: 0.8875\n",
            "Epoch 31/100\n",
            "15/15 [==============================] - 0s 6ms/step - loss: 0.3575 - accuracy: 0.8994 - val_loss: 0.6736 - val_accuracy: 0.8750\n",
            "Epoch 32/100\n",
            "15/15 [==============================] - 0s 6ms/step - loss: 0.4252 - accuracy: 0.8718 - val_loss: 0.6502 - val_accuracy: 0.8875\n",
            "Epoch 33/100\n",
            "15/15 [==============================] - 0s 7ms/step - loss: 0.2719 - accuracy: 0.9102 - val_loss: 0.6060 - val_accuracy: 0.8833\n",
            "Epoch 34/100\n",
            "15/15 [==============================] - 0s 7ms/step - loss: 0.3115 - accuracy: 0.9120 - val_loss: 0.5591 - val_accuracy: 0.8917\n",
            "Epoch 35/100\n",
            "15/15 [==============================] - 0s 10ms/step - loss: 0.3249 - accuracy: 0.8979 - val_loss: 0.5828 - val_accuracy: 0.8917\n",
            "Epoch 36/100\n",
            "15/15 [==============================] - 0s 7ms/step - loss: 0.2768 - accuracy: 0.9059 - val_loss: 0.5118 - val_accuracy: 0.9083\n",
            "Epoch 37/100\n",
            "15/15 [==============================] - 0s 6ms/step - loss: 0.2369 - accuracy: 0.9298 - val_loss: 0.6189 - val_accuracy: 0.8917\n",
            "Epoch 38/100\n",
            "15/15 [==============================] - 0s 7ms/step - loss: 0.2839 - accuracy: 0.9164 - val_loss: 0.5830 - val_accuracy: 0.8958\n",
            "Epoch 39/100\n",
            "15/15 [==============================] - 0s 7ms/step - loss: 0.2506 - accuracy: 0.9162 - val_loss: 0.6940 - val_accuracy: 0.8917\n",
            "Epoch 40/100\n",
            "15/15 [==============================] - 0s 6ms/step - loss: 0.1872 - accuracy: 0.9311 - val_loss: 0.6294 - val_accuracy: 0.8833\n",
            "Epoch 41/100\n",
            "15/15 [==============================] - 0s 7ms/step - loss: 0.2426 - accuracy: 0.9279 - val_loss: 0.7030 - val_accuracy: 0.8917\n",
            "Epoch 42/100\n",
            "15/15 [==============================] - 0s 7ms/step - loss: 0.2376 - accuracy: 0.9390 - val_loss: 0.6553 - val_accuracy: 0.8958\n",
            "Epoch 43/100\n",
            "15/15 [==============================] - 0s 7ms/step - loss: 0.2145 - accuracy: 0.9316 - val_loss: 0.6418 - val_accuracy: 0.9042\n",
            "Epoch 44/100\n",
            "15/15 [==============================] - 0s 7ms/step - loss: 0.2142 - accuracy: 0.9198 - val_loss: 0.6553 - val_accuracy: 0.8958\n",
            "Epoch 45/100\n",
            "15/15 [==============================] - 0s 7ms/step - loss: 0.1982 - accuracy: 0.9280 - val_loss: 0.6731 - val_accuracy: 0.8958\n",
            "Epoch 46/100\n",
            "15/15 [==============================] - 0s 9ms/step - loss: 0.1889 - accuracy: 0.9379 - val_loss: 0.6735 - val_accuracy: 0.8958\n",
            "Epoch 47/100\n",
            "15/15 [==============================] - 0s 6ms/step - loss: 0.2022 - accuracy: 0.9383 - val_loss: 0.6100 - val_accuracy: 0.8958\n",
            "Epoch 48/100\n",
            "15/15 [==============================] - 0s 7ms/step - loss: 0.2019 - accuracy: 0.9435 - val_loss: 0.6642 - val_accuracy: 0.8833\n",
            "Epoch 49/100\n",
            "15/15 [==============================] - 0s 6ms/step - loss: 0.2313 - accuracy: 0.9446 - val_loss: 0.8549 - val_accuracy: 0.8750\n",
            "Epoch 50/100\n",
            "15/15 [==============================] - 0s 6ms/step - loss: 0.1944 - accuracy: 0.9516 - val_loss: 0.6962 - val_accuracy: 0.8917\n",
            "Epoch 51/100\n",
            "15/15 [==============================] - 0s 6ms/step - loss: 0.1675 - accuracy: 0.9486 - val_loss: 0.6882 - val_accuracy: 0.8958\n",
            "Epoch 52/100\n",
            "15/15 [==============================] - 0s 6ms/step - loss: 0.1678 - accuracy: 0.9486 - val_loss: 0.6948 - val_accuracy: 0.8792\n",
            "Epoch 53/100\n",
            "15/15 [==============================] - 0s 8ms/step - loss: 0.2257 - accuracy: 0.9262 - val_loss: 0.8005 - val_accuracy: 0.8917\n",
            "Epoch 54/100\n",
            "15/15 [==============================] - 0s 8ms/step - loss: 0.1388 - accuracy: 0.9553 - val_loss: 0.6187 - val_accuracy: 0.9042\n",
            "Epoch 55/100\n",
            "15/15 [==============================] - 0s 6ms/step - loss: 0.1249 - accuracy: 0.9519 - val_loss: 0.7753 - val_accuracy: 0.8875\n",
            "Epoch 56/100\n",
            "15/15 [==============================] - 0s 5ms/step - loss: 0.2360 - accuracy: 0.9477 - val_loss: 0.7673 - val_accuracy: 0.8833\n",
            "Epoch 57/100\n",
            "15/15 [==============================] - 0s 5ms/step - loss: 0.1603 - accuracy: 0.9466 - val_loss: 0.6775 - val_accuracy: 0.8875\n",
            "Epoch 58/100\n",
            "15/15 [==============================] - 0s 8ms/step - loss: 0.1272 - accuracy: 0.9481 - val_loss: 0.7124 - val_accuracy: 0.8917\n"
          ]
        },
        {
          "name": "stdout",
          "output_type": "stream",
          "text": [
            "Epoch 59/100\n",
            "15/15 [==============================] - 0s 5ms/step - loss: 0.1542 - accuracy: 0.9570 - val_loss: 0.7349 - val_accuracy: 0.8792\n",
            "Epoch 60/100\n",
            "15/15 [==============================] - 0s 5ms/step - loss: 0.1166 - accuracy: 0.9619 - val_loss: 0.6831 - val_accuracy: 0.8958\n",
            "Epoch 61/100\n",
            "15/15 [==============================] - 0s 7ms/step - loss: 0.1282 - accuracy: 0.9574 - val_loss: 0.7445 - val_accuracy: 0.8833\n",
            "Epoch 62/100\n",
            "15/15 [==============================] - 0s 6ms/step - loss: 0.1158 - accuracy: 0.9588 - val_loss: 0.7366 - val_accuracy: 0.8875\n",
            "Epoch 63/100\n",
            "15/15 [==============================] - 0s 5ms/step - loss: 0.1160 - accuracy: 0.9703 - val_loss: 0.8873 - val_accuracy: 0.8750\n",
            "Epoch 64/100\n",
            "15/15 [==============================] - 0s 6ms/step - loss: 0.1887 - accuracy: 0.9501 - val_loss: 0.7380 - val_accuracy: 0.9000\n",
            "Epoch 65/100\n",
            "15/15 [==============================] - 0s 5ms/step - loss: 0.1922 - accuracy: 0.9371 - val_loss: 0.7184 - val_accuracy: 0.8917\n",
            "Epoch 66/100\n",
            "15/15 [==============================] - 0s 7ms/step - loss: 0.1041 - accuracy: 0.9673 - val_loss: 0.8425 - val_accuracy: 0.8833\n",
            "Epoch 67/100\n",
            "15/15 [==============================] - 0s 7ms/step - loss: 0.1271 - accuracy: 0.9649 - val_loss: 0.7782 - val_accuracy: 0.8833\n",
            "Epoch 68/100\n",
            "15/15 [==============================] - 0s 6ms/step - loss: 0.1255 - accuracy: 0.9537 - val_loss: 0.9350 - val_accuracy: 0.8958\n",
            "Epoch 69/100\n",
            "15/15 [==============================] - 0s 6ms/step - loss: 0.1054 - accuracy: 0.9611 - val_loss: 0.7741 - val_accuracy: 0.8917\n",
            "Epoch 70/100\n",
            "15/15 [==============================] - 0s 8ms/step - loss: 0.1547 - accuracy: 0.9560 - val_loss: 0.8785 - val_accuracy: 0.8792\n",
            "Epoch 71/100\n",
            "15/15 [==============================] - 0s 7ms/step - loss: 0.1105 - accuracy: 0.9686 - val_loss: 0.7090 - val_accuracy: 0.8917\n",
            "Epoch 72/100\n",
            "15/15 [==============================] - 0s 7ms/step - loss: 0.1077 - accuracy: 0.9645 - val_loss: 0.8053 - val_accuracy: 0.8750\n",
            "Epoch 73/100\n",
            "15/15 [==============================] - 0s 6ms/step - loss: 0.0710 - accuracy: 0.9807 - val_loss: 0.8167 - val_accuracy: 0.8875\n",
            "Epoch 74/100\n",
            "15/15 [==============================] - 0s 7ms/step - loss: 0.0989 - accuracy: 0.9700 - val_loss: 0.8104 - val_accuracy: 0.8833\n",
            "Epoch 75/100\n",
            "15/15 [==============================] - 0s 5ms/step - loss: 0.1215 - accuracy: 0.9596 - val_loss: 0.8593 - val_accuracy: 0.9083\n",
            "Epoch 76/100\n",
            "15/15 [==============================] - 0s 6ms/step - loss: 0.0774 - accuracy: 0.9825 - val_loss: 0.9180 - val_accuracy: 0.8875\n",
            "Epoch 77/100\n",
            "15/15 [==============================] - 0s 6ms/step - loss: 0.0655 - accuracy: 0.9793 - val_loss: 0.6995 - val_accuracy: 0.8917\n",
            "Epoch 78/100\n",
            "15/15 [==============================] - 0s 8ms/step - loss: 0.0912 - accuracy: 0.9667 - val_loss: 0.8618 - val_accuracy: 0.8792\n",
            "Epoch 79/100\n",
            "15/15 [==============================] - 0s 6ms/step - loss: 0.1006 - accuracy: 0.9764 - val_loss: 0.7584 - val_accuracy: 0.9042\n",
            "Epoch 80/100\n",
            "15/15 [==============================] - 0s 7ms/step - loss: 0.0652 - accuracy: 0.9712 - val_loss: 0.7937 - val_accuracy: 0.8875\n",
            "Epoch 81/100\n",
            "15/15 [==============================] - 0s 9ms/step - loss: 0.0835 - accuracy: 0.9793 - val_loss: 0.6679 - val_accuracy: 0.9042\n",
            "Epoch 82/100\n",
            "15/15 [==============================] - 0s 9ms/step - loss: 0.1186 - accuracy: 0.9677 - val_loss: 0.8330 - val_accuracy: 0.8875\n",
            "Epoch 83/100\n",
            "15/15 [==============================] - 0s 8ms/step - loss: 0.0776 - accuracy: 0.9730 - val_loss: 0.7674 - val_accuracy: 0.9083\n",
            "Epoch 84/100\n",
            "15/15 [==============================] - 0s 7ms/step - loss: 0.0671 - accuracy: 0.9742 - val_loss: 0.8919 - val_accuracy: 0.8875\n",
            "Epoch 85/100\n",
            "15/15 [==============================] - 0s 5ms/step - loss: 0.1075 - accuracy: 0.9705 - val_loss: 0.9036 - val_accuracy: 0.8875\n",
            "Epoch 86/100\n",
            "15/15 [==============================] - 0s 7ms/step - loss: 0.0804 - accuracy: 0.9740 - val_loss: 0.7779 - val_accuracy: 0.8958\n",
            "Epoch 87/100\n",
            "15/15 [==============================] - 0s 10ms/step - loss: 0.0599 - accuracy: 0.9823 - val_loss: 0.8782 - val_accuracy: 0.9000\n",
            "Epoch 88/100\n",
            "15/15 [==============================] - 0s 5ms/step - loss: 0.0865 - accuracy: 0.9751 - val_loss: 0.8648 - val_accuracy: 0.8875\n",
            "Epoch 89/100\n",
            "15/15 [==============================] - 0s 5ms/step - loss: 0.0674 - accuracy: 0.9766 - val_loss: 0.8674 - val_accuracy: 0.8958\n",
            "Epoch 90/100\n",
            "15/15 [==============================] - 0s 5ms/step - loss: 0.0434 - accuracy: 0.9806 - val_loss: 0.7735 - val_accuracy: 0.9167\n",
            "Epoch 91/100\n",
            "15/15 [==============================] - 0s 10ms/step - loss: 0.0957 - accuracy: 0.9724 - val_loss: 0.9987 - val_accuracy: 0.8875\n",
            "Epoch 92/100\n",
            "15/15 [==============================] - 0s 7ms/step - loss: 0.0536 - accuracy: 0.9826 - val_loss: 0.8241 - val_accuracy: 0.9042\n",
            "Epoch 93/100\n",
            "15/15 [==============================] - 0s 8ms/step - loss: 0.0530 - accuracy: 0.9830 - val_loss: 0.8339 - val_accuracy: 0.8917\n",
            "Epoch 94/100\n",
            "15/15 [==============================] - 0s 6ms/step - loss: 0.0507 - accuracy: 0.9856 - val_loss: 0.9236 - val_accuracy: 0.9000\n",
            "Epoch 95/100\n",
            "15/15 [==============================] - 0s 7ms/step - loss: 0.0296 - accuracy: 0.9862 - val_loss: 0.9076 - val_accuracy: 0.8917\n",
            "Epoch 96/100\n",
            "15/15 [==============================] - 0s 8ms/step - loss: 0.0445 - accuracy: 0.9833 - val_loss: 0.8901 - val_accuracy: 0.9083\n",
            "Epoch 97/100\n",
            "15/15 [==============================] - 0s 6ms/step - loss: 0.0740 - accuracy: 0.9755 - val_loss: 0.7903 - val_accuracy: 0.9000\n",
            "Epoch 98/100\n",
            "15/15 [==============================] - 0s 10ms/step - loss: 0.0950 - accuracy: 0.9800 - val_loss: 0.8696 - val_accuracy: 0.9000\n",
            "Epoch 99/100\n",
            "15/15 [==============================] - 0s 7ms/step - loss: 0.0402 - accuracy: 0.9818 - val_loss: 0.8311 - val_accuracy: 0.9083\n",
            "Epoch 100/100\n",
            "15/15 [==============================] - 0s 8ms/step - loss: 0.0533 - accuracy: 0.9818 - val_loss: 0.8219 - val_accuracy: 0.8958\n"
          ]
        }
      ],
      "source": [
        "history_noise = model_noise.fit(\n",
        "    x,\n",
        "    y,\n",
        "    batch_size=64,\n",
        "    epochs=100,\n",
        "    validation_split=0.2,\n",
        "    shuffle=True\n",
        ")"
      ]
    },
    {
      "cell_type": "code",
      "execution_count": null,
      "metadata": {
        "scrolled": true,
        "id": "AyKkfVVYDiSA",
        "outputId": "5f9494e2-9d28-4226-9611-f01c84649c4c"
      },
      "outputs": [
        {
          "data": {
            "image/png": "[encoded data removed]",
            "text/plain": [
              "<Figure size 1152x432 with 2 Axes>"
            ]
          },
          "metadata": {
            "needs_background": "light"
          },
          "output_type": "display_data"
        }
      ],
      "source": [
        "show_loss_accuracy_evolution(history_noise)"
      ]
    },
    {
      "cell_type": "code",
      "execution_count": null,
      "metadata": {
        "id": "daCZgOPqDiSA",
        "outputId": "d2afab59-7b6a-4b1f-a7fe-162edd3dd980"
      },
      "outputs": [
        {
          "name": "stdout",
          "output_type": "stream",
          "text": [
            "Test Loss: 0.9013254046440125\n",
            "Test Accuracy: 0.8980000019073486\n"
          ]
        }
      ],
      "source": [
        "results = model_noise.evaluate(x_test, y_test, verbose=0)\n",
        "print('Test Loss: {}'.format(results[0]))\n",
        "print('Test Accuracy: {}'.format(results[1]))"
      ]
    },
    {
      "cell_type": "markdown",
      "metadata": {
        "id": "4_X54cigDiSA"
      },
      "source": [
        "<a id='early_stopping'></a>\n",
        "## Early Stopping\n",
        "\n",
        "Another of the most used techniques in neural network training is **early stopping**. It basically consists of stopping the training process in an Epoch prior to the one defined in the compilation.\n",
        "\n",
        "This, in addition to resulting in a model with less overfitting, saves unnecessary computation time.\n",
        "\n",
        "To do this, we can use the [Keras callbacks](https://keras.io/api/callbacks/), objects that perform actions at different times during training. Specifically, we will make use of [`EarlyStopping`](https://keras.io/api/callbacks/early_stopping/).\n",
        "\n",
        "```python\n",
        "tf.keras.callbacks.EarlyStopping(\n",
        "    monitor=\"val_loss\",\n",
        "    min_delta=0,\n",
        "    patience=0,\n",
        "    verbose=0,\n",
        ")\n",
        "```\n",
        "\n",
        "- **monitor**: Quantity to be monitored. Depending on the evolution, it will be decided to stop training.\n",
        "\n",
        "- **min_delta**: Minimum change in the monitored quantity to qualify as an improvement, i.e. an absolute change of less than min_delta, will count as no improvement.\n",
        "\n",
        "- **patience**: Number of epochs with no improvement after which training will be stopped.\n",
        "\n",
        "- **verbose**: verbosity mode.\n",
        "\n",
        "There are other callbacks that can be very useful such as:\n",
        "- [`ModelCheckpoint`](https://keras.io/api/callbacks/model_checkpoint/), which allows storing the state of a model at different times of training. This is very useful in trainings that can take hours or days.\n",
        "- [`TensorBoard`](https://keras.io/api/callbacks/tensorboard/), which allows the use of [TensorBoard](https://www.tensorflow.org/tensorboard?hl=es-419), framework TensorFlow for visualizing metrics and evaluating models."
      ]
    },
    {
      "cell_type": "code",
      "execution_count": null,
      "metadata": {
        "id": "Q_FuFwDPDiSA"
      },
      "outputs": [],
      "source": [
        "es_callback = keras.callbacks.EarlyStopping(\n",
        "    monitor='val_loss',  # can be 'val_accuracy'\n",
        "    patience=5,  # if during 5 epochs there is no improvement in `val_loss`, the execution will stop\n",
        "    verbose=1)"
      ]
    },
    {
      "cell_type": "markdown",
      "metadata": {
        "id": "CJV-SJq3DiSA"
      },
      "source": [
        "Lets create the same model:"
      ]
    },
    {
      "cell_type": "code",
      "execution_count": null,
      "metadata": {
        "id": "biztHtM_DiSA"
      },
      "outputs": [],
      "source": [
        "# Input\n",
        "inputs = tf.keras.Input(shape=(28,28), name='input_layer')\n",
        "# Convert the 2D image to a vector\n",
        "flat = layers.Flatten()(inputs)\n",
        "\n",
        "# hidden layer 1\n",
        "l_1 = layers.Dense(256, activation='relu', name='layer_1')(flat)\n",
        "# hidden layer 2\n",
        "l_2 = layers.Dense(128, activation='relu', name='layer_2')(l_1)\n",
        "# hidden layer 3\n",
        "l_3 = layers.Dense(128, activation='relu', name='layer_3')(l_2)\n",
        "\n",
        "# Outputs\n",
        "outputs = layers.Dense(num_classes, activation='softmax', name='output_layer')(l_3)\n",
        "\n",
        "model_early_stopping = keras.Model(inputs=inputs, outputs=outputs, name='dont_overfit_model_early_stopping')"
      ]
    },
    {
      "cell_type": "code",
      "execution_count": null,
      "metadata": {
        "id": "Y900fhg0DiSA",
        "outputId": "8d37212f-d150-46d8-eda5-361217d7d728"
      },
      "outputs": [
        {
          "name": "stdout",
          "output_type": "stream",
          "text": [
            "Model: \"dont_overfit_model_early_stopping\"\n",
            "_________________________________________________________________\n",
            "Layer (type)                 Output Shape              Param #   \n",
            "=================================================================\n",
            "input_layer (InputLayer)     [(None, 28, 28)]          0         \n",
            "_________________________________________________________________\n",
            "flatten_9 (Flatten)          (None, 784)               0         \n",
            "_________________________________________________________________\n",
            "layer_1 (Dense)              (None, 256)               200960    \n",
            "_________________________________________________________________\n",
            "layer_2 (Dense)              (None, 128)               32896     \n",
            "_________________________________________________________________\n",
            "layer_3 (Dense)              (None, 128)               16512     \n",
            "_________________________________________________________________\n",
            "output_layer (Dense)         (None, 10)                1290      \n",
            "=================================================================\n",
            "Total params: 251,658\n",
            "Trainable params: 251,658\n",
            "Non-trainable params: 0\n",
            "_________________________________________________________________\n"
          ]
        }
      ],
      "source": [
        "model_early_stopping.summary()"
      ]
    },
    {
      "cell_type": "code",
      "execution_count": null,
      "metadata": {
        "id": "F6orQ_iiDiSA"
      },
      "outputs": [],
      "source": [
        "model_early_stopping.compile(optimizer='adam',\n",
        "                             loss='sparse_categorical_crossentropy',\n",
        "                             metrics=['accuracy'])"
      ]
    },
    {
      "cell_type": "code",
      "execution_count": null,
      "metadata": {
        "scrolled": true,
        "id": "SuoOnbx2DiSA",
        "outputId": "59851b49-2bb6-4ebd-fbbb-46d6f4335426"
      },
      "outputs": [
        {
          "name": "stdout",
          "output_type": "stream",
          "text": [
            "Epoch 1/100\n",
            "15/15 [==============================] - 1s 20ms/step - loss: 2.0875 - accuracy: 0.3342 - val_loss: 1.1049 - val_accuracy: 0.7875\n",
            "Epoch 2/100\n",
            "15/15 [==============================] - 0s 5ms/step - loss: 0.8344 - accuracy: 0.8115 - val_loss: 0.5434 - val_accuracy: 0.8375\n",
            "Epoch 3/100\n",
            "15/15 [==============================] - 0s 6ms/step - loss: 0.4074 - accuracy: 0.8654 - val_loss: 0.3994 - val_accuracy: 0.8917\n",
            "Epoch 4/100\n",
            "15/15 [==============================] - 0s 6ms/step - loss: 0.2204 - accuracy: 0.9406 - val_loss: 0.3865 - val_accuracy: 0.8792\n",
            "Epoch 5/100\n",
            "15/15 [==============================] - 0s 6ms/step - loss: 0.1622 - accuracy: 0.9601 - val_loss: 0.3624 - val_accuracy: 0.8750\n",
            "Epoch 6/100\n",
            "15/15 [==============================] - 0s 8ms/step - loss: 0.1126 - accuracy: 0.9665 - val_loss: 0.3307 - val_accuracy: 0.9000\n",
            "Epoch 7/100\n",
            "15/15 [==============================] - 0s 7ms/step - loss: 0.0704 - accuracy: 0.9850 - val_loss: 0.3552 - val_accuracy: 0.8917\n",
            "Epoch 8/100\n",
            "15/15 [==============================] - 0s 7ms/step - loss: 0.0577 - accuracy: 0.9886 - val_loss: 0.3858 - val_accuracy: 0.8917\n",
            "Epoch 9/100\n",
            "15/15 [==============================] - 0s 5ms/step - loss: 0.0322 - accuracy: 0.9992 - val_loss: 0.3359 - val_accuracy: 0.8917\n",
            "Epoch 10/100\n",
            "15/15 [==============================] - 0s 5ms/step - loss: 0.0177 - accuracy: 1.0000 - val_loss: 0.3707 - val_accuracy: 0.9000\n",
            "Epoch 11/100\n",
            "15/15 [==============================] - 0s 5ms/step - loss: 0.0124 - accuracy: 1.0000 - val_loss: 0.3536 - val_accuracy: 0.9042\n",
            "Epoch 00011: early stopping\n"
          ]
        }
      ],
      "source": [
        "history_early_stopping = model_early_stopping.fit(\n",
        "    x,\n",
        "    y,\n",
        "    batch_size=64,\n",
        "    epochs=100,\n",
        "    validation_split=0.2,\n",
        "    shuffle=True,\n",
        "    callbacks=[es_callback]\n",
        ")"
      ]
    },
    {
      "cell_type": "code",
      "execution_count": null,
      "metadata": {
        "id": "H984IwxNDiSA",
        "outputId": "d64a7507-ea0d-4489-a749-5e452d5616e2"
      },
      "outputs": [
        {
          "data": {
            "image/png": "[encoded data removed]",
            "text/plain": [
              "<Figure size 1152x432 with 2 Axes>"
            ]
          },
          "metadata": {
            "needs_background": "light"
          },
          "output_type": "display_data"
        }
      ],
      "source": [
        "show_loss_accuracy_evolution(history_early_stopping)"
      ]
    },
    {
      "cell_type": "code",
      "execution_count": null,
      "metadata": {
        "id": "XPG4FwdODiSA",
        "outputId": "c6aa29c1-707b-48e2-ebbf-b62fe56f7a33"
      },
      "outputs": [
        {
          "name": "stdout",
          "output_type": "stream",
          "text": [
            "Test Loss: 0.3768613636493683\n",
            "Test Accuracy: 0.9045000076293945\n"
          ]
        }
      ],
      "source": [
        "results = model_early_stopping.evaluate(x_test, y_test, verbose=0)\n",
        "print('Test Loss: {}'.format(results[0]))\n",
        "print('Test Accuracy: {}'.format(results[1]))"
      ]
    },
    {
      "cell_type": "markdown",
      "metadata": {
        "id": "e2w2q2VUDiSB"
      },
      "source": [
        "<a id='tensorboard'></a>\n",
        "# TensorBoard\n",
        "\n",
        "\n",
        "\n",
        "[TensorBoard](https://www.tensorflow.org/tensorboard) is a set of TensorFlow tools that allows us to represent the evolution and results of the training.\n",
        "\n",
        "In order to introduce this tool, the following is a notebook from the [TensorFlow tutorial on TensorBoard](https://www.tensorflow.org/tensorboard/get_started)."
      ]
    },
    {
      "cell_type": "markdown",
      "metadata": {
        "id": "kC1NtY3WDiSB"
      },
      "source": [
        "Load TensorBoard notebook extension."
      ]
    },
    {
      "cell_type": "code",
      "execution_count": null,
      "metadata": {
        "id": "LxE7Ph-wDiSB"
      },
      "outputs": [],
      "source": [
        "%load_ext tensorboard"
      ]
    },
    {
      "cell_type": "code",
      "execution_count": null,
      "metadata": {
        "id": "6y3gRsaPDiSB"
      },
      "outputs": [],
      "source": [
        "import tensorflow as tf\n",
        "import datetime"
      ]
    },
    {
      "cell_type": "markdown",
      "metadata": {
        "id": "N_DEMsaODiSB"
      },
      "source": [
        "\n",
        "We build the model. The input layer will have a dimension of `28x28`. The output layer, in a multiclass classification problem with 10 possible classes, will be made up of 10 neurons with [softmax activation function](https://keras.io/api/layers/activations/#softmax-function ).\n"
      ]
    },
    {
      "cell_type": "code",
      "execution_count": null,
      "metadata": {
        "id": "9pzDPxtSDiSB"
      },
      "outputs": [],
      "source": [
        "kernel_regularizer_l2 = keras.regularizers.l2(5e-4)\n",
        "\n",
        "model = tf.keras.models.Sequential(name=\"tensorboard_model\")\n",
        "model.add(layers.Flatten(input_shape=(28, 28)))\n",
        "\n",
        "# Hidden Layer + regularization\n",
        "model.add(layers.Dense(64, activation='relu', name='layer_1'))\n",
        "model.add(layers.Dense(64, activation='relu',\n",
        "                       kernel_regularizer=kernel_regularizer_l2, name='layer_2'))\n",
        "# output layer\n",
        "model.add(layers.Dense(10, activation='softmax', name='output_layer'))"
      ]
    },
    {
      "cell_type": "code",
      "execution_count": null,
      "metadata": {
        "id": "v1e7nOGKDiSB"
      },
      "outputs": [],
      "source": [
        "model.compile(\n",
        "    optimizer='adam',\n",
        "    loss='sparse_categorical_crossentropy',\n",
        "    metrics=['accuracy']\n",
        ")"
      ]
    },
    {
      "cell_type": "markdown",
      "metadata": {
        "id": "5gp4V6NRDiSB"
      },
      "source": [
        "In the [example with early stopping](#early_stopping) the Keras callbacks were presented. To use TensorBoard we will need to include the [`TensorBoard` callback](https://www.tensorflow.org/api_docs/python/tf/keras/callbacks/TensorBoard) to the training.\n",
        "\n",
        "This callback will create and store the logs in the directory that we indicate.\n",
        "\n",
        "By default it will create a directory called \"logs\" in the directory where this notebook is running."
      ]
    },
    {
      "cell_type": "code",
      "execution_count": null,
      "metadata": {
        "id": "7gKgTFoFDiSB"
      },
      "outputs": [],
      "source": [
        "log_dir = 'logs/fit/' + datetime.datetime.now().strftime('%Y%m%d-%H%M%S')"
      ]
    },
    {
      "cell_type": "code",
      "execution_count": null,
      "metadata": {
        "id": "fqUf_Z6LDiSB"
      },
      "outputs": [],
      "source": [
        "tensorboard_callback = tf.keras.callbacks.TensorBoard(log_dir=log_dir, histogram_freq=1)"
      ]
    },
    {
      "cell_type": "code",
      "execution_count": null,
      "metadata": {
        "id": "0HVqbYI_DiSB"
      },
      "outputs": [],
      "source": [
        "es_callback = keras.callbacks.EarlyStopping(\n",
        "    monitor='val_loss',  # can be 'val_accuracy'\n",
        "    patience=10,  # if during 5 epochs there is no improvement in `val_loss`, the execution will stop\n",
        "    verbose=1)"
      ]
    },
    {
      "cell_type": "markdown",
      "metadata": {
        "id": "TKFl-E6zDiSB"
      },
      "source": [
        "Train the model"
      ]
    },
    {
      "cell_type": "code",
      "execution_count": null,
      "metadata": {
        "id": "8CbHii4yDiSB",
        "outputId": "c58b566d-3c8f-471d-d1ed-ce976907bd3b"
      },
      "outputs": [
        {
          "name": "stdout",
          "output_type": "stream",
          "text": [
            "Epoch 1/20\n",
            "1500/1500 [==============================] - 3s 2ms/step - loss: 0.5909 - accuracy: 0.8386 - val_loss: 0.1931 - val_accuracy: 0.9532\n",
            "Epoch 2/20\n",
            "1500/1500 [==============================] - 3s 2ms/step - loss: 0.1886 - accuracy: 0.9543 - val_loss: 0.1816 - val_accuracy: 0.9517\n",
            "Epoch 3/20\n",
            "1500/1500 [==============================] - 2s 1ms/step - loss: 0.1351 - accuracy: 0.9685 - val_loss: 0.1309 - val_accuracy: 0.9690\n",
            "Epoch 4/20\n",
            "1500/1500 [==============================] - 2s 1ms/step - loss: 0.1085 - accuracy: 0.9755 - val_loss: 0.1367 - val_accuracy: 0.9671\n",
            "Epoch 5/20\n",
            "1500/1500 [==============================] - 2s 1ms/step - loss: 0.0920 - accuracy: 0.9791 - val_loss: 0.1171 - val_accuracy: 0.9713\n",
            "Epoch 6/20\n",
            "1500/1500 [==============================] - 2s 1ms/step - loss: 0.0770 - accuracy: 0.9833 - val_loss: 0.1388 - val_accuracy: 0.9643\n",
            "Epoch 7/20\n",
            "1500/1500 [==============================] - 2s 1ms/step - loss: 0.0688 - accuracy: 0.9855 - val_loss: 0.1418 - val_accuracy: 0.9628\n",
            "Epoch 8/20\n",
            "1500/1500 [==============================] - 2s 1ms/step - loss: 0.0669 - accuracy: 0.9854 - val_loss: 0.1180 - val_accuracy: 0.9719\n",
            "Epoch 9/20\n",
            "1500/1500 [==============================] - 2s 1ms/step - loss: 0.0547 - accuracy: 0.9890 - val_loss: 0.1133 - val_accuracy: 0.9753\n",
            "Epoch 10/20\n",
            "1500/1500 [==============================] - 2s 1ms/step - loss: 0.0496 - accuracy: 0.9904 - val_loss: 0.1099 - val_accuracy: 0.9751\n",
            "Epoch 11/20\n",
            "1500/1500 [==============================] - 2s 1ms/step - loss: 0.0458 - accuracy: 0.9921 - val_loss: 0.1206 - val_accuracy: 0.9714\n",
            "Epoch 12/20\n",
            "1500/1500 [==============================] - 2s 1ms/step - loss: 0.0420 - accuracy: 0.9922 - val_loss: 0.1247 - val_accuracy: 0.9717\n",
            "Epoch 13/20\n",
            "1500/1500 [==============================] - 2s 1ms/step - loss: 0.0375 - accuracy: 0.9936 - val_loss: 0.1168 - val_accuracy: 0.9747\n",
            "Epoch 14/20\n",
            "1500/1500 [==============================] - 2s 1ms/step - loss: 0.0367 - accuracy: 0.9945 - val_loss: 0.1214 - val_accuracy: 0.9753\n",
            "Epoch 15/20\n",
            "1500/1500 [==============================] - 2s 2ms/step - loss: 0.0340 - accuracy: 0.9943 - val_loss: 0.1338 - val_accuracy: 0.9711\n",
            "Epoch 16/20\n",
            "1500/1500 [==============================] - 2s 1ms/step - loss: 0.0344 - accuracy: 0.9940 - val_loss: 0.1251 - val_accuracy: 0.9739\n",
            "Epoch 17/20\n",
            "1500/1500 [==============================] - 2s 1ms/step - loss: 0.0293 - accuracy: 0.9958 - val_loss: 0.1242 - val_accuracy: 0.9737\n",
            "Epoch 18/20\n",
            "1500/1500 [==============================] - 2s 1ms/step - loss: 0.0319 - accuracy: 0.9942 - val_loss: 0.1226 - val_accuracy: 0.9753\n",
            "Epoch 19/20\n",
            "1500/1500 [==============================] - 2s 1ms/step - loss: 0.0309 - accuracy: 0.9950 - val_loss: 0.1251 - val_accuracy: 0.9756\n",
            "Epoch 20/20\n",
            "1500/1500 [==============================] - 3s 2ms/step - loss: 0.0289 - accuracy: 0.9951 - val_loss: 0.1317 - val_accuracy: 0.9732\n",
            "Epoch 00020: early stopping\n"
          ]
        },
        {
          "data": {
            "text/plain": [
              "<tensorflow.python.keras.callbacks.History at 0x7ff4e7cbdca0>"
            ]
          },
          "execution_count": 81,
          "metadata": {},
          "output_type": "execute_result"
        }
      ],
      "source": [
        "model.fit(\n",
        "    x=x_train,\n",
        "    y=y_train,\n",
        "    epochs=20,\n",
        "    validation_split=0.2,\n",
        "    batch_size=32,\n",
        "    callbacks=[tensorboard_callback, es_callback]\n",
        ")"
      ]
    },
    {
      "cell_type": "code",
      "execution_count": null,
      "metadata": {
        "id": "VrfvXVPrDiSB",
        "outputId": "b0fffec0-159c-4a03-c977-c280bfbb3909"
      },
      "outputs": [
        {
          "name": "stdout",
          "output_type": "stream",
          "text": [
            "Test Loss: 0.11661028116941452\n",
            "Test Accuracy: 0.9743000268936157\n"
          ]
        }
      ],
      "source": [
        "results = model.evaluate(x_test, y_test, verbose=0)\n",
        "print('Test Loss: {}'.format(results[0]))\n",
        "print('Test Accuracy: {}'.format(results[1]))"
      ]
    },
    {
      "cell_type": "markdown",
      "metadata": {
        "id": "U7_HCaExDiSB"
      },
      "source": [
        "To ** start TensorBoard ** we can execute the following cell or, from the command line, execute:\n",
        "\n",
        "    tensorboard --logdir logs / fit\n",
        "\n",
        "An application will be launched that will be listening by default on port 6006. It is possible to use TensorBoard by opening [localhost: 6006 /](http://localhost:6006/) in a browser."
      ]
    },
    {
      "cell_type": "code",
      "execution_count": null,
      "metadata": {
        "id": "mKfZxLHPDiSC",
        "outputId": "b16e5276-3bc0-461b-c976-be4d854e65b4"
      },
      "outputs": [
        {
          "data": {
            "text/plain": [
              "Reusing TensorBoard on port 6006 (pid 5342), started 0:04:29 ago. (Use '!kill 5342' to kill it.)"
            ]
          },
          "metadata": {},
          "output_type": "display_data"
        },
        {
          "data": {
            "text/html": [
              "\n",
              "      <iframe id=\"tensorboard-frame-f7aa3878ebde153b\" width=\"100%\" height=\"800\" frameborder=\"0\">\n",
              "      </iframe>\n",
              "      <script>\n",
              "        (function() {\n",
              "          const frame = document.getElementById(\"tensorboard-frame-f7aa3878ebde153b\");\n",
              "          const url = new URL(\"/\", window.location);\n",
              "          const port = 6006;\n",
              "          if (port) {\n",
              "            url.port = port;\n",
              "          }\n",
              "          frame.src = url;\n",
              "        })();\n",
              "      </script>\n",
              "    "
            ],
            "text/plain": [
              "<IPython.core.display.HTML object>"
            ]
          },
          "metadata": {},
          "output_type": "display_data"
        }
      ],
      "source": [
        "%tensorboard --logdir logs/fit"
      ]
    },
    {
      "cell_type": "markdown",
      "metadata": {
        "id": "sMfTZVtHDiSC"
      },
      "source": [
        "A brief overview of the dashboards shown (tabs in top navigation bar):\n",
        "\n",
        "* The **Scalars** dashboard shows how the loss and metrics change with every epoch. You can use it to also track training speed, learning rate, and other scalar values.\n",
        "* The **Graphs** dashboard helps you visualize your model. In this case, the Keras graph of layers is shown which can help you ensure it is built correctly.\n",
        "* The **Distributions** and **Histograms** dashboards show the distribution of a Tensor over time. This can be useful to visualize weights and biases and verify that they are changing in an expected way.\n",
        "\n"
      ]
    },
    {
      "cell_type": "markdown",
      "metadata": {
        "id": "LfRvOZ29DiSC"
      },
      "source": [
        "### Improve the last model with some regularization techniques to obtain at least `0.98` of test accuracy"
      ]
    },
    {
      "cell_type": "code",
      "execution_count": null,
      "metadata": {
        "id": "BU0X-CoEDiSC"
      },
      "outputs": [],
      "source": [
        "model = tf.keras.models.Sequential()\n",
        "model.add(layers.Flatten(input_shape=(28, 28)))\n",
        "\n",
        "## Hidden Layer + regularization\n",
        "model.add(layers.Dense(512, activation='relu'))\n",
        "model.add(layers.Dropout(0.5))\n",
        "model.add(layers.Dense(256, activation='relu'))\n",
        "model.add(layers.Dropout(0.5))\n",
        "### output layer\n",
        "model.add(layers.Dense(10, activation='softmax'))"
      ]
    },
    {
      "cell_type": "code",
      "execution_count": null,
      "metadata": {
        "id": "Dlp7kBq-DiSC"
      },
      "outputs": [],
      "source": [
        "model.compile(\n",
        "    optimizer='adam',\n",
        "    loss='sparse_categorical_crossentropy',\n",
        "    metrics=['accuracy']\n",
        ")"
      ]
    },
    {
      "cell_type": "code",
      "execution_count": null,
      "metadata": {
        "id": "VZWs-R_TDiSC",
        "outputId": "eeae4235-2180-4f3a-8207-7ff28abea6cf"
      },
      "outputs": [
        {
          "name": "stdout",
          "output_type": "stream",
          "text": [
            "Epoch 1/20\n",
            "1500/1500 [==============================] - 5s 3ms/step - loss: 0.5849 - accuracy: 0.8130 - val_loss: 0.1315 - val_accuracy: 0.9600\n",
            "Epoch 2/20\n",
            "1500/1500 [==============================] - 4s 3ms/step - loss: 0.2033 - accuracy: 0.9383 - val_loss: 0.1132 - val_accuracy: 0.9642\n",
            "Epoch 3/20\n",
            "1500/1500 [==============================] - 5s 3ms/step - loss: 0.1592 - accuracy: 0.9510 - val_loss: 0.0998 - val_accuracy: 0.9703\n",
            "Epoch 4/20\n",
            "1500/1500 [==============================] - 5s 3ms/step - loss: 0.1361 - accuracy: 0.9591 - val_loss: 0.0945 - val_accuracy: 0.9722\n",
            "Epoch 5/20\n",
            "1500/1500 [==============================] - 5s 3ms/step - loss: 0.1164 - accuracy: 0.9646 - val_loss: 0.0929 - val_accuracy: 0.9751\n",
            "Epoch 6/20\n",
            "1500/1500 [==============================] - 5s 3ms/step - loss: 0.1125 - accuracy: 0.9654 - val_loss: 0.0951 - val_accuracy: 0.9731\n",
            "Epoch 7/20\n",
            "1500/1500 [==============================] - 5s 3ms/step - loss: 0.0999 - accuracy: 0.9702 - val_loss: 0.0842 - val_accuracy: 0.9753\n",
            "Epoch 8/20\n",
            "1500/1500 [==============================] - 5s 3ms/step - loss: 0.0993 - accuracy: 0.9698 - val_loss: 0.0878 - val_accuracy: 0.9755\n",
            "Epoch 9/20\n",
            "1500/1500 [==============================] - 5s 3ms/step - loss: 0.0950 - accuracy: 0.9710 - val_loss: 0.0980 - val_accuracy: 0.9736\n",
            "Epoch 10/20\n",
            "1500/1500 [==============================] - 5s 3ms/step - loss: 0.0917 - accuracy: 0.9721 - val_loss: 0.0864 - val_accuracy: 0.9768\n",
            "Epoch 11/20\n",
            "1500/1500 [==============================] - 5s 3ms/step - loss: 0.0819 - accuracy: 0.9740 - val_loss: 0.0792 - val_accuracy: 0.9777\n",
            "Epoch 12/20\n",
            "1500/1500 [==============================] - 5s 3ms/step - loss: 0.0801 - accuracy: 0.9756 - val_loss: 0.0814 - val_accuracy: 0.9778\n",
            "Epoch 13/20\n",
            "1500/1500 [==============================] - 5s 3ms/step - loss: 0.0781 - accuracy: 0.9766 - val_loss: 0.0772 - val_accuracy: 0.9800\n",
            "Epoch 14/20\n",
            "1500/1500 [==============================] - 5s 3ms/step - loss: 0.0819 - accuracy: 0.9763 - val_loss: 0.0774 - val_accuracy: 0.9788\n",
            "Epoch 15/20\n",
            "1500/1500 [==============================] - 5s 3ms/step - loss: 0.0803 - accuracy: 0.9765 - val_loss: 0.0834 - val_accuracy: 0.9772\n",
            "Epoch 16/20\n",
            "1500/1500 [==============================] - 4s 3ms/step - loss: 0.0779 - accuracy: 0.9765 - val_loss: 0.0812 - val_accuracy: 0.9795\n",
            "Epoch 17/20\n",
            "1500/1500 [==============================] - 5s 3ms/step - loss: 0.0691 - accuracy: 0.9784 - val_loss: 0.0929 - val_accuracy: 0.9772\n",
            "Epoch 18/20\n",
            "1500/1500 [==============================] - 5s 3ms/step - loss: 0.0736 - accuracy: 0.9786 - val_loss: 0.0846 - val_accuracy: 0.9800\n",
            "Epoch 00018: early stopping\n",
            "Test Loss: 0.07641417533159256\n",
            "Test Accuracy: 0.9807999730110168\n"
          ]
        }
      ],
      "source": [
        "es_callback = keras.callbacks.EarlyStopping(\n",
        "    monitor='val_loss',  # can be 'val_accuracy'\n",
        "    patience=5,  # if during 5 epochs there is no improvement in `val_loss`, the execution will stop\n",
        "    verbose=1)\n",
        "model.fit(\n",
        "    x=x_train,\n",
        "    y=y_train,\n",
        "    epochs=20,\n",
        "    validation_split=0.2,\n",
        "    batch_size=32,\n",
        "    callbacks=[es_callback]\n",
        ")\n",
        "results = model.evaluate(x_test, y_test, verbose=0)\n",
        "print('Test Loss: {}'.format(results[0]))\n",
        "print('Test Accuracy: {}'.format(results[1]))"
      ]
    },
    {
      "cell_type": "code",
      "execution_count": null,
      "metadata": {
        "id": "2fEXJeKdDiSC",
        "outputId": "3d953d01-be44-4c1b-98a9-0986e6281c49"
      },
      "outputs": [
        {
          "name": "stdout",
          "output_type": "stream",
          "text": [
            "Test Loss: 0.07641417533159256\n",
            "Test Accuracy: 0.9807999730110168\n"
          ]
        }
      ],
      "source": [
        "results = model.evaluate(x_test, y_test, verbose=0)\n",
        "print('Test Loss: {}'.format(results[0]))\n",
        "print('Test Accuracy: {}'.format(results[1]))"
      ]
    },
    {
      "cell_type": "markdown",
      "metadata": {
        "id": "i03nhzftDiSC"
      },
      "source": [
        "### Plotting Predictions"
      ]
    },
    {
      "cell_type": "code",
      "execution_count": null,
      "metadata": {
        "id": "swn7abR5DiSC"
      },
      "outputs": [],
      "source": [
        "predictions = model.predict(x_test)\n",
        "predicted_classes = np.argmax(predictions, -1)"
      ]
    },
    {
      "cell_type": "code",
      "execution_count": null,
      "metadata": {
        "id": "Vm7EHYbIDiSC",
        "outputId": "48563a5c-4ee5-4ba1-e8ae-e8d84aa49296"
      },
      "outputs": [
        {
          "data": {
            "image/png": "[encoded data removed]",
            "text/plain": [
              "<Figure size 1008x1008 with 25 Axes>"
            ]
          },
          "metadata": {
            "needs_background": "light"
          },
          "output_type": "display_data"
        }
      ],
      "source": [
        "L = 5\n",
        "W = 5\n",
        "fig, axes = plt.subplots(L, W, figsize=(14, 14))\n",
        "axes = axes.ravel()\n",
        "\n",
        "for i in np.arange(0, L * W):\n",
        "    ind = np.random.randint(len(y_test))\n",
        "    axes[i].imshow(x_test[ind].reshape(28, 28))\n",
        "    prob_pred = np.max(predictions[ind, :])\n",
        "    class_pred = int(predicted_classes[ind])\n",
        "    original_class = int(y_test[ind])\n",
        "    if class_pred == original_class:\n",
        "        color = 'green'\n",
        "    else:\n",
        "        color = 'red'\n",
        "    title = \"Pred: {0} \\n Target: {1} \\n Prob: {2:.3f}\".format(\n",
        "    class_pred, original_class, prob_pred)\n",
        "    axes[i].set_title(title, color=color)\n",
        "    axes[i].axis('off')\n",
        "\n",
        "plt.subplots_adjust(wspace=0.5)"
      ]
    }
  ],
  "metadata": {
    "colab": {
      "name": "Prevent_Overfitting.ipynb",
      "provenance": []
    },
    "kernelspec": {
      "display_name": "Python 3 (ipykernel)",
      "language": "python",
      "name": "python3"
    },
    "language_info": {
      "codemirror_mode": {
        "name": "ipython",
        "version": 3
      },
      "file_extension": ".py",
      "mimetype": "text/x-python",
      "name": "python",
      "nbconvert_exporter": "python",
      "pygments_lexer": "ipython3",
      "version": "3.9.15"
    },
    "toc": {
      "base_numbering": 1,
      "nav_menu": {},
      "number_sections": true,
      "sideBar": true,
      "skip_h1_title": false,
      "title_cell": "Table of Contents",
      "title_sidebar": "Contents",
      "toc_cell": false,
      "toc_position": {},
      "toc_section_display": true,
      "toc_window_display": false
    }
  },
  "nbformat": 4,
  "nbformat_minor": 0
}